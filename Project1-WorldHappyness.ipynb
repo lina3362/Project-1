{
 "cells": [
  {
   "cell_type": "raw",
   "metadata": {},
   "source": [
    "# Data Source: https://worldhappiness.report/\n",
    "# Data came from the Gallup World Poll\n",
    "# The rankings are based on answers to the main life evaluation question asked in the poll. \n",
    "# It is called the Cantril ladder: it asks respondents to think of a ladder,\n",
    "# with the best possible life for them being a 10, and the worst possible life being a 0.\n",
    "# The typical annual sample is 1,000 people. If a country had surveys in each year, then the sample size would be 3,000 people.\n",
    "# The main purpose of this data analysis is to find out:\n",
    "# 1, what score range have the majority of the countries \n",
    "# 2, The data is from 2015 - 2020, what are the overall trend in past 5 years\n",
    "# 3, what are the top 5 countries having the highest happiness score from 2015 - 2020\n",
    "# 4, what's the correlation between the six factors- levels of GDP, life expectancy, generosity, social support, freedom, and corruption\n",
    "# 5, what's the correlation between the happiness score with the each factors\n",
    "# 6, Regression test to see the R square score between 2 factors that are highly related\n",
    "# 7, how many countries are in the survey, and how many regions are these countries belong to\n",
    "# 8, are all the contries have the same scores?"
   ]
  },
  {
   "cell_type": "code",
   "execution_count": null,
   "metadata": {},
   "outputs": [],
   "source": [
    "# Data Collection and Cleaning"
   ]
  },
  {
   "cell_type": "code",
   "execution_count": 30,
   "metadata": {},
   "outputs": [],
   "source": [
    "# Dependencies and Setup\n",
    "import pandas as pd\n",
    "import numpy as np\n",
    "%matplotlib inline\n",
    "import matplotlib.pyplot as plt\n",
    "import scipy.stats as st\n",
    "import plotly\n",
    "import plotly.express as pc\n",
    "from scipy.stats import linregress\n",
    "from sklearn import datasets\n",
    "\n",
    "#import data files\n",
    "data15_path = \"Data/2015.csv\"\n",
    "data2015 = pd.read_csv(data15_path)\n",
    "data2015['Year'] = 2015\n",
    "\n",
    "data16_path = \"Data/2016.csv\"\n",
    "data2016 = pd.read_csv(data16_path)\n",
    "data2016['Year'] = 2016\n",
    "\n",
    "data17_path = \"Data/2017.csv\"\n",
    "data2017 = pd.read_csv(data17_path)\n",
    "data2017['Year'] = 2017\n",
    "\n",
    "data18_path = \"Data/2018.csv\"\n",
    "data2018 = pd.read_csv(data18_path)\n",
    "data2018['Year'] = 2018\n",
    "\n",
    "data19_path = \"Data/2019.csv\"\n",
    "data2019 = pd.read_csv(data19_path)\n",
    "data2019['Year'] = 2019\n",
    "\n",
    "data20_path = \"Data/2020.csv\"\n",
    "data2020 = pd.read_csv(data20_path)\n",
    "data2020['Year'] = 2020\n"
   ]
  },
  {
   "cell_type": "code",
   "execution_count": 31,
   "metadata": {},
   "outputs": [],
   "source": [
    "#match all the files header name\n",
    "data2017 = data2017.rename(columns = {'Happiness.Rank':'Happiness Rank', 'Happiness.Score':'Happiness Score',\n",
    "                                     'Economy..GDP.per.Capita.' : 'Economy (GDP per Capita)', \n",
    "                                      'Health..Life.Expectancy.':'Health (Life Expectancy)',\n",
    "                                     'Trust..Government.Corruption.':'Trust (Government Corruption)', \n",
    "                                      'Dystopia.Residual':'Dystopia Residual'})\n",
    "data2018 = data2018.rename(columns = {'Overall rank':'Happiness Rank', 'Country or region':'Country', 'Score':'Happiness Score',\n",
    "                                     'GDP per capita' : 'Economy (GDP per Capita)', 'Social support':'Family', \n",
    "                                      'Healthy life expectancy':'Health (Life Expectancy)',\n",
    "                                     'Freedom to make life choices':'Freedom', \n",
    "                                      'Perceptions of corruption':'Trust (Government Corruption)'})\n",
    "data2019 = data2019.rename(columns = {'Overall rank':'Happiness Rank', 'Country or region':'Country', 'Score':'Happiness Score',\n",
    "                                     'GDP per capita' : 'Economy (GDP per Capita)', 'Social support':'Family', \n",
    "                                      'Healthy life expectancy':'Health (Life Expectancy)',\n",
    "                                     'Freedom to make life choices':'Freedom', \n",
    "                                      'Perceptions of corruption':'Trust (Government Corruption)'})\n",
    "data2020 = data2020.rename(columns = {'Country name':'Country', 'Ladder score':'Happiness Score',\n",
    "                                     'Logged GDP per capita' : 'Economy (GDP per Capita)', 'Social support':'Family', \n",
    "                                      'Healthy life expectancy':'Health (Life Expectancy)',\n",
    "                                     'Freedom to make life choices':'Freedom', \n",
    "                                      'Perceptions of corruption':'Trust (Government Corruption)'})"
   ]
  },
  {
   "cell_type": "code",
   "execution_count": 32,
   "metadata": {},
   "outputs": [
    {
     "data": {
      "text/html": [
       "<div>\n",
       "<style scoped>\n",
       "    .dataframe tbody tr th:only-of-type {\n",
       "        vertical-align: middle;\n",
       "    }\n",
       "\n",
       "    .dataframe tbody tr th {\n",
       "        vertical-align: top;\n",
       "    }\n",
       "\n",
       "    .dataframe thead th {\n",
       "        text-align: right;\n",
       "    }\n",
       "</style>\n",
       "<table border=\"1\" class=\"dataframe\">\n",
       "  <thead>\n",
       "    <tr style=\"text-align: right;\">\n",
       "      <th></th>\n",
       "      <th>Country</th>\n",
       "      <th>Happiness Rank</th>\n",
       "      <th>Happiness Score</th>\n",
       "      <th>Economy (GDP per Capita)</th>\n",
       "      <th>Family</th>\n",
       "      <th>Health (Life Expectancy)</th>\n",
       "      <th>Freedom</th>\n",
       "      <th>Trust (Government Corruption)</th>\n",
       "      <th>Generosity</th>\n",
       "      <th>Year</th>\n",
       "    </tr>\n",
       "  </thead>\n",
       "  <tbody>\n",
       "    <tr>\n",
       "      <th>0</th>\n",
       "      <td>Switzerland</td>\n",
       "      <td>1</td>\n",
       "      <td>7.587</td>\n",
       "      <td>1.39651</td>\n",
       "      <td>1.34951</td>\n",
       "      <td>0.94143</td>\n",
       "      <td>0.66557</td>\n",
       "      <td>0.41978</td>\n",
       "      <td>0.29678</td>\n",
       "      <td>2015</td>\n",
       "    </tr>\n",
       "    <tr>\n",
       "      <th>1</th>\n",
       "      <td>Iceland</td>\n",
       "      <td>2</td>\n",
       "      <td>7.561</td>\n",
       "      <td>1.30232</td>\n",
       "      <td>1.40223</td>\n",
       "      <td>0.94784</td>\n",
       "      <td>0.62877</td>\n",
       "      <td>0.14145</td>\n",
       "      <td>0.43630</td>\n",
       "      <td>2015</td>\n",
       "    </tr>\n",
       "    <tr>\n",
       "      <th>2</th>\n",
       "      <td>Denmark</td>\n",
       "      <td>3</td>\n",
       "      <td>7.527</td>\n",
       "      <td>1.32548</td>\n",
       "      <td>1.36058</td>\n",
       "      <td>0.87464</td>\n",
       "      <td>0.64938</td>\n",
       "      <td>0.48357</td>\n",
       "      <td>0.34139</td>\n",
       "      <td>2015</td>\n",
       "    </tr>\n",
       "    <tr>\n",
       "      <th>3</th>\n",
       "      <td>Norway</td>\n",
       "      <td>4</td>\n",
       "      <td>7.522</td>\n",
       "      <td>1.45900</td>\n",
       "      <td>1.33095</td>\n",
       "      <td>0.88521</td>\n",
       "      <td>0.66973</td>\n",
       "      <td>0.36503</td>\n",
       "      <td>0.34699</td>\n",
       "      <td>2015</td>\n",
       "    </tr>\n",
       "    <tr>\n",
       "      <th>4</th>\n",
       "      <td>Canada</td>\n",
       "      <td>5</td>\n",
       "      <td>7.427</td>\n",
       "      <td>1.32629</td>\n",
       "      <td>1.32261</td>\n",
       "      <td>0.90563</td>\n",
       "      <td>0.63297</td>\n",
       "      <td>0.32957</td>\n",
       "      <td>0.45811</td>\n",
       "      <td>2015</td>\n",
       "    </tr>\n",
       "  </tbody>\n",
       "</table>\n",
       "</div>"
      ],
      "text/plain": [
       "       Country Happiness Rank  Happiness Score  Economy (GDP per Capita)  \\\n",
       "0  Switzerland              1            7.587                   1.39651   \n",
       "1      Iceland              2            7.561                   1.30232   \n",
       "2      Denmark              3            7.527                   1.32548   \n",
       "3       Norway              4            7.522                   1.45900   \n",
       "4       Canada              5            7.427                   1.32629   \n",
       "\n",
       "    Family  Health (Life Expectancy)  Freedom  Trust (Government Corruption)  \\\n",
       "0  1.34951                   0.94143  0.66557                        0.41978   \n",
       "1  1.40223                   0.94784  0.62877                        0.14145   \n",
       "2  1.36058                   0.87464  0.64938                        0.48357   \n",
       "3  1.33095                   0.88521  0.66973                        0.36503   \n",
       "4  1.32261                   0.90563  0.63297                        0.32957   \n",
       "\n",
       "   Generosity  Year  \n",
       "0     0.29678  2015  \n",
       "1     0.43630  2015  \n",
       "2     0.34139  2015  \n",
       "3     0.34699  2015  \n",
       "4     0.45811  2015  "
      ]
     },
     "execution_count": 32,
     "metadata": {},
     "output_type": "execute_result"
    }
   ],
   "source": [
    "#store all the data into a new data frame\n",
    "combined_data = pd.DataFrame(columns = ['Country', 'Happiness Rank', 'Happiness Score', 'Economy (GDP per Capita)',\n",
    "                                   'Family', 'Health (Life Expectancy)', 'Freedom','Trust (Government Corruption)',\n",
    "                                   'Generosity', 'Year'])\n",
    "n = [data2015, data2016, data2017, data2018, data2019, data2020]\n",
    "\n",
    "for i in n:\n",
    "    combined_data = combined_data.append(i[['Country', 'Happiness Rank', 'Happiness Score', 'Economy (GDP per Capita)',\n",
    "                                   'Family', 'Health (Life Expectancy)', 'Freedom','Trust (Government Corruption)',\n",
    "                                   'Generosity', 'Year']], ignore_index = True)\n",
    "\n",
    "# show the table    \n",
    "combined_data.head()\n"
   ]
  },
  {
   "cell_type": "code",
   "execution_count": null,
   "metadata": {},
   "outputs": [],
   "source": [
    "# Data Review"
   ]
  },
  {
   "cell_type": "code",
   "execution_count": 33,
   "metadata": {},
   "outputs": [],
   "source": [
    "#filter each year's data only show Country and Happiness Score\n",
    "Score2015=data2015[['Country', 'Happiness Score']]\n",
    "Score2016=data2016[['Country', 'Happiness Score']]\n",
    "Score2017=data2017[['Country', 'Happiness Score']]\n",
    "Score2018=data2018[['Country', 'Happiness Score']]\n",
    "Score2019=data2019[['Country', 'Happiness Score']]\n",
    "Score2020=data2020[['Country', 'Happiness Score']]\n",
    "\n",
    "# rename the columns to show the year info\n",
    "Score2015 = Score2015.rename(columns={'Happiness Score': 'Happiness2015'})\n",
    "Score2016 = Score2016.rename(columns={'Happiness Score': 'Happiness2016'})\n",
    "Score2017 = Score2017.rename(columns={'Happiness Score': 'Happiness2017'})\n",
    "Score2018 = Score2018.rename(columns={'Happiness Score': 'Happiness2018'})\n",
    "Score2019 = Score2019.rename(columns={'Happiness Score': 'Happiness2019'})\n",
    "Score2020 = Score2020.rename(columns={'Happiness Score': 'Happiness2020'})\n"
   ]
  },
  {
   "cell_type": "code",
   "execution_count": 34,
   "metadata": {},
   "outputs": [
    {
     "data": {
      "text/html": [
       "<div>\n",
       "<style scoped>\n",
       "    .dataframe tbody tr th:only-of-type {\n",
       "        vertical-align: middle;\n",
       "    }\n",
       "\n",
       "    .dataframe tbody tr th {\n",
       "        vertical-align: top;\n",
       "    }\n",
       "\n",
       "    .dataframe thead th {\n",
       "        text-align: right;\n",
       "    }\n",
       "</style>\n",
       "<table border=\"1\" class=\"dataframe\">\n",
       "  <thead>\n",
       "    <tr style=\"text-align: right;\">\n",
       "      <th></th>\n",
       "      <th>Country</th>\n",
       "      <th>Happiness2015</th>\n",
       "      <th>Happiness2016</th>\n",
       "      <th>Happiness2017</th>\n",
       "      <th>Happiness2018</th>\n",
       "      <th>Happiness2019</th>\n",
       "      <th>Happiness2020</th>\n",
       "    </tr>\n",
       "  </thead>\n",
       "  <tbody>\n",
       "    <tr>\n",
       "      <th>0</th>\n",
       "      <td>Switzerland</td>\n",
       "      <td>7.587</td>\n",
       "      <td>7.509</td>\n",
       "      <td>7.494</td>\n",
       "      <td>7.487</td>\n",
       "      <td>7.480</td>\n",
       "      <td>7.5599</td>\n",
       "    </tr>\n",
       "    <tr>\n",
       "      <th>1</th>\n",
       "      <td>Iceland</td>\n",
       "      <td>7.561</td>\n",
       "      <td>7.501</td>\n",
       "      <td>7.504</td>\n",
       "      <td>7.495</td>\n",
       "      <td>7.494</td>\n",
       "      <td>7.5045</td>\n",
       "    </tr>\n",
       "    <tr>\n",
       "      <th>2</th>\n",
       "      <td>Denmark</td>\n",
       "      <td>7.527</td>\n",
       "      <td>7.526</td>\n",
       "      <td>7.522</td>\n",
       "      <td>7.555</td>\n",
       "      <td>7.600</td>\n",
       "      <td>7.6456</td>\n",
       "    </tr>\n",
       "    <tr>\n",
       "      <th>3</th>\n",
       "      <td>Norway</td>\n",
       "      <td>7.522</td>\n",
       "      <td>7.498</td>\n",
       "      <td>7.537</td>\n",
       "      <td>7.594</td>\n",
       "      <td>7.554</td>\n",
       "      <td>7.4880</td>\n",
       "    </tr>\n",
       "    <tr>\n",
       "      <th>4</th>\n",
       "      <td>Canada</td>\n",
       "      <td>7.427</td>\n",
       "      <td>7.404</td>\n",
       "      <td>7.316</td>\n",
       "      <td>7.328</td>\n",
       "      <td>7.278</td>\n",
       "      <td>7.2321</td>\n",
       "    </tr>\n",
       "  </tbody>\n",
       "</table>\n",
       "</div>"
      ],
      "text/plain": [
       "       Country  Happiness2015  Happiness2016  Happiness2017  Happiness2018  \\\n",
       "0  Switzerland          7.587          7.509          7.494          7.487   \n",
       "1      Iceland          7.561          7.501          7.504          7.495   \n",
       "2      Denmark          7.527          7.526          7.522          7.555   \n",
       "3       Norway          7.522          7.498          7.537          7.594   \n",
       "4       Canada          7.427          7.404          7.316          7.328   \n",
       "\n",
       "   Happiness2019  Happiness2020  \n",
       "0          7.480         7.5599  \n",
       "1          7.494         7.5045  \n",
       "2          7.600         7.6456  \n",
       "3          7.554         7.4880  \n",
       "4          7.278         7.2321  "
      ]
     },
     "execution_count": 34,
     "metadata": {},
     "output_type": "execute_result"
    }
   ],
   "source": [
    "# merge all 5 years data\n",
    "mergedtable = pd.merge(Score2015, Score2016, on=['Country'], how='inner', sort=False)\n",
    "\n",
    "mergedtable1 = pd.merge(Score2017, Score2018, on=['Country'], how='inner', sort=False)\n",
    "\n",
    "mergedtable2 = pd.merge(Score2019, Score2020, on=['Country'], how='inner', sort=False)\n",
    "\n",
    "mergedtable3 = pd.merge(mergedtable, mergedtable1, on=['Country'], how='inner', sort=False)\n",
    "\n",
    "mergedtable4 = pd.merge(mergedtable3, mergedtable2, on=['Country'], how='inner', sort=False)\n",
    "\n",
    "# show the table\n",
    "mergedtable4.head()"
   ]
  },
  {
   "cell_type": "code",
   "execution_count": 35,
   "metadata": {},
   "outputs": [
    {
     "data": {
      "text/html": [
       "<div>\n",
       "<style scoped>\n",
       "    .dataframe tbody tr th:only-of-type {\n",
       "        vertical-align: middle;\n",
       "    }\n",
       "\n",
       "    .dataframe tbody tr th {\n",
       "        vertical-align: top;\n",
       "    }\n",
       "\n",
       "    .dataframe thead th {\n",
       "        text-align: right;\n",
       "    }\n",
       "</style>\n",
       "<table border=\"1\" class=\"dataframe\">\n",
       "  <thead>\n",
       "    <tr style=\"text-align: right;\">\n",
       "      <th></th>\n",
       "      <th>Average Happiness Score</th>\n",
       "      <th>Average Economy (GDP per Capita)</th>\n",
       "      <th>Average Family</th>\n",
       "      <th>Average Health (Life Expectancy)</th>\n",
       "      <th>Average Freedom</th>\n",
       "      <th>Average Trust (Government Corruption)</th>\n",
       "      <th>Average Generosity</th>\n",
       "    </tr>\n",
       "    <tr>\n",
       "      <th>Country</th>\n",
       "      <th></th>\n",
       "      <th></th>\n",
       "      <th></th>\n",
       "      <th></th>\n",
       "      <th></th>\n",
       "      <th></th>\n",
       "      <th></th>\n",
       "    </tr>\n",
       "  </thead>\n",
       "  <tbody>\n",
       "    <tr>\n",
       "      <th>Finland</th>\n",
       "      <td>7.58</td>\n",
       "      <td>1.30</td>\n",
       "      <td>1.35</td>\n",
       "      <td>0.85</td>\n",
       "      <td>0.68</td>\n",
       "      <td>0.36</td>\n",
       "      <td>0.17</td>\n",
       "    </tr>\n",
       "    <tr>\n",
       "      <th>Denmark</th>\n",
       "      <td>7.56</td>\n",
       "      <td>1.34</td>\n",
       "      <td>1.37</td>\n",
       "      <td>0.84</td>\n",
       "      <td>0.68</td>\n",
       "      <td>0.39</td>\n",
       "      <td>0.28</td>\n",
       "    </tr>\n",
       "    <tr>\n",
       "      <th>Norway</th>\n",
       "      <td>7.53</td>\n",
       "      <td>1.44</td>\n",
       "      <td>1.35</td>\n",
       "      <td>0.85</td>\n",
       "      <td>0.69</td>\n",
       "      <td>0.33</td>\n",
       "      <td>0.30</td>\n",
       "    </tr>\n",
       "    <tr>\n",
       "      <th>Switzerland</th>\n",
       "      <td>7.52</td>\n",
       "      <td>1.40</td>\n",
       "      <td>1.34</td>\n",
       "      <td>0.90</td>\n",
       "      <td>0.67</td>\n",
       "      <td>0.37</td>\n",
       "      <td>0.25</td>\n",
       "    </tr>\n",
       "    <tr>\n",
       "      <th>Iceland</th>\n",
       "      <td>7.51</td>\n",
       "      <td>1.33</td>\n",
       "      <td>1.41</td>\n",
       "      <td>0.89</td>\n",
       "      <td>0.67</td>\n",
       "      <td>0.24</td>\n",
       "      <td>0.39</td>\n",
       "    </tr>\n",
       "  </tbody>\n",
       "</table>\n",
       "</div>"
      ],
      "text/plain": [
       "             Average Happiness Score  Average Economy (GDP per Capita)  \\\n",
       "Country                                                                  \n",
       "Finland                         7.58                              1.30   \n",
       "Denmark                         7.56                              1.34   \n",
       "Norway                          7.53                              1.44   \n",
       "Switzerland                     7.52                              1.40   \n",
       "Iceland                         7.51                              1.33   \n",
       "\n",
       "             Average Family  Average Health (Life Expectancy)  \\\n",
       "Country                                                         \n",
       "Finland                1.35                              0.85   \n",
       "Denmark                1.37                              0.84   \n",
       "Norway                 1.35                              0.85   \n",
       "Switzerland            1.34                              0.90   \n",
       "Iceland                1.41                              0.89   \n",
       "\n",
       "             Average Freedom  Average Trust (Government Corruption)  \\\n",
       "Country                                                               \n",
       "Finland                 0.68                                   0.36   \n",
       "Denmark                 0.68                                   0.39   \n",
       "Norway                  0.69                                   0.33   \n",
       "Switzerland             0.67                                   0.37   \n",
       "Iceland                 0.67                                   0.24   \n",
       "\n",
       "             Average Generosity  \n",
       "Country                          \n",
       "Finland                    0.17  \n",
       "Denmark                    0.28  \n",
       "Norway                     0.30  \n",
       "Switzerland                0.25  \n",
       "Iceland                    0.39  "
      ]
     },
     "execution_count": 35,
     "metadata": {},
     "output_type": "execute_result"
    }
   ],
   "source": [
    "#calculate average number for all columns and grouped by country\n",
    "Average_score = round(combined_data.groupby([\"Country\"]).mean()[\"Happiness Score\"],2)\n",
    "Average_GDP = round(combined_data.groupby([\"Country\"]).mean()[\"Economy (GDP per Capita)\"],2)\n",
    "Average_fam = round(combined_data.groupby([\"Country\"]).mean()[\"Family\"],2)\n",
    "Average_health = round(combined_data.groupby([\"Country\"]).mean()[\"Health (Life Expectancy)\"],2)\n",
    "Average_free = round(combined_data.groupby([\"Country\"]).mean()[\"Freedom\"],2)\n",
    "Average_trust = round(combined_data.groupby([\"Country\"]).mean()[\"Trust (Government Corruption)\"],2)\n",
    "Average_gene = round(combined_data.groupby([\"Country\"]).mean()[\"Generosity\"],2)\n",
    "\n",
    "#create a data frame for the summary table\n",
    "summary_table = pd.DataFrame({\"Average Happiness Score\":Average_score, \"Average Economy (GDP per Capita)\":Average_GDP, \n",
    "                             \"Average Family\":Average_fam, \"Average Health (Life Expectancy)\":Average_health, \n",
    "                             \"Average Freedom\":Average_free, \"Average Trust (Government Corruption)\":Average_trust, \n",
    "                             \"Average Generosity\":Average_gene})\n",
    "#sort summary table by average happiness score\n",
    "sorted_summary_df = summary_table.sort_values(by=['Average Happiness Score'], ascending=False)\n",
    "sorted_summary_df.head()"
   ]
  },
  {
   "cell_type": "code",
   "execution_count": null,
   "metadata": {},
   "outputs": [],
   "source": [
    "# data statistics "
   ]
  },
  {
   "cell_type": "code",
   "execution_count": 36,
   "metadata": {},
   "outputs": [
    {
     "data": {
      "text/html": [
       "<div>\n",
       "<style scoped>\n",
       "    .dataframe tbody tr th:only-of-type {\n",
       "        vertical-align: middle;\n",
       "    }\n",
       "\n",
       "    .dataframe tbody tr th {\n",
       "        vertical-align: top;\n",
       "    }\n",
       "\n",
       "    .dataframe thead th {\n",
       "        text-align: right;\n",
       "    }\n",
       "</style>\n",
       "<table border=\"1\" class=\"dataframe\">\n",
       "  <thead>\n",
       "    <tr style=\"text-align: right;\">\n",
       "      <th></th>\n",
       "      <th>Total Countries</th>\n",
       "    </tr>\n",
       "  </thead>\n",
       "  <tbody>\n",
       "    <tr>\n",
       "      <th>0</th>\n",
       "      <td>172</td>\n",
       "    </tr>\n",
       "  </tbody>\n",
       "</table>\n",
       "</div>"
      ],
      "text/plain": [
       "   Total Countries\n",
       "0              172"
      ]
     },
     "execution_count": 36,
     "metadata": {},
     "output_type": "execute_result"
    }
   ],
   "source": [
    "#Count and Display the total number of countries\n",
    "total_countries = len(combined_data['Country'].value_counts())\n",
    "countrycount = pd.DataFrame({\"Total Countries\":[total_countries]})\n",
    "\n",
    "countrycount"
   ]
  },
  {
   "cell_type": "code",
   "execution_count": 37,
   "metadata": {},
   "outputs": [
    {
     "data": {
      "text/html": [
       "<div>\n",
       "<style scoped>\n",
       "    .dataframe tbody tr th:only-of-type {\n",
       "        vertical-align: middle;\n",
       "    }\n",
       "\n",
       "    .dataframe tbody tr th {\n",
       "        vertical-align: top;\n",
       "    }\n",
       "\n",
       "    .dataframe thead th {\n",
       "        text-align: right;\n",
       "    }\n",
       "</style>\n",
       "<table border=\"1\" class=\"dataframe\">\n",
       "  <thead>\n",
       "    <tr style=\"text-align: right;\">\n",
       "      <th></th>\n",
       "      <th>Total Country Count</th>\n",
       "      <th>Percentage</th>\n",
       "    </tr>\n",
       "  </thead>\n",
       "  <tbody>\n",
       "    <tr>\n",
       "      <th>&lt;2.99</th>\n",
       "      <td>4</td>\n",
       "      <td>2.33%</td>\n",
       "    </tr>\n",
       "    <tr>\n",
       "      <th>3.00-3.99</th>\n",
       "      <td>28</td>\n",
       "      <td>16.28%</td>\n",
       "    </tr>\n",
       "    <tr>\n",
       "      <th>4.00-4.99</th>\n",
       "      <td>65</td>\n",
       "      <td>37.79%</td>\n",
       "    </tr>\n",
       "    <tr>\n",
       "      <th>5.00-5.99</th>\n",
       "      <td>74</td>\n",
       "      <td>43.02%</td>\n",
       "    </tr>\n",
       "    <tr>\n",
       "      <th>6.00-6.99</th>\n",
       "      <td>58</td>\n",
       "      <td>33.72%</td>\n",
       "    </tr>\n",
       "    <tr>\n",
       "      <th>7.00+</th>\n",
       "      <td>24</td>\n",
       "      <td>13.95%</td>\n",
       "    </tr>\n",
       "  </tbody>\n",
       "</table>\n",
       "</div>"
      ],
      "text/plain": [
       "           Total Country Count Percentage\n",
       "<2.99                        4      2.33%\n",
       "3.00-3.99                   28     16.28%\n",
       "4.00-4.99                   65     37.79%\n",
       "5.00-5.99                   74     43.02%\n",
       "6.00-6.99                   58     33.72%\n",
       "7.00+                       24     13.95%"
      ]
     },
     "execution_count": 37,
     "metadata": {},
     "output_type": "execute_result"
    }
   ],
   "source": [
    "#Establish bins for scores\n",
    "bins= [0,2.90,3.90,4.90,5.90,6.90,99.99]\n",
    "groups = [\"<2.99\",\"3.00-3.99\",\"4.00-4.99\",\"5.00-5.99\",\"6.00-6.99\",\"7.00+\"]\n",
    "\n",
    "#Categorize the existing countries using the score bins.\n",
    "combined_data[\"Score Group\"] = pd.cut(combined_data[\"Happiness Score\"], bins, labels=groups)\n",
    "\n",
    "#Calculate the total counts and percentage by score groups\n",
    "score_grouped = combined_data.groupby(\"Score Group\")\n",
    "total_count_by_score = score_grouped[\"Country\"].nunique()\n",
    "percentage_by_country = (total_count_by_score/total_countries)\n",
    "\n",
    "#Create a summary data frame to hold the results\n",
    "summary_by_score = pd.DataFrame({\"Total Country Count\":total_count_by_score, \"Percentage\":percentage_by_country})\n",
    "summary_by_score[\"Percentage\"] = summary_by_score[\"Percentage\"].map(\"{:,.2%}\".format)\n",
    "summary_by_score.index = ([\"<2.99\",\"3.00-3.99\",\"4.00-4.99\",\"5.00-5.99\",\"6.00-6.99\",\"7.00+\"])\n",
    "summary_by_score"
   ]
  },
  {
   "cell_type": "code",
   "execution_count": 38,
   "metadata": {},
   "outputs": [
    {
     "data": {
      "text/html": [
       "<div>\n",
       "<style scoped>\n",
       "    .dataframe tbody tr th:only-of-type {\n",
       "        vertical-align: middle;\n",
       "    }\n",
       "\n",
       "    .dataframe tbody tr th {\n",
       "        vertical-align: top;\n",
       "    }\n",
       "\n",
       "    .dataframe thead th {\n",
       "        text-align: right;\n",
       "    }\n",
       "</style>\n",
       "<table border=\"1\" class=\"dataframe\">\n",
       "  <thead>\n",
       "    <tr style=\"text-align: right;\">\n",
       "      <th></th>\n",
       "      <th>Happiness Score Mean</th>\n",
       "      <th>Happiness Score Median</th>\n",
       "      <th>Happiness Score Variance</th>\n",
       "      <th>Happiness Score Std.Dev.</th>\n",
       "      <th>Happiness Score SEM</th>\n",
       "    </tr>\n",
       "    <tr>\n",
       "      <th>Country</th>\n",
       "      <th></th>\n",
       "      <th></th>\n",
       "      <th></th>\n",
       "      <th></th>\n",
       "      <th></th>\n",
       "    </tr>\n",
       "  </thead>\n",
       "  <tbody>\n",
       "    <tr>\n",
       "      <th>Afghanistan</th>\n",
       "      <td>3.355150</td>\n",
       "      <td>3.4675</td>\n",
       "      <td>0.192416</td>\n",
       "      <td>0.438653</td>\n",
       "      <td>0.179079</td>\n",
       "    </tr>\n",
       "    <tr>\n",
       "      <th>Albania</th>\n",
       "      <td>4.740950</td>\n",
       "      <td>4.6870</td>\n",
       "      <td>0.021783</td>\n",
       "      <td>0.147592</td>\n",
       "      <td>0.060254</td>\n",
       "    </tr>\n",
       "    <tr>\n",
       "      <th>Algeria</th>\n",
       "      <td>5.557183</td>\n",
       "      <td>5.4500</td>\n",
       "      <td>0.246257</td>\n",
       "      <td>0.496243</td>\n",
       "      <td>0.202590</td>\n",
       "    </tr>\n",
       "    <tr>\n",
       "      <th>Angola</th>\n",
       "      <td>3.872250</td>\n",
       "      <td>3.8305</td>\n",
       "      <td>0.012605</td>\n",
       "      <td>0.112272</td>\n",
       "      <td>0.056136</td>\n",
       "    </tr>\n",
       "    <tr>\n",
       "      <th>Argentina</th>\n",
       "      <td>6.378617</td>\n",
       "      <td>6.4810</td>\n",
       "      <td>0.081851</td>\n",
       "      <td>0.286096</td>\n",
       "      <td>0.116798</td>\n",
       "    </tr>\n",
       "    <tr>\n",
       "      <th>...</th>\n",
       "      <td>...</td>\n",
       "      <td>...</td>\n",
       "      <td>...</td>\n",
       "      <td>...</td>\n",
       "      <td>...</td>\n",
       "    </tr>\n",
       "    <tr>\n",
       "      <th>Venezuela</th>\n",
       "      <td>5.451700</td>\n",
       "      <td>5.1516</td>\n",
       "      <td>0.683155</td>\n",
       "      <td>0.826532</td>\n",
       "      <td>0.337430</td>\n",
       "    </tr>\n",
       "    <tr>\n",
       "      <th>Vietnam</th>\n",
       "      <td>5.187750</td>\n",
       "      <td>5.1390</td>\n",
       "      <td>0.018699</td>\n",
       "      <td>0.136743</td>\n",
       "      <td>0.055825</td>\n",
       "    </tr>\n",
       "    <tr>\n",
       "      <th>Yemen</th>\n",
       "      <td>3.609400</td>\n",
       "      <td>3.5602</td>\n",
       "      <td>0.071224</td>\n",
       "      <td>0.266878</td>\n",
       "      <td>0.108953</td>\n",
       "    </tr>\n",
       "    <tr>\n",
       "      <th>Zambia</th>\n",
       "      <td>4.446900</td>\n",
       "      <td>4.4455</td>\n",
       "      <td>0.236802</td>\n",
       "      <td>0.486623</td>\n",
       "      <td>0.198663</td>\n",
       "    </tr>\n",
       "    <tr>\n",
       "      <th>Zimbabwe</th>\n",
       "      <td>3.888700</td>\n",
       "      <td>3.7835</td>\n",
       "      <td>0.210040</td>\n",
       "      <td>0.458302</td>\n",
       "      <td>0.187101</td>\n",
       "    </tr>\n",
       "  </tbody>\n",
       "</table>\n",
       "<p>172 rows × 5 columns</p>\n",
       "</div>"
      ],
      "text/plain": [
       "             Happiness Score Mean  Happiness Score Median  \\\n",
       "Country                                                     \n",
       "Afghanistan              3.355150                  3.4675   \n",
       "Albania                  4.740950                  4.6870   \n",
       "Algeria                  5.557183                  5.4500   \n",
       "Angola                   3.872250                  3.8305   \n",
       "Argentina                6.378617                  6.4810   \n",
       "...                           ...                     ...   \n",
       "Venezuela                5.451700                  5.1516   \n",
       "Vietnam                  5.187750                  5.1390   \n",
       "Yemen                    3.609400                  3.5602   \n",
       "Zambia                   4.446900                  4.4455   \n",
       "Zimbabwe                 3.888700                  3.7835   \n",
       "\n",
       "             Happiness Score Variance  Happiness Score Std.Dev.  \\\n",
       "Country                                                           \n",
       "Afghanistan                  0.192416                  0.438653   \n",
       "Albania                      0.021783                  0.147592   \n",
       "Algeria                      0.246257                  0.496243   \n",
       "Angola                       0.012605                  0.112272   \n",
       "Argentina                    0.081851                  0.286096   \n",
       "...                               ...                       ...   \n",
       "Venezuela                    0.683155                  0.826532   \n",
       "Vietnam                      0.018699                  0.136743   \n",
       "Yemen                        0.071224                  0.266878   \n",
       "Zambia                       0.236802                  0.486623   \n",
       "Zimbabwe                     0.210040                  0.458302   \n",
       "\n",
       "             Happiness Score SEM  \n",
       "Country                           \n",
       "Afghanistan             0.179079  \n",
       "Albania                 0.060254  \n",
       "Algeria                 0.202590  \n",
       "Angola                  0.056136  \n",
       "Argentina               0.116798  \n",
       "...                          ...  \n",
       "Venezuela               0.337430  \n",
       "Vietnam                 0.055825  \n",
       "Yemen                   0.108953  \n",
       "Zambia                  0.198663  \n",
       "Zimbabwe                0.187101  \n",
       "\n",
       "[172 rows x 5 columns]"
      ]
     },
     "execution_count": 38,
     "metadata": {},
     "output_type": "execute_result"
    }
   ],
   "source": [
    "# Use groupby and summary statistical methods to calculate the following properties of country: \n",
    "# mean, median, variance, standard deviation, and SEM of the happiness score. \n",
    "score_mean = combined_data.groupby([\"Country\"])['Happiness Score'].mean()\n",
    "score_median = combined_data.groupby([\"Country\"])['Happiness Score'].median()\n",
    "score_variance = combined_data.groupby([\"Country\"])['Happiness Score'].var()\n",
    "score_stdv = combined_data.groupby([\"Country\"])['Happiness Score'].std()\n",
    "score_sem = combined_data.groupby([\"Country\"])['Happiness Score'].sem()\n",
    "\n",
    "# Assemble the resulting series into a single summary dataframe.\n",
    "summary_df = pd.DataFrame({\"Happiness Score Mean\":score_mean, \n",
    "                           \"Happiness Score Median\":score_median, \n",
    "                           \"Happiness Score Variance\":score_variance, \n",
    "                           \"Happiness Score Std.Dev.\":score_stdv, \n",
    "                           \"Happiness Score SEM\":score_sem})\n",
    "summary_df\n"
   ]
  },
  {
   "cell_type": "code",
   "execution_count": null,
   "metadata": {},
   "outputs": [],
   "source": [
    "# Data Visualization "
   ]
  },
  {
   "cell_type": "code",
   "execution_count": 66,
   "metadata": {},
   "outputs": [
    {
     "name": "stdout",
     "output_type": "stream",
     "text": [
      "Requirement already satisfied: seaborn in c:\\users\\linam\\anaconda3\\envs\\pthondata\\lib\\site-packages (0.11.0)\n",
      "Requirement already satisfied: scipy>=1.0 in c:\\users\\linam\\anaconda3\\envs\\pthondata\\lib\\site-packages (from seaborn) (1.5.2)\n",
      "Requirement already satisfied: matplotlib>=2.2 in c:\\users\\linam\\anaconda3\\envs\\pthondata\\lib\\site-packages (from seaborn) (3.3.2)\n",
      "Requirement already satisfied: numpy>=1.15 in c:\\users\\linam\\anaconda3\\envs\\pthondata\\lib\\site-packages (from seaborn) (1.19.2)\n",
      "Requirement already satisfied: pandas>=0.23 in c:\\users\\linam\\anaconda3\\envs\\pthondata\\lib\\site-packages (from seaborn) (1.1.2)\n",
      "Requirement already satisfied: cycler>=0.10 in c:\\users\\linam\\anaconda3\\envs\\pthondata\\lib\\site-packages (from matplotlib>=2.2->seaborn) (0.10.0)\n",
      "Requirement already satisfied: pillow>=6.2.0 in c:\\users\\linam\\anaconda3\\envs\\pthondata\\lib\\site-packages (from matplotlib>=2.2->seaborn) (7.2.0)\n",
      "Requirement already satisfied: python-dateutil>=2.1 in c:\\users\\linam\\anaconda3\\envs\\pthondata\\lib\\site-packages (from matplotlib>=2.2->seaborn) (2.8.1)\n",
      "Requirement already satisfied: pyparsing!=2.0.4,!=2.1.2,!=2.1.6,>=2.0.3 in c:\\users\\linam\\anaconda3\\envs\\pthondata\\lib\\site-packages (from matplotlib>=2.2->seaborn) (2.4.7)\n",
      "Requirement already satisfied: certifi>=2020.06.20 in c:\\users\\linam\\anaconda3\\envs\\pthondata\\lib\\site-packages (from matplotlib>=2.2->seaborn) (2020.6.20)\n",
      "Requirement already satisfied: kiwisolver>=1.0.1 in c:\\users\\linam\\anaconda3\\envs\\pthondata\\lib\\site-packages (from matplotlib>=2.2->seaborn) (1.2.0)\n",
      "Requirement already satisfied: pytz>=2017.2 in c:\\users\\linam\\anaconda3\\envs\\pthondata\\lib\\site-packages (from pandas>=0.23->seaborn) (2020.1)\n",
      "Requirement already satisfied: six in c:\\users\\linam\\anaconda3\\envs\\pthondata\\lib\\site-packages (from cycler>=0.10->matplotlib>=2.2->seaborn) (1.15.0)\n"
     ]
    }
   ],
   "source": [
    "# install seaborn to run correlation matrix\n",
    "!pip install seaborn\n",
    "\n"
   ]
  },
  {
   "cell_type": "code",
   "execution_count": 39,
   "metadata": {},
   "outputs": [],
   "source": [
    "import seaborn as sns\n"
   ]
  },
  {
   "cell_type": "code",
   "execution_count": 40,
   "metadata": {},
   "outputs": [
    {
     "data": {
      "image/png": "[encoded data removed]",
      "text/plain": [
       "<Figure size 576x432 with 2 Axes>"
      ]
     },
     "metadata": {
      "needs_background": "light"
     },
     "output_type": "display_data"
    }
   ],
   "source": [
    "# run correlation matrix\n",
    "corrMatrix = summary_table.corr()\n",
    "fig, ax = plt.subplots(figsize=(8,6))\n",
    "sns.heatmap(corrMatrix.round(2), annot=True)\n",
    "\n",
    "# set up title\n",
    "plt.title(\"Correlation Map\")\n",
    "plt.savefig(\"Output_data/CorrelationMap.png\")\n",
    "plt.show()"
   ]
  },
  {
   "cell_type": "code",
   "execution_count": 42,
   "metadata": {},
   "outputs": [
    {
     "name": "stdout",
     "output_type": "stream",
     "text": [
      "The correlation between both factors is 0.79\n"
     ]
    },
    {
     "data": {
      "image/png": "[encoded data removed]",
      "text/plain": [
       "<Figure size 432x288 with 1 Axes>"
      ]
     },
     "metadata": {
      "needs_background": "light"
     },
     "output_type": "display_data"
    }
   ],
   "source": [
    "# run a scatter figure to show the correlation between overall score and Economy (GDP)\n",
    "plt.scatter(summary_table.iloc[:,0],summary_table.iloc[:,1])\n",
    "\n",
    "#set up labels\n",
    "plt.xlabel('Happiness Score')\n",
    "plt.ylabel('GDP per capita')\n",
    "Happiness_Score = summary_table.iloc[:,0]\n",
    "GDP_per_capita = summary_table.iloc[:,1]\n",
    "correlation = st.pearsonr(Happiness_Score,GDP_per_capita)\n",
    "print(f\"The correlation between both factors is {round(correlation[0],2)}\")\n",
    "\n",
    "#save the figure as a png file\n",
    "plt.savefig(\"Output_data/Happiness vs.Economy (GDP).png\")\n",
    "plt.show()\n"
   ]
  },
  {
   "cell_type": "code",
   "execution_count": 43,
   "metadata": {},
   "outputs": [
    {
     "name": "stdout",
     "output_type": "stream",
     "text": [
      "The correlation between both factors is 0.76\n"
     ]
    },
    {
     "data": {
      "image/png": "[encoded data removed]",
      "text/plain": [
       "<Figure size 432x288 with 1 Axes>"
      ]
     },
     "metadata": {
      "needs_background": "light"
     },
     "output_type": "display_data"
    }
   ],
   "source": [
    "# run a scatter figure to show the correlation between overall score and Family\n",
    "plt.scatter(summary_table.iloc[:,0],summary_table.iloc[:,2])\n",
    "\n",
    "#set up labels\n",
    "plt.xlabel('Happiness Score')\n",
    "plt.ylabel('Family')\n",
    "Happiness_Score = summary_table.iloc[:,0]\n",
    "Family = summary_table.iloc[:,2]\n",
    "correlation = st.pearsonr(Happiness_Score,Family)\n",
    "print(f\"The correlation between both factors is {round(correlation[0],2)}\")\n",
    "\n",
    "#save the figure as a png file\n",
    "plt.savefig(\"Output_data/Happiness vs.Family.png\")\n",
    "plt.show()"
   ]
  },
  {
   "cell_type": "code",
   "execution_count": 44,
   "metadata": {},
   "outputs": [
    {
     "name": "stdout",
     "output_type": "stream",
     "text": [
      "The correlation between both factors is 0.77\n"
     ]
    },
    {
     "data": {
      "image/png": "[encoded data removed]",
      "text/plain": [
       "<Figure size 432x288 with 1 Axes>"
      ]
     },
     "metadata": {
      "needs_background": "light"
     },
     "output_type": "display_data"
    }
   ],
   "source": [
    "# run a scatter figure to show the correlation between overall score and Health\n",
    "plt.scatter(summary_table.iloc[:,0],summary_table.iloc[:,3])\n",
    "\n",
    "#set up labels\n",
    "plt.xlabel('Happiness Score')\n",
    "plt.ylabel('Health (Life Expectancy)')\n",
    "Happiness_Score = summary_table.iloc[:,0]\n",
    "Health = summary_table.iloc[:,3]\n",
    "correlation = st.pearsonr(Happiness_Score,Health)\n",
    "print(f\"The correlation between both factors is {round(correlation[0],2)}\")\n",
    "\n",
    "#save the figure as a png file\n",
    "plt.savefig(\"Output_data/Happiness vs. Health.png\")\n",
    "plt.show()"
   ]
  },
  {
   "cell_type": "code",
   "execution_count": 45,
   "metadata": {},
   "outputs": [
    {
     "name": "stdout",
     "output_type": "stream",
     "text": [
      "The correlation between both factors is 0.57\n"
     ]
    },
    {
     "data": {
      "image/png": "[encoded data removed]",
      "text/plain": [
       "<Figure size 432x288 with 1 Axes>"
      ]
     },
     "metadata": {
      "needs_background": "light"
     },
     "output_type": "display_data"
    }
   ],
   "source": [
    "# run a scatter figure to show the correlation between overall score and Freedom\n",
    "plt.scatter(summary_table.iloc[:,0],summary_table.iloc[:,4])\n",
    "\n",
    "#set up labels\n",
    "plt.xlabel('Happiness Score')\n",
    "plt.ylabel('Freedom')\n",
    "Happiness_Score = summary_table.iloc[:,0]\n",
    "Freedom = summary_table.iloc[:,4]\n",
    "correlation = st.pearsonr(Happiness_Score,Freedom)\n",
    "print(f\"The correlation between both factors is {round(correlation[0],2)}\")\n",
    "\n",
    "#save the figure as a png file\n",
    "plt.savefig(\"Output_data/Happiness vs. Freedom.png\")\n",
    "plt.show()"
   ]
  },
  {
   "cell_type": "code",
   "execution_count": 46,
   "metadata": {},
   "outputs": [
    {
     "name": "stdout",
     "output_type": "stream",
     "text": [
      "The correlation between both factors is 0.23\n"
     ]
    },
    {
     "data": {
      "image/png": "[encoded data removed]",
      "text/plain": [
       "<Figure size 432x288 with 1 Axes>"
      ]
     },
     "metadata": {
      "needs_background": "light"
     },
     "output_type": "display_data"
    }
   ],
   "source": [
    "# run a scatter figure to show the correlation between overall score and Trust\n",
    "plt.scatter(summary_table.iloc[:,0],summary_table.iloc[:,5])\n",
    "\n",
    "#set up labels\n",
    "plt.xlabel('Happiness Score')\n",
    "plt.ylabel('Trust (Government Corruption)')\n",
    "Happiness_Score = summary_table.iloc[:,0]\n",
    "Trust = summary_table.iloc[:,5]\n",
    "correlation = st.pearsonr(Happiness_Score,Trust)\n",
    "print(f\"The correlation between both factors is {round(correlation[0],2)}\")\n",
    "\n",
    "#save the figure as a png file\n",
    "plt.savefig(\"Output_data/Happiness vs. Trust.png\")\n",
    "plt.show()"
   ]
  },
  {
   "cell_type": "code",
   "execution_count": 47,
   "metadata": {},
   "outputs": [
    {
     "name": "stdout",
     "output_type": "stream",
     "text": [
      "The correlation between both factors is 0.12\n"
     ]
    },
    {
     "data": {
      "image/png": "[encoded data removed]",
      "text/plain": [
       "<Figure size 432x288 with 1 Axes>"
      ]
     },
     "metadata": {
      "needs_background": "light"
     },
     "output_type": "display_data"
    }
   ],
   "source": [
    "# run a scatter figure to show the correlation between overall score and Generosity\n",
    "plt.scatter(summary_table.iloc[:,0],summary_table.iloc[:,6])\n",
    "\n",
    "#set up labels\n",
    "plt.xlabel('Happiness Score')\n",
    "plt.ylabel('Generosity')\n",
    "Happiness_Score = summary_table.iloc[:,0]\n",
    "Generosity = summary_table.iloc[:,6]\n",
    "correlation = st.pearsonr(Happiness_Score,Generosity)\n",
    "print(f\"The correlation between both factors is {round(correlation[0],2)}\")\n",
    "\n",
    "#save the figure as a png file\n",
    "plt.savefig(\"Output_data/Happiness vs. Generosity.png\")\n",
    "plt.show()"
   ]
  },
  {
   "cell_type": "code",
   "execution_count": 48,
   "metadata": {},
   "outputs": [
    {
     "data": {
      "image/png": "[encoded data removed]",
      "text/plain": [
       "<Figure size 360x216 with 1 Axes>"
      ]
     },
     "metadata": {
      "needs_background": "light"
     },
     "output_type": "display_data"
    },
    {
     "data": {
      "image/png": "[encoded data removed]",
      "text/plain": [
       "<Figure size 360x216 with 1 Axes>"
      ]
     },
     "metadata": {
      "needs_background": "light"
     },
     "output_type": "display_data"
    },
    {
     "data": {
      "image/png": "[encoded data removed]",
      "text/plain": [
       "<Figure size 360x216 with 1 Axes>"
      ]
     },
     "metadata": {
      "needs_background": "light"
     },
     "output_type": "display_data"
    },
    {
     "data": {
      "image/png": "[encoded data removed]",
      "text/plain": [
       "<Figure size 360x216 with 1 Axes>"
      ]
     },
     "metadata": {
      "needs_background": "light"
     },
     "output_type": "display_data"
    },
    {
     "data": {
      "image/png": "[encoded data removed]",
      "text/plain": [
       "<Figure size 360x216 with 1 Axes>"
      ]
     },
     "metadata": {
      "needs_background": "light"
     },
     "output_type": "display_data"
    },
    {
     "data": {
      "image/png": "[encoded data removed]",
      "text/plain": [
       "<Figure size 360x216 with 1 Axes>"
      ]
     },
     "metadata": {
      "needs_background": "light"
     },
     "output_type": "display_data"
    }
   ],
   "source": [
    "#run 5 line charts to show the top 5 countries that have highest score from 2015 - 2020\n",
    "values = data2020.iloc[0:5,3]\n",
    "fig2, ax2 = plt.subplots(figsize=(5,3))\n",
    "plt.xlabel(\"Country Name\")\n",
    "plt.ylabel(\"Happiness Score\")\n",
    "plt.plot(data2020.iloc[0:5,0], values, color = 'r')\n",
    "plt.xticks(data2020.iloc[0:5,0], rotation='vertical')\n",
    "plt.title(\"2020 Top 5 Countries\")\n",
    "plt.ylim(7.3,7.85)\n",
    "\n",
    "values = data2019.iloc[0:5,2]\n",
    "fig2, ax2 = plt.subplots(figsize=(5,3))\n",
    "plt.xlabel(\"Country Name\")\n",
    "plt.ylabel(\"Happiness Score\")\n",
    "plt.plot(data2019.iloc[0:5,1], values, color = 'y')\n",
    "plt.xticks(data2019.iloc[0:5,1], rotation='vertical')\n",
    "plt.title(\"2019 Top 5 Countries\")\n",
    "plt.ylim(7.3,7.85)\n",
    "\n",
    "values = data2018.iloc[0:5,2]\n",
    "fig2, ax2 = plt.subplots(figsize=(5,3))\n",
    "plt.xlabel(\"Country Name\")\n",
    "plt.ylabel(\"Happiness Score\")\n",
    "plt.plot(data2018.iloc[0:5,1], values, color = 'b')\n",
    "plt.xticks(data2018.iloc[0:5,1], rotation='vertical')\n",
    "plt.title(\"2018 Top 5 Countries\")\n",
    "plt.ylim(7.3,7.85)\n",
    "\n",
    "values = data2017.iloc[0:5,2]\n",
    "fig2, ax2 = plt.subplots(figsize=(5,3))\n",
    "plt.xlabel(\"Country Name\")\n",
    "plt.ylabel(\"Happiness Score\")\n",
    "plt.plot(data2017.iloc[0:5,0], values, color = 'g')\n",
    "plt.xticks(data2017.iloc[0:5,0], rotation='vertical')\n",
    "plt.title(\"2017 Top 5 Countries\")\n",
    "plt.ylim(7.3,7.85)\n",
    "\n",
    "values = data2016.iloc[0:5,3]\n",
    "fig2, ax2 = plt.subplots(figsize=(5,3))\n",
    "plt.xlabel(\"Country Name\")\n",
    "plt.ylabel(\"Happiness Score\")\n",
    "plt.plot(data2016.iloc[0:5,0], values, color = 'orange')\n",
    "plt.xticks(data2016.iloc[0:5,0], rotation='vertical')\n",
    "plt.title(\"2016 Top 5 Countries\")\n",
    "plt.ylim(7.3,7.85)\n",
    "\n",
    "values = data2015.iloc[0:5,3]\n",
    "fig2, ax2 = plt.subplots(figsize=(5,3))\n",
    "plt.xlabel(\"Country Name\")\n",
    "plt.ylabel(\"Happiness Score\")\n",
    "plt.plot(data2015.iloc[0:5,0], values, color = 'gray')\n",
    "plt.xticks(data2015.iloc[0:5,0], rotation='vertical')\n",
    "plt.title(\"2015 Top 5 Countries\")\n",
    "plt.ylim(7.3,7.85)\n",
    "\n",
    "#save the figures as a png file\n",
    "plt.savefig(\"Output_data/Top 5 Countries 2015-2020.png\")\n",
    "plt.show()"
   ]
  },
  {
   "cell_type": "code",
   "execution_count": 49,
   "metadata": {},
   "outputs": [
    {
     "data": {
      "text/plain": [
       "<Figure size 432x288 with 0 Axes>"
      ]
     },
     "metadata": {},
     "output_type": "display_data"
    },
    {
     "data": {
      "image/png": "[encoded data removed]",
      "text/plain": [
       "<Figure size 360x216 with 1 Axes>"
      ]
     },
     "metadata": {
      "needs_background": "light"
     },
     "output_type": "display_data"
    },
    {
     "data": {
      "text/plain": [
       "<Figure size 432x288 with 0 Axes>"
      ]
     },
     "metadata": {},
     "output_type": "display_data"
    },
    {
     "data": {
      "image/png": "[encoded data removed]",
      "text/plain": [
       "<Figure size 360x216 with 1 Axes>"
      ]
     },
     "metadata": {
      "needs_background": "light"
     },
     "output_type": "display_data"
    },
    {
     "data": {
      "text/plain": [
       "<Figure size 432x288 with 0 Axes>"
      ]
     },
     "metadata": {},
     "output_type": "display_data"
    },
    {
     "data": {
      "image/png": "[encoded data removed]",
      "text/plain": [
       "<Figure size 360x216 with 1 Axes>"
      ]
     },
     "metadata": {
      "needs_background": "light"
     },
     "output_type": "display_data"
    },
    {
     "data": {
      "text/plain": [
       "<Figure size 432x288 with 0 Axes>"
      ]
     },
     "metadata": {},
     "output_type": "display_data"
    },
    {
     "data": {
      "image/png": "[encoded data removed]",
      "text/plain": [
       "<Figure size 360x216 with 1 Axes>"
      ]
     },
     "metadata": {
      "needs_background": "light"
     },
     "output_type": "display_data"
    },
    {
     "data": {
      "text/plain": [
       "<Figure size 432x288 with 0 Axes>"
      ]
     },
     "metadata": {},
     "output_type": "display_data"
    },
    {
     "data": {
      "image/png": "[encoded data removed]",
      "text/plain": [
       "<Figure size 360x216 with 1 Axes>"
      ]
     },
     "metadata": {
      "needs_background": "light"
     },
     "output_type": "display_data"
    },
    {
     "data": {
      "text/plain": [
       "<Figure size 432x288 with 0 Axes>"
      ]
     },
     "metadata": {},
     "output_type": "display_data"
    },
    {
     "data": {
      "image/png": "[encoded data removed]",
      "text/plain": [
       "<Figure size 360x216 with 1 Axes>"
      ]
     },
     "metadata": {
      "needs_background": "light"
     },
     "output_type": "display_data"
    }
   ],
   "source": [
    "#run 5 bar charts to show the average score for each factor from 2015 - 2020\n",
    "\n",
    "y_axis = [\"2015\", \"2016\", \"2017\", \"2018\", \"2019\", \"2020\"]\n",
    "x_axis = [round(data2015[\"Economy (GDP per Capita)\"].mean(),2), round(data2016[\"Economy (GDP per Capita)\"].mean(),2), round(data2017[\"Economy (GDP per Capita)\"].mean(),2),round(data2018[\"Economy (GDP per Capita)\"].mean(),2), \n",
    "          round(data2019[\"Economy (GDP per Capita)\"].mean(),2), round(data2020[\"Economy (GDP per Capita)\"].mean(),2)]\n",
    "fig = plt.figure()\n",
    "fig, ax = plt.subplots(figsize=(5,3))\n",
    "plt.barh(y_axis, x_axis, align='center', color = 'b', alpha = 0.7)\n",
    "plt.xlabel(\"Economy (GDP per Capita)\")\n",
    "plt.ylabel(\"Years\")\n",
    "plt.title(\"Average GDP by Years\")\n",
    "\n",
    "y_axis = [\"2015\", \"2016\", \"2017\", \"2018\", \"2019\", \"2020\"]\n",
    "x_axis = [round(data2015[\"Family\"].mean(),2), round(data2016[\"Family\"].mean(),2), round(data2017[\"Family\"].mean(),2),round(data2018[\"Family\"].mean(),2), \n",
    "          round(data2019[\"Family\"].mean(),2), round(data2020[\"Family\"].mean(),2)]\n",
    "fig = plt.figure()\n",
    "fig, ax = plt.subplots(figsize=(5,3))\n",
    "plt.barh(y_axis, x_axis, align='center', color = 'y', alpha = 0.7)\n",
    "plt.xlabel(\"Family Score\")\n",
    "plt.ylabel(\"Years\")\n",
    "plt.title(\"Average Family by Years\")\n",
    "\n",
    "y_axis = [\"2015\", \"2016\", \"2017\", \"2018\", \"2019\", \"2020\"]\n",
    "x_axis = [round(data2015[\"Health (Life Expectancy)\"].mean(),2), round(data2016[\"Health (Life Expectancy)\"].mean(),2), round(data2017[\"Health (Life Expectancy)\"].mean(),2),round(data2018[\"Health (Life Expectancy)\"].mean(),2), \n",
    "          round(data2019[\"Health (Life Expectancy)\"].mean(),2), round(data2020[\"Health (Life Expectancy)\"].mean(),2)]\n",
    "fig = plt.figure()\n",
    "fig, ax = plt.subplots(figsize=(5,3))\n",
    "plt.barh(y_axis, x_axis, align='center', color = 'g', alpha = 0.7)\n",
    "plt.xlabel(\"Health (Life Expectancy)\")\n",
    "plt.ylabel(\"Years\")\n",
    "plt.title(\"Average Health by Years\")\n",
    "\n",
    "\n",
    "x_axis = [\"2015\", \"2016\", \"2017\", \"2018\", \"2019\", \"2020\"]\n",
    "y_axis = [round(data2015[\"Freedom\"].mean(),2), round(data2016[\"Freedom\"].mean(),2), round(data2017[\"Freedom\"].mean(),2),round(data2018[\"Freedom\"].mean(),2), \n",
    "          round(data2019[\"Freedom\"].mean(),2), round(data2020[\"Freedom\"].mean(),2)]\n",
    "fig = plt.figure()\n",
    "fig, ax = plt.subplots(figsize=(5,3))\n",
    "plt.barh(x_axis, y_axis, align='center', color = 'r', alpha = 0.7)\n",
    "plt.xlabel(\"Freedom Score\")\n",
    "plt.ylabel(\"Years\")\n",
    "plt.title(\"Average Freedom Score by Years\")\n",
    "\n",
    "x_axis = [\"2015\", \"2016\", \"2017\", \"2018\", \"2019\", \"2020\"]\n",
    "y_axis = [round(data2015[\"Trust (Government Corruption)\"].mean(),2), round(data2016[\"Trust (Government Corruption)\"].mean(),2), round(data2017[\"Trust (Government Corruption)\"].mean(),2),round(data2018[\"Trust (Government Corruption)\"].mean(),2), \n",
    "          round(data2019[\"Trust (Government Corruption)\"].mean(),2), round(data2020[\"Trust (Government Corruption)\"].mean(),2)]\n",
    "fig = plt.figure()\n",
    "fig, ax = plt.subplots(figsize=(5,3))\n",
    "plt.barh(x_axis, y_axis, align='center', color = 'orange', alpha = 0.7)\n",
    "plt.xlabel(\"Government Score\")\n",
    "plt.ylabel(\"Years\")\n",
    "plt.title(\"Average Trust Score by Years\")\n",
    "\n",
    "x_axis = [\"2015\", \"2016\", \"2017\", \"2018\", \"2019\", \"2020\"]\n",
    "y_axis = [round(data2015[\"Generosity\"].mean(),2), round(data2016[\"Generosity\"].mean(),2), round(data2017[\"Generosity\"].mean(),2),round(data2018[\"Generosity\"].mean(),2), \n",
    "          round(data2019[\"Generosity\"].mean(),2), round(data2020[\"Generosity\"].mean(),2)]\n",
    "fig = plt.figure()\n",
    "fig, ax = plt.subplots(figsize=(5,3))\n",
    "plt.barh(x_axis, y_axis, align='center', color = 'gray', alpha = 0.7)\n",
    "plt.xlabel(\"Generosity\")\n",
    "plt.ylabel(\"Years\")\n",
    "plt.title(\"Average Generosity Score by Years\")\n",
    "\n",
    "#save the figures as a png file\n",
    "plt.savefig(\"Output_data/Average scores 2015-2020.png\")\n",
    "plt.show()"
   ]
  },
  {
   "cell_type": "code",
   "execution_count": 50,
   "metadata": {},
   "outputs": [
    {
     "data": {
      "text/html": [
       "<div>\n",
       "<style scoped>\n",
       "    .dataframe tbody tr th:only-of-type {\n",
       "        vertical-align: middle;\n",
       "    }\n",
       "\n",
       "    .dataframe tbody tr th {\n",
       "        vertical-align: top;\n",
       "    }\n",
       "\n",
       "    .dataframe thead th {\n",
       "        text-align: right;\n",
       "    }\n",
       "</style>\n",
       "<table border=\"1\" class=\"dataframe\">\n",
       "  <thead>\n",
       "    <tr style=\"text-align: right;\">\n",
       "      <th></th>\n",
       "      <th>Region</th>\n",
       "      <th>Count</th>\n",
       "    </tr>\n",
       "  </thead>\n",
       "  <tbody>\n",
       "    <tr>\n",
       "      <th>0</th>\n",
       "      <td>Australia and New Zealand</td>\n",
       "      <td>2</td>\n",
       "    </tr>\n",
       "    <tr>\n",
       "      <th>1</th>\n",
       "      <td>Central and Eastern Europe</td>\n",
       "      <td>29</td>\n",
       "    </tr>\n",
       "    <tr>\n",
       "      <th>2</th>\n",
       "      <td>Eastern Asia</td>\n",
       "      <td>6</td>\n",
       "    </tr>\n",
       "    <tr>\n",
       "      <th>3</th>\n",
       "      <td>Latin America and Caribbean</td>\n",
       "      <td>22</td>\n",
       "    </tr>\n",
       "    <tr>\n",
       "      <th>4</th>\n",
       "      <td>Middle East and Northern Africa</td>\n",
       "      <td>20</td>\n",
       "    </tr>\n",
       "    <tr>\n",
       "      <th>5</th>\n",
       "      <td>North America</td>\n",
       "      <td>2</td>\n",
       "    </tr>\n",
       "    <tr>\n",
       "      <th>6</th>\n",
       "      <td>Southeastern Asia</td>\n",
       "      <td>9</td>\n",
       "    </tr>\n",
       "    <tr>\n",
       "      <th>7</th>\n",
       "      <td>Southern Asia</td>\n",
       "      <td>7</td>\n",
       "    </tr>\n",
       "    <tr>\n",
       "      <th>8</th>\n",
       "      <td>Sub-Saharan Africa</td>\n",
       "      <td>40</td>\n",
       "    </tr>\n",
       "    <tr>\n",
       "      <th>9</th>\n",
       "      <td>Western Europe</td>\n",
       "      <td>21</td>\n",
       "    </tr>\n",
       "  </tbody>\n",
       "</table>\n",
       "</div>"
      ],
      "text/plain": [
       "                            Region  Count\n",
       "0        Australia and New Zealand      2\n",
       "1       Central and Eastern Europe     29\n",
       "2                     Eastern Asia      6\n",
       "3      Latin America and Caribbean     22\n",
       "4  Middle East and Northern Africa     20\n",
       "5                    North America      2\n",
       "6                Southeastern Asia      9\n",
       "7                    Southern Asia      7\n",
       "8               Sub-Saharan Africa     40\n",
       "9                   Western Europe     21"
      ]
     },
     "execution_count": 50,
     "metadata": {},
     "output_type": "execute_result"
    }
   ],
   "source": [
    "# create a data frame to count the countries in each region\n",
    "region_counts = pd.DataFrame(data2015.groupby([\"Region\"]).count()).reset_index()\n",
    "\n",
    "#filter the data frame\n",
    "region_counts = region_counts[[\"Region\",\"Country\"]]\n",
    "region_counts = region_counts.rename(columns={\"Country\":\"Count\"})\n",
    "region_counts"
   ]
  },
  {
   "cell_type": "code",
   "execution_count": 51,
   "metadata": {},
   "outputs": [
    {
     "data": {
      "text/plain": [
       "(-1.1000000086217028,\n",
       " 1.1000000012258402,\n",
       " -1.1103791116775072,\n",
       " 1.106936850205068)"
      ]
     },
     "execution_count": 51,
     "metadata": {},
     "output_type": "execute_result"
    },
    {
     "data": {
      "image/png": "[encoded data removed]",
      "text/plain": [
       "<Figure size 432x288 with 1 Axes>"
      ]
     },
     "metadata": {},
     "output_type": "display_data"
    }
   ],
   "source": [
    "# Generate a pie plot showing the distribution of female versus male mice using pyplot\n",
    "gender_count = (data2015.groupby([\"Region\"])[\"Country\"].count()).tolist()\n",
    "labels = [\"Australia and New Zealand\",\"Central and Eastern Europe\", \"Eastern Asia\", \"Latin America and Caribbean\", \n",
    "         \"Middle East and Northern Africa\", \"North America\", \"Southeastern Asia\", \"Southern Asia\", \"Sub-Saharan Africa\", \"Western Europe\"]\n",
    "color = [\"blue\",\"orange\",\"yellow\",\"red\",\"purple\",\"pink\",\"green\",\"gray\",\"brown\",\"teal\"]\n",
    "explode = (0,0,0,0,0,0,0,0,0,0)\n",
    "plt.pie(gender_count, explode=explode, labels=labels, colors=color, autopct='%1.1f%%', shadow=False, startangle=180)\n",
    "\n",
    "#save the figures as a png file\n",
    "plt.savefig(\"Output_data/total regions.png\")\n",
    "plt.axis(\"equal\")"
   ]
  },
  {
   "cell_type": "code",
   "execution_count": 53,
   "metadata": {},
   "outputs": [
    {
     "data": {
      "image/png": "[encoded data removed]",
      "text/plain": [
       "<Figure size 2160x360 with 1 Axes>"
      ]
     },
     "metadata": {
      "needs_background": "light"
     },
     "output_type": "display_data"
    }
   ],
   "source": [
    "# Create a boxplot to compare 10 regions \n",
    "data2015.boxplot(\"Happiness Score\", by=\"Region\", figsize=(30,5))\n",
    "#save the figures as a png file\n",
    "plt.savefig(\"Output_data/total regions boxplot.png\")"
   ]
  },
  {
   "cell_type": "code",
   "execution_count": 54,
   "metadata": {},
   "outputs": [
    {
     "data": {
      "text/plain": [
       "F_onewayResult(statistic=24.758067552540272, pvalue=1.747680913974096e-25)"
      ]
     },
     "execution_count": 54,
     "metadata": {},
     "output_type": "execute_result"
    }
   ],
   "source": [
    "# Extract individual groups\n",
    "group1 = data2015[data2015[\"Region\"] == \"Australia and New Zealand\"][\"Happiness Score\"]\n",
    "group2 = data2015[data2015[\"Region\"] == \"Central and Eastern Europe\"][\"Happiness Score\"]\n",
    "group3 = data2015[data2015[\"Region\"] == \"Eastern Asia\"][\"Happiness Score\"]\n",
    "group4 = data2015[data2015[\"Region\"] == \"Latin America and Caribbean\"][\"Happiness Score\"]\n",
    "group5 = data2015[data2015[\"Region\"] == \"Middle East and Northern Africa\"][\"Happiness Score\"]\n",
    "group6 = data2015[data2015[\"Region\"] == \"North America\"][\"Happiness Score\"]\n",
    "group7 = data2015[data2015[\"Region\"] == \"Southeastern Asia\"][\"Happiness Score\"]\n",
    "group8 = data2015[data2015[\"Region\"] == \"Southern Asia\"][\"Happiness Score\"]\n",
    "group9 = data2015[data2015[\"Region\"] == \"Sub-Saharan Africa\"][\"Happiness Score\"]\n",
    "group10 = data2015[data2015[\"Region\"] == \"Western Europe\"][\"Happiness Score\"]\n",
    "\n",
    "# Perform the ANOVA\n",
    "st.f_oneway(group1, group2, group3, group4, group5, group6, group7, group8, group9, group10)"
   ]
  },
  {
   "cell_type": "code",
   "execution_count": 55,
   "metadata": {},
   "outputs": [
    {
     "name": "stdout",
     "output_type": "stream",
     "text": [
      "The r-squared is: 0.70419494132259\n"
     ]
    },
    {
     "data": {
      "image/png": "[encoded data removed]",
      "text/plain": [
       "<Figure size 432x288 with 1 Axes>"
      ]
     },
     "metadata": {
      "needs_background": "light"
     },
     "output_type": "display_data"
    }
   ],
   "source": [
    "#Create x and y values\n",
    "x_value = summary_table[\"Average Health (Life Expectancy)\"]\n",
    "y_value = summary_table[\"Average Economy (GDP per Capita)\"]\n",
    "\n",
    "#creating the linear regression\n",
    "(slope, intercept, rvalue, pvalue, stderr) = linregress(x_value, y_value)\n",
    "\n",
    "#set up regression formula\n",
    "regress_values = x_value * slope + intercept\n",
    "\n",
    "#Set up line equation\n",
    "line_eq = \"y =\" + str(round(slope,2)) + \"x + \" + str(round(intercept,2))\n",
    "\n",
    "plt.scatter(x_value, y_value)\n",
    "plt.plot(x_value, regress_values, \"r-\")\n",
    "plt.annotate(line_eq,(1,2),fontsize=15,color=\"red\")\n",
    "\n",
    "plt.xlabel(\"Average Health (Life Expectancy)\")\n",
    "plt.ylabel(\"Average Economy (GDP per Capita)\")\n",
    "plt.title(\"Health vs. GDP\")\n",
    "print(f\"The r-squared is: {rvalue**2}\")\n",
    "plt.savefig(\"Output_data/Health vs. GDP Regression.png\")\n",
    "plt.show()"
   ]
  },
  {
   "cell_type": "code",
   "execution_count": 56,
   "metadata": {},
   "outputs": [
    {
     "name": "stdout",
     "output_type": "stream",
     "text": [
      "The r-squared is: 0.624997360840446\n"
     ]
    },
    {
     "data": {
      "image/png": "[encoded data removed]",
      "text/plain": [
       "<Figure size 432x288 with 1 Axes>"
      ]
     },
     "metadata": {
      "needs_background": "light"
     },
     "output_type": "display_data"
    }
   ],
   "source": [
    "#Create x and y values\n",
    "x_value = summary_table[\"Average Happiness Score\"]\n",
    "y_value = summary_table[\"Average Economy (GDP per Capita)\"]\n",
    "\n",
    "#creating the linear regression\n",
    "(slope, intercept, rvalue, pvalue, stderr) = linregress(x_value, y_value)\n",
    "\n",
    "#set up regression formula\n",
    "regress_values = x_value * slope + intercept\n",
    "\n",
    "#Set up line equation\n",
    "line_eq = \"y =\" + str(round(slope,2)) + \"x + \" + str(round(intercept,2))\n",
    "\n",
    "plt.scatter(x_value, y_value)\n",
    "plt.plot(x_value, regress_values, \"r-\")\n",
    "plt.annotate(line_eq,(1,2),fontsize=15,color=\"red\")\n",
    "\n",
    "plt.xlabel(\"Average Happiness Score\")\n",
    "plt.ylabel(\"Average Economy (GDP per Capita)\")\n",
    "plt.title(\"Happiness Score vs. GDP\")\n",
    "print(f\"The r-squared is: {rvalue**2}\")\n",
    "plt.savefig(\"Output_data/Happiness vs.Economy Regression.png\")\n",
    "plt.show()"
   ]
  },
  {
   "cell_type": "code",
   "execution_count": 57,
   "metadata": {},
   "outputs": [
    {
     "data": {
      "application/vnd.plotly.v1+json": {
       "config": {
        "plotlyServerURL": "https://plot.ly"
       },
       "data": [
        {
         "customdata": [
          [
           "Finland",
           7.808700085
          ],
          [
           "Denmark",
           7.645599842
          ],
          [
           "Switzerland",
           7.559899807000001
          ],
          [
           "Iceland",
           7.504499912000001
          ],
          [
           "Norway",
           7.487999916000001
          ],
          [
           "Netherlands",
           7.448900223
          ],
          [
           "Sweden",
           7.353499889
          ],
          [
           "New Zealand",
           7.2996001239999995
          ],
          [
           "Austria",
           7.294199944
          ],
          [
           "Luxembourg",
           7.2375001910000005
          ],
          [
           "Canada",
           7.23210001
          ],
          [
           "Australia",
           7.222799778
          ],
          [
           "United Kingdom",
           7.164500237
          ],
          [
           "Israel",
           7.128600121
          ],
          [
           "Costa Rica",
           7.121399879
          ],
          [
           "Ireland",
           7.093699932000001
          ],
          [
           "Germany",
           7.075799942000001
          ],
          [
           "United States",
           6.939599991000001
          ],
          [
           "Czech Republic",
           6.9109001160000005
          ],
          [
           "Belgium",
           6.863500117999999
          ],
          [
           "United Arab Emirates",
           6.790800095
          ],
          [
           "Malta",
           6.772799968999999
          ],
          [
           "France",
           6.663799762999999
          ],
          [
           "Mexico",
           6.465000152999999
          ],
          [
           "Taiwan Province of China",
           6.45539999
          ],
          [
           "Uruguay",
           6.440100192999999
          ],
          [
           "Saudi Arabia",
           6.406499863
          ],
          [
           "Spain",
           6.4008998870000005
          ],
          [
           "Guatemala",
           6.398900032
          ],
          [
           "Italy",
           6.38740015
          ],
          [
           "Singapore",
           6.377099991000001
          ],
          [
           "Brazil",
           6.375599861
          ],
          [
           "Slovenia",
           6.363399982000001
          ],
          [
           "El Salvador",
           6.34829998
          ],
          [
           "Kosovo",
           6.325200081
          ],
          [
           "Panama",
           6.304800033999999
          ],
          [
           "Slovakia",
           6.280600071
          ],
          [
           "Uzbekistan",
           6.257599831
          ],
          [
           "Chile",
           6.228499889
          ],
          [
           "Bahrain",
           6.227300167
          ],
          [
           "Lithuania",
           6.215499877999999
          ],
          [
           "Trinidad and Tobago",
           6.1918997760000005
          ],
          [
           "Poland",
           6.1862998010000005
          ],
          [
           "Colombia",
           6.163400172999999
          ],
          [
           "Cyprus",
           6.15899992
          ],
          [
           "Nicaragua",
           6.13710022
          ],
          [
           "Romania",
           6.123700142000001
          ],
          [
           "Kuwait",
           6.102099895
          ],
          [
           "Mauritius",
           6.101299762999999
          ],
          [
           "Kazakhstan",
           6.0578999520000005
          ],
          [
           "Estonia",
           6.0218000410000005
          ],
          [
           "Philippines",
           6.006000042
          ],
          [
           "Hungary",
           6.000400066
          ],
          [
           "Thailand",
           5.9987998010000005
          ],
          [
           "Argentina",
           5.974699974
          ],
          [
           "Honduras",
           5.953199862999999
          ],
          [
           "Latvia",
           5.9499998089999995
          ],
          [
           "Ecuador",
           5.925199986
          ],
          [
           "Portugal",
           5.9109001160000005
          ],
          [
           "Jamaica",
           5.889800072000001
          ],
          [
           "South Korea",
           5.872399807000001
          ],
          [
           "Japan",
           5.870800018
          ],
          [
           "Peru",
           5.796800137000001
          ],
          [
           "Serbia",
           5.77820015
          ],
          [
           "Bolivia",
           5.747499942999999
          ],
          [
           "Pakistan",
           5.69329977
          ],
          [
           "Paraguay",
           5.6921000479999995
          ],
          [
           "Dominican Republic",
           5.6891999239999995
          ],
          [
           "Bosnia and Herzegovina",
           5.674099922000001
          ],
          [
           "Moldova",
           5.607500076
          ],
          [
           "Tajikistan",
           5.555699825
          ],
          [
           "Montenegro",
           5.54610014
          ],
          [
           "Russia",
           5.546000004
          ],
          [
           "Kyrgyzstan",
           5.541500092000001
          ],
          [
           "Belarus",
           5.539899826
          ],
          [
           "North Cyprus",
           5.53550005
          ],
          [
           "Greece",
           5.514999866
          ],
          [
           "Hong Kong S.A.R. of China",
           5.510399818
          ],
          [
           "Croatia",
           5.504700184
          ],
          [
           "Libya",
           5.488800049
          ],
          [
           "Mongolia",
           5.4562001229999995
          ],
          [
           "Malaysia",
           5.384300232
          ],
          [
           "Vietnam",
           5.353499889
          ],
          [
           "Indonesia",
           5.285600185
          ],
          [
           "Ivory Coast",
           5.233300208999999
          ],
          [
           "Benin",
           5.21600008
          ],
          [
           "Maldives",
           5.197599888
          ],
          [
           "Congo (Brazzaville)",
           5.1943998339999995
          ],
          [
           "Azerbaijan",
           5.164800167
          ],
          [
           "Macedonia",
           5.1598000530000006
          ],
          [
           "Ghana",
           5.1479997630000005
          ],
          [
           "Nepal",
           5.137199879
          ],
          [
           "Turkey",
           5.131800175
          ],
          [
           "China",
           5.123899937
          ],
          [
           "Turkmenistan",
           5.119100093999999
          ],
          [
           "Bulgaria",
           5.101500034
          ],
          [
           "Morocco",
           5.094799995
          ],
          [
           "Cameroon",
           5.084899902
          ],
          [
           "Venezuela",
           5.053199768
          ],
          [
           "Algeria",
           5.005099773
          ],
          [
           "Senegal",
           4.980800152
          ],
          [
           "Guinea",
           4.949299812
          ],
          [
           "Niger",
           4.909599781
          ],
          [
           "Laos",
           4.888599873
          ],
          [
           "Albania",
           4.882699966000001
          ],
          [
           "Cambodia",
           4.8484001160000005
          ],
          [
           "Bangladesh",
           4.832799911
          ],
          [
           "Gabon",
           4.829299927
          ],
          [
           "South Africa",
           4.814099789
          ],
          [
           "Iraq",
           4.7848000530000006
          ],
          [
           "Lebanon",
           4.771500111
          ],
          [
           "Burkina Faso",
           4.768700123
          ],
          [
           "Gambia",
           4.750599861
          ],
          [
           "Mali",
           4.729300021999999
          ],
          [
           "Nigeria",
           4.724100113
          ],
          [
           "Armenia",
           4.676799774
          ],
          [
           "Georgia",
           4.672599792
          ],
          [
           "Iran",
           4.672399998
          ],
          [
           "Jordan",
           4.6333999630000005
          ],
          [
           "Mozambique",
           4.623600006
          ],
          [
           "Kenya",
           4.583000183
          ],
          [
           "Namibia",
           4.571100235
          ],
          [
           "Ukraine",
           4.56069994
          ],
          [
           "Liberia",
           4.557899952
          ],
          [
           "Palestinian Territories",
           4.552800179
          ],
          [
           "Uganda",
           4.43200016
          ],
          [
           "Chad",
           4.422699928
          ],
          [
           "Tunisia",
           4.392199993
          ],
          [
           "Mauritania",
           4.374599934
          ],
          [
           "Sri Lanka",
           4.327000141
          ],
          [
           "Congo (Kinshasa)",
           4.31099987
          ],
          [
           "Swaziland",
           4.3081002239999995
          ],
          [
           "Myanmar",
           4.308000088
          ],
          [
           "Comoros",
           4.288599968
          ],
          [
           "Togo",
           4.187200069
          ],
          [
           "Ethiopia",
           4.186200142
          ],
          [
           "Madagascar",
           4.165599823
          ],
          [
           "Egypt",
           4.151400089
          ],
          [
           "Sierra Leone",
           3.926399946
          ],
          [
           "Burundi",
           3.775300026
          ],
          [
           "Zambia",
           3.759399891
          ],
          [
           "Haiti",
           3.720799923
          ],
          [
           "Lesotho",
           3.6528000830000003
          ],
          [
           "India",
           3.573299885
          ],
          [
           "Malawi",
           3.538000107
          ],
          [
           "Yemen",
           3.5274000169999997
          ],
          [
           "Botswana",
           3.4788999560000002
          ],
          [
           "Tanzania",
           3.4762001039999997
          ],
          [
           "Central African Republic",
           3.475899935
          ],
          [
           "Rwanda",
           3.312299967
          ],
          [
           "Zimbabwe",
           3.2992000580000003
          ],
          [
           "South Sudan",
           2.8166000839999996
          ],
          [
           "Afghanistan",
           2.566900015
          ]
         ],
         "geo": "geo",
         "hovertemplate": "Happiness Score=%{marker.color}<br>Country=%{customdata[0]}<extra></extra>",
         "legendgroup": "",
         "locationmode": "country names",
         "locations": [
          "Finland",
          "Denmark",
          "Switzerland",
          "Iceland",
          "Norway",
          "Netherlands",
          "Sweden",
          "New Zealand",
          "Austria",
          "Luxembourg",
          "Canada",
          "Australia",
          "United Kingdom",
          "Israel",
          "Costa Rica",
          "Ireland",
          "Germany",
          "United States",
          "Czech Republic",
          "Belgium",
          "United Arab Emirates",
          "Malta",
          "France",
          "Mexico",
          "Taiwan Province of China",
          "Uruguay",
          "Saudi Arabia",
          "Spain",
          "Guatemala",
          "Italy",
          "Singapore",
          "Brazil",
          "Slovenia",
          "El Salvador",
          "Kosovo",
          "Panama",
          "Slovakia",
          "Uzbekistan",
          "Chile",
          "Bahrain",
          "Lithuania",
          "Trinidad and Tobago",
          "Poland",
          "Colombia",
          "Cyprus",
          "Nicaragua",
          "Romania",
          "Kuwait",
          "Mauritius",
          "Kazakhstan",
          "Estonia",
          "Philippines",
          "Hungary",
          "Thailand",
          "Argentina",
          "Honduras",
          "Latvia",
          "Ecuador",
          "Portugal",
          "Jamaica",
          "South Korea",
          "Japan",
          "Peru",
          "Serbia",
          "Bolivia",
          "Pakistan",
          "Paraguay",
          "Dominican Republic",
          "Bosnia and Herzegovina",
          "Moldova",
          "Tajikistan",
          "Montenegro",
          "Russia",
          "Kyrgyzstan",
          "Belarus",
          "North Cyprus",
          "Greece",
          "Hong Kong S.A.R. of China",
          "Croatia",
          "Libya",
          "Mongolia",
          "Malaysia",
          "Vietnam",
          "Indonesia",
          "Ivory Coast",
          "Benin",
          "Maldives",
          "Congo (Brazzaville)",
          "Azerbaijan",
          "Macedonia",
          "Ghana",
          "Nepal",
          "Turkey",
          "China",
          "Turkmenistan",
          "Bulgaria",
          "Morocco",
          "Cameroon",
          "Venezuela",
          "Algeria",
          "Senegal",
          "Guinea",
          "Niger",
          "Laos",
          "Albania",
          "Cambodia",
          "Bangladesh",
          "Gabon",
          "South Africa",
          "Iraq",
          "Lebanon",
          "Burkina Faso",
          "Gambia",
          "Mali",
          "Nigeria",
          "Armenia",
          "Georgia",
          "Iran",
          "Jordan",
          "Mozambique",
          "Kenya",
          "Namibia",
          "Ukraine",
          "Liberia",
          "Palestinian Territories",
          "Uganda",
          "Chad",
          "Tunisia",
          "Mauritania",
          "Sri Lanka",
          "Congo (Kinshasa)",
          "Swaziland",
          "Myanmar",
          "Comoros",
          "Togo",
          "Ethiopia",
          "Madagascar",
          "Egypt",
          "Sierra Leone",
          "Burundi",
          "Zambia",
          "Haiti",
          "Lesotho",
          "India",
          "Malawi",
          "Yemen",
          "Botswana",
          "Tanzania",
          "Central African Republic",
          "Rwanda",
          "Zimbabwe",
          "South Sudan",
          "Afghanistan"
         ],
         "marker": {
          "color": [
           7.808700085,
           7.645599842,
           7.559899807000001,
           7.504499912000001,
           7.487999916000001,
           7.448900223,
           7.353499889,
           7.2996001239999995,
           7.294199944,
           7.2375001910000005,
           7.23210001,
           7.222799778,
           7.164500237,
           7.128600121,
           7.121399879,
           7.093699932000001,
           7.075799942000001,
           6.939599991000001,
           6.9109001160000005,
           6.863500117999999,
           6.790800095,
           6.772799968999999,
           6.663799762999999,
           6.465000152999999,
           6.45539999,
           6.440100192999999,
           6.406499863,
           6.4008998870000005,
           6.398900032,
           6.38740015,
           6.377099991000001,
           6.375599861,
           6.363399982000001,
           6.34829998,
           6.325200081,
           6.304800033999999,
           6.280600071,
           6.257599831,
           6.228499889,
           6.227300167,
           6.215499877999999,
           6.1918997760000005,
           6.1862998010000005,
           6.163400172999999,
           6.15899992,
           6.13710022,
           6.123700142000001,
           6.102099895,
           6.101299762999999,
           6.0578999520000005,
           6.0218000410000005,
           6.006000042,
           6.000400066,
           5.9987998010000005,
           5.974699974,
           5.953199862999999,
           5.9499998089999995,
           5.925199986,
           5.9109001160000005,
           5.889800072000001,
           5.872399807000001,
           5.870800018,
           5.796800137000001,
           5.77820015,
           5.747499942999999,
           5.69329977,
           5.6921000479999995,
           5.6891999239999995,
           5.674099922000001,
           5.607500076,
           5.555699825,
           5.54610014,
           5.546000004,
           5.541500092000001,
           5.539899826,
           5.53550005,
           5.514999866,
           5.510399818,
           5.504700184,
           5.488800049,
           5.4562001229999995,
           5.384300232,
           5.353499889,
           5.285600185,
           5.233300208999999,
           5.21600008,
           5.197599888,
           5.1943998339999995,
           5.164800167,
           5.1598000530000006,
           5.1479997630000005,
           5.137199879,
           5.131800175,
           5.123899937,
           5.119100093999999,
           5.101500034,
           5.094799995,
           5.084899902,
           5.053199768,
           5.005099773,
           4.980800152,
           4.949299812,
           4.909599781,
           4.888599873,
           4.882699966000001,
           4.8484001160000005,
           4.832799911,
           4.829299927,
           4.814099789,
           4.7848000530000006,
           4.771500111,
           4.768700123,
           4.750599861,
           4.729300021999999,
           4.724100113,
           4.676799774,
           4.672599792,
           4.672399998,
           4.6333999630000005,
           4.623600006,
           4.583000183,
           4.571100235,
           4.56069994,
           4.557899952,
           4.552800179,
           4.43200016,
           4.422699928,
           4.392199993,
           4.374599934,
           4.327000141,
           4.31099987,
           4.3081002239999995,
           4.308000088,
           4.288599968,
           4.187200069,
           4.186200142,
           4.165599823,
           4.151400089,
           3.926399946,
           3.775300026,
           3.759399891,
           3.720799923,
           3.6528000830000003,
           3.573299885,
           3.538000107,
           3.5274000169999997,
           3.4788999560000002,
           3.4762001039999997,
           3.475899935,
           3.312299967,
           3.2992000580000003,
           2.8166000839999996,
           2.566900015
          ],
          "coloraxis": "coloraxis",
          "size": [
           7.808700085,
           7.645599842,
           7.559899807000001,
           7.504499912000001,
           7.487999916000001,
           7.448900223,
           7.353499889,
           7.2996001239999995,
           7.294199944,
           7.2375001910000005,
           7.23210001,
           7.222799778,
           7.164500237,
           7.128600121,
           7.121399879,
           7.093699932000001,
           7.075799942000001,
           6.939599991000001,
           6.9109001160000005,
           6.863500117999999,
           6.790800095,
           6.772799968999999,
           6.663799762999999,
           6.465000152999999,
           6.45539999,
           6.440100192999999,
           6.406499863,
           6.4008998870000005,
           6.398900032,
           6.38740015,
           6.377099991000001,
           6.375599861,
           6.363399982000001,
           6.34829998,
           6.325200081,
           6.304800033999999,
           6.280600071,
           6.257599831,
           6.228499889,
           6.227300167,
           6.215499877999999,
           6.1918997760000005,
           6.1862998010000005,
           6.163400172999999,
           6.15899992,
           6.13710022,
           6.123700142000001,
           6.102099895,
           6.101299762999999,
           6.0578999520000005,
           6.0218000410000005,
           6.006000042,
           6.000400066,
           5.9987998010000005,
           5.974699974,
           5.953199862999999,
           5.9499998089999995,
           5.925199986,
           5.9109001160000005,
           5.889800072000001,
           5.872399807000001,
           5.870800018,
           5.796800137000001,
           5.77820015,
           5.747499942999999,
           5.69329977,
           5.6921000479999995,
           5.6891999239999995,
           5.674099922000001,
           5.607500076,
           5.555699825,
           5.54610014,
           5.546000004,
           5.541500092000001,
           5.539899826,
           5.53550005,
           5.514999866,
           5.510399818,
           5.504700184,
           5.488800049,
           5.4562001229999995,
           5.384300232,
           5.353499889,
           5.285600185,
           5.233300208999999,
           5.21600008,
           5.197599888,
           5.1943998339999995,
           5.164800167,
           5.1598000530000006,
           5.1479997630000005,
           5.137199879,
           5.131800175,
           5.123899937,
           5.119100093999999,
           5.101500034,
           5.094799995,
           5.084899902,
           5.053199768,
           5.005099773,
           4.980800152,
           4.949299812,
           4.909599781,
           4.888599873,
           4.882699966000001,
           4.8484001160000005,
           4.832799911,
           4.829299927,
           4.814099789,
           4.7848000530000006,
           4.771500111,
           4.768700123,
           4.750599861,
           4.729300021999999,
           4.724100113,
           4.676799774,
           4.672599792,
           4.672399998,
           4.6333999630000005,
           4.623600006,
           4.583000183,
           4.571100235,
           4.56069994,
           4.557899952,
           4.552800179,
           4.43200016,
           4.422699928,
           4.392199993,
           4.374599934,
           4.327000141,
           4.31099987,
           4.3081002239999995,
           4.308000088,
           4.288599968,
           4.187200069,
           4.186200142,
           4.165599823,
           4.151400089,
           3.926399946,
           3.775300026,
           3.759399891,
           3.720799923,
           3.6528000830000003,
           3.573299885,
           3.538000107,
           3.5274000169999997,
           3.4788999560000002,
           3.4762001039999997,
           3.475899935,
           3.312299967,
           3.2992000580000003,
           2.8166000839999996,
           2.566900015
          ],
          "sizemode": "area",
          "sizeref": 0.0195217502125
         },
         "name": "",
         "showlegend": false,
         "type": "scattergeo"
        }
       ],
       "layout": {
        "coloraxis": {
         "colorbar": {
          "title": {
           "text": "Happiness Score"
          }
         },
         "colorscale": [
          [
           0,
           "#0d0887"
          ],
          [
           0.1111111111111111,
           "#46039f"
          ],
          [
           0.2222222222222222,
           "#7201a8"
          ],
          [
           0.3333333333333333,
           "#9c179e"
          ],
          [
           0.4444444444444444,
           "#bd3786"
          ],
          [
           0.5555555555555556,
           "#d8576b"
          ],
          [
           0.6666666666666666,
           "#ed7953"
          ],
          [
           0.7777777777777778,
           "#fb9f3a"
          ],
          [
           0.8888888888888888,
           "#fdca26"
          ],
          [
           1,
           "#f0f921"
          ]
         ]
        },
        "font": {
         "color": "Black",
         "size": 15
        },
        "geo": {
         "center": {},
         "domain": {
          "x": [
           0,
           1
          ],
          "y": [
           0,
           1
          ]
         },
         "projection": {
          "type": "equirectangular"
         },
         "showcoastlines": false,
         "showframe": false
        },
        "height": 600,
        "legend": {
         "itemsizing": "constant",
         "tracegroupgap": 0
        },
        "margin": {
         "b": 20,
         "l": 20,
         "r": 50,
         "t": 110
        },
        "template": {
         "data": {
          "bar": [
           {
            "error_x": {
             "color": "#2a3f5f"
            },
            "error_y": {
             "color": "#2a3f5f"
            },
            "marker": {
             "line": {
              "color": "#E5ECF6",
              "width": 0.5
             }
            },
            "type": "bar"
           }
          ],
          "barpolar": [
           {
            "marker": {
             "line": {
              "color": "#E5ECF6",
              "width": 0.5
             }
            },
            "type": "barpolar"
           }
          ],
          "carpet": [
           {
            "aaxis": {
             "endlinecolor": "#2a3f5f",
             "gridcolor": "white",
             "linecolor": "white",
             "minorgridcolor": "white",
             "startlinecolor": "#2a3f5f"
            },
            "baxis": {
             "endlinecolor": "#2a3f5f",
             "gridcolor": "white",
             "linecolor": "white",
             "minorgridcolor": "white",
             "startlinecolor": "#2a3f5f"
            },
            "type": "carpet"
           }
          ],
          "choropleth": [
           {
            "colorbar": {
             "outlinewidth": 0,
             "ticks": ""
            },
            "type": "choropleth"
           }
          ],
          "contour": [
           {
            "colorbar": {
             "outlinewidth": 0,
             "ticks": ""
            },
            "colorscale": [
             [
              0,
              "#0d0887"
             ],
             [
              0.1111111111111111,
              "#46039f"
             ],
             [
              0.2222222222222222,
              "#7201a8"
             ],
             [
              0.3333333333333333,
              "#9c179e"
             ],
             [
              0.4444444444444444,
              "#bd3786"
             ],
             [
              0.5555555555555556,
              "#d8576b"
             ],
             [
              0.6666666666666666,
              "#ed7953"
             ],
             [
              0.7777777777777778,
              "#fb9f3a"
             ],
             [
              0.8888888888888888,
              "#fdca26"
             ],
             [
              1,
              "#f0f921"
             ]
            ],
            "type": "contour"
           }
          ],
          "contourcarpet": [
           {
            "colorbar": {
             "outlinewidth": 0,
             "ticks": ""
            },
            "type": "contourcarpet"
           }
          ],
          "heatmap": [
           {
            "colorbar": {
             "outlinewidth": 0,
             "ticks": ""
            },
            "colorscale": [
             [
              0,
              "#0d0887"
             ],
             [
              0.1111111111111111,
              "#46039f"
             ],
             [
              0.2222222222222222,
              "#7201a8"
             ],
             [
              0.3333333333333333,
              "#9c179e"
             ],
             [
              0.4444444444444444,
              "#bd3786"
             ],
             [
              0.5555555555555556,
              "#d8576b"
             ],
             [
              0.6666666666666666,
              "#ed7953"
             ],
             [
              0.7777777777777778,
              "#fb9f3a"
             ],
             [
              0.8888888888888888,
              "#fdca26"
             ],
             [
              1,
              "#f0f921"
             ]
            ],
            "type": "heatmap"
           }
          ],
          "heatmapgl": [
           {
            "colorbar": {
             "outlinewidth": 0,
             "ticks": ""
            },
            "colorscale": [
             [
              0,
              "#0d0887"
             ],
             [
              0.1111111111111111,
              "#46039f"
             ],
             [
              0.2222222222222222,
              "#7201a8"
             ],
             [
              0.3333333333333333,
              "#9c179e"
             ],
             [
              0.4444444444444444,
              "#bd3786"
             ],
             [
              0.5555555555555556,
              "#d8576b"
             ],
             [
              0.6666666666666666,
              "#ed7953"
             ],
             [
              0.7777777777777778,
              "#fb9f3a"
             ],
             [
              0.8888888888888888,
              "#fdca26"
             ],
             [
              1,
              "#f0f921"
             ]
            ],
            "type": "heatmapgl"
           }
          ],
          "histogram": [
           {
            "marker": {
             "colorbar": {
              "outlinewidth": 0,
              "ticks": ""
             }
            },
            "type": "histogram"
           }
          ],
          "histogram2d": [
           {
            "colorbar": {
             "outlinewidth": 0,
             "ticks": ""
            },
            "colorscale": [
             [
              0,
              "#0d0887"
             ],
             [
              0.1111111111111111,
              "#46039f"
             ],
             [
              0.2222222222222222,
              "#7201a8"
             ],
             [
              0.3333333333333333,
              "#9c179e"
             ],
             [
              0.4444444444444444,
              "#bd3786"
             ],
             [
              0.5555555555555556,
              "#d8576b"
             ],
             [
              0.6666666666666666,
              "#ed7953"
             ],
             [
              0.7777777777777778,
              "#fb9f3a"
             ],
             [
              0.8888888888888888,
              "#fdca26"
             ],
             [
              1,
              "#f0f921"
             ]
            ],
            "type": "histogram2d"
           }
          ],
          "histogram2dcontour": [
           {
            "colorbar": {
             "outlinewidth": 0,
             "ticks": ""
            },
            "colorscale": [
             [
              0,
              "#0d0887"
             ],
             [
              0.1111111111111111,
              "#46039f"
             ],
             [
              0.2222222222222222,
              "#7201a8"
             ],
             [
              0.3333333333333333,
              "#9c179e"
             ],
             [
              0.4444444444444444,
              "#bd3786"
             ],
             [
              0.5555555555555556,
              "#d8576b"
             ],
             [
              0.6666666666666666,
              "#ed7953"
             ],
             [
              0.7777777777777778,
              "#fb9f3a"
             ],
             [
              0.8888888888888888,
              "#fdca26"
             ],
             [
              1,
              "#f0f921"
             ]
            ],
            "type": "histogram2dcontour"
           }
          ],
          "mesh3d": [
           {
            "colorbar": {
             "outlinewidth": 0,
             "ticks": ""
            },
            "type": "mesh3d"
           }
          ],
          "parcoords": [
           {
            "line": {
             "colorbar": {
              "outlinewidth": 0,
              "ticks": ""
             }
            },
            "type": "parcoords"
           }
          ],
          "pie": [
           {
            "automargin": true,
            "type": "pie"
           }
          ],
          "scatter": [
           {
            "marker": {
             "colorbar": {
              "outlinewidth": 0,
              "ticks": ""
             }
            },
            "type": "scatter"
           }
          ],
          "scatter3d": [
           {
            "line": {
             "colorbar": {
              "outlinewidth": 0,
              "ticks": ""
             }
            },
            "marker": {
             "colorbar": {
              "outlinewidth": 0,
              "ticks": ""
             }
            },
            "type": "scatter3d"
           }
          ],
          "scattercarpet": [
           {
            "marker": {
             "colorbar": {
              "outlinewidth": 0,
              "ticks": ""
             }
            },
            "type": "scattercarpet"
           }
          ],
          "scattergeo": [
           {
            "marker": {
             "colorbar": {
              "outlinewidth": 0,
              "ticks": ""
             }
            },
            "type": "scattergeo"
           }
          ],
          "scattergl": [
           {
            "marker": {
             "colorbar": {
              "outlinewidth": 0,
              "ticks": ""
             }
            },
            "type": "scattergl"
           }
          ],
          "scattermapbox": [
           {
            "marker": {
             "colorbar": {
              "outlinewidth": 0,
              "ticks": ""
             }
            },
            "type": "scattermapbox"
           }
          ],
          "scatterpolar": [
           {
            "marker": {
             "colorbar": {
              "outlinewidth": 0,
              "ticks": ""
             }
            },
            "type": "scatterpolar"
           }
          ],
          "scatterpolargl": [
           {
            "marker": {
             "colorbar": {
              "outlinewidth": 0,
              "ticks": ""
             }
            },
            "type": "scatterpolargl"
           }
          ],
          "scatterternary": [
           {
            "marker": {
             "colorbar": {
              "outlinewidth": 0,
              "ticks": ""
             }
            },
            "type": "scatterternary"
           }
          ],
          "surface": [
           {
            "colorbar": {
             "outlinewidth": 0,
             "ticks": ""
            },
            "colorscale": [
             [
              0,
              "#0d0887"
             ],
             [
              0.1111111111111111,
              "#46039f"
             ],
             [
              0.2222222222222222,
              "#7201a8"
             ],
             [
              0.3333333333333333,
              "#9c179e"
             ],
             [
              0.4444444444444444,
              "#bd3786"
             ],
             [
              0.5555555555555556,
              "#d8576b"
             ],
             [
              0.6666666666666666,
              "#ed7953"
             ],
             [
              0.7777777777777778,
              "#fb9f3a"
             ],
             [
              0.8888888888888888,
              "#fdca26"
             ],
             [
              1,
              "#f0f921"
             ]
            ],
            "type": "surface"
           }
          ],
          "table": [
           {
            "cells": {
             "fill": {
              "color": "#EBF0F8"
             },
             "line": {
              "color": "white"
             }
            },
            "header": {
             "fill": {
              "color": "#C8D4E3"
             },
             "line": {
              "color": "white"
             }
            },
            "type": "table"
           }
          ]
         },
         "layout": {
          "annotationdefaults": {
           "arrowcolor": "#2a3f5f",
           "arrowhead": 0,
           "arrowwidth": 1
          },
          "coloraxis": {
           "colorbar": {
            "outlinewidth": 0,
            "ticks": ""
           }
          },
          "colorscale": {
           "diverging": [
            [
             0,
             "#8e0152"
            ],
            [
             0.1,
             "#c51b7d"
            ],
            [
             0.2,
             "#de77ae"
            ],
            [
             0.3,
             "#f1b6da"
            ],
            [
             0.4,
             "#fde0ef"
            ],
            [
             0.5,
             "#f7f7f7"
            ],
            [
             0.6,
             "#e6f5d0"
            ],
            [
             0.7,
             "#b8e186"
            ],
            [
             0.8,
             "#7fbc41"
            ],
            [
             0.9,
             "#4d9221"
            ],
            [
             1,
             "#276419"
            ]
           ],
           "sequential": [
            [
             0,
             "#0d0887"
            ],
            [
             0.1111111111111111,
             "#46039f"
            ],
            [
             0.2222222222222222,
             "#7201a8"
            ],
            [
             0.3333333333333333,
             "#9c179e"
            ],
            [
             0.4444444444444444,
             "#bd3786"
            ],
            [
             0.5555555555555556,
             "#d8576b"
            ],
            [
             0.6666666666666666,
             "#ed7953"
            ],
            [
             0.7777777777777778,
             "#fb9f3a"
            ],
            [
             0.8888888888888888,
             "#fdca26"
            ],
            [
             1,
             "#f0f921"
            ]
           ],
           "sequentialminus": [
            [
             0,
             "#0d0887"
            ],
            [
             0.1111111111111111,
             "#46039f"
            ],
            [
             0.2222222222222222,
             "#7201a8"
            ],
            [
             0.3333333333333333,
             "#9c179e"
            ],
            [
             0.4444444444444444,
             "#bd3786"
            ],
            [
             0.5555555555555556,
             "#d8576b"
            ],
            [
             0.6666666666666666,
             "#ed7953"
            ],
            [
             0.7777777777777778,
             "#fb9f3a"
            ],
            [
             0.8888888888888888,
             "#fdca26"
            ],
            [
             1,
             "#f0f921"
            ]
           ]
          },
          "colorway": [
           "#636efa",
           "#EF553B",
           "#00cc96",
           "#ab63fa",
           "#FFA15A",
           "#19d3f3",
           "#FF6692",
           "#B6E880",
           "#FF97FF",
           "#FECB52"
          ],
          "font": {
           "color": "#2a3f5f"
          },
          "geo": {
           "bgcolor": "white",
           "lakecolor": "white",
           "landcolor": "#E5ECF6",
           "showlakes": true,
           "showland": true,
           "subunitcolor": "white"
          },
          "hoverlabel": {
           "align": "left"
          },
          "hovermode": "closest",
          "mapbox": {
           "style": "light"
          },
          "paper_bgcolor": "white",
          "plot_bgcolor": "#E5ECF6",
          "polar": {
           "angularaxis": {
            "gridcolor": "white",
            "linecolor": "white",
            "ticks": ""
           },
           "bgcolor": "#E5ECF6",
           "radialaxis": {
            "gridcolor": "white",
            "linecolor": "white",
            "ticks": ""
           }
          },
          "scene": {
           "xaxis": {
            "backgroundcolor": "#E5ECF6",
            "gridcolor": "white",
            "gridwidth": 2,
            "linecolor": "white",
            "showbackground": true,
            "ticks": "",
            "zerolinecolor": "white"
           },
           "yaxis": {
            "backgroundcolor": "#E5ECF6",
            "gridcolor": "white",
            "gridwidth": 2,
            "linecolor": "white",
            "showbackground": true,
            "ticks": "",
            "zerolinecolor": "white"
           },
           "zaxis": {
            "backgroundcolor": "#E5ECF6",
            "gridcolor": "white",
            "gridwidth": 2,
            "linecolor": "white",
            "showbackground": true,
            "ticks": "",
            "zerolinecolor": "white"
           }
          },
          "shapedefaults": {
           "line": {
            "color": "#2a3f5f"
           }
          },
          "ternary": {
           "aaxis": {
            "gridcolor": "white",
            "linecolor": "white",
            "ticks": ""
           },
           "baxis": {
            "gridcolor": "white",
            "linecolor": "white",
            "ticks": ""
           },
           "bgcolor": "#E5ECF6",
           "caxis": {
            "gridcolor": "white",
            "linecolor": "white",
            "ticks": ""
           }
          },
          "title": {
           "x": 0.05
          },
          "xaxis": {
           "automargin": true,
           "gridcolor": "white",
           "linecolor": "white",
           "ticks": "",
           "title": {
            "standoff": 15
           },
           "zerolinecolor": "white",
           "zerolinewidth": 2
          },
          "yaxis": {
           "automargin": true,
           "gridcolor": "white",
           "linecolor": "white",
           "ticks": "",
           "title": {
            "standoff": 15
           },
           "zerolinecolor": "white",
           "zerolinewidth": 2
          }
         }
        },
        "title": {
         "text": "World Happiness Report 2020",
         "x": 0.5,
         "xanchor": "center",
         "y": 0.9,
         "yanchor": "top"
        },
        "width": 950
       }
      },
      "text/html": [
       "<div>                            <div id=\"400d34cf-1c04-40a1-89ec-ab77e900f900\" class=\"plotly-graph-div\" style=\"height:600px; width:950px;\"></div>            <script type=\"text/javascript\">                require([\"plotly\"], function(Plotly) {                    window.PLOTLYENV=window.PLOTLYENV || {};                                    if (document.getElementById(\"400d34cf-1c04-40a1-89ec-ab77e900f900\")) {                    Plotly.newPlot(                        \"400d34cf-1c04-40a1-89ec-ab77e900f900\",                        [{\"customdata\": [[\"Finland\", 7.808700085], [\"Denmark\", 7.645599842], [\"Switzerland\", 7.559899807000001], [\"Iceland\", 7.504499912000001], [\"Norway\", 7.487999916000001], [\"Netherlands\", 7.448900223], [\"Sweden\", 7.353499889], [\"New Zealand\", 7.2996001239999995], [\"Austria\", 7.294199944], [\"Luxembourg\", 7.2375001910000005], [\"Canada\", 7.23210001], [\"Australia\", 7.222799778], [\"United Kingdom\", 7.164500237], [\"Israel\", 7.128600121], [\"Costa Rica\", 7.121399879], [\"Ireland\", 7.093699932000001], [\"Germany\", 7.075799942000001], [\"United States\", 6.939599991000001], [\"Czech Republic\", 6.9109001160000005], [\"Belgium\", 6.863500117999999], [\"United Arab Emirates\", 6.790800095], [\"Malta\", 6.772799968999999], [\"France\", 6.663799762999999], [\"Mexico\", 6.465000152999999], [\"Taiwan Province of China\", 6.45539999], [\"Uruguay\", 6.440100192999999], [\"Saudi Arabia\", 6.406499863], [\"Spain\", 6.4008998870000005], [\"Guatemala\", 6.398900032], [\"Italy\", 6.38740015], [\"Singapore\", 6.377099991000001], [\"Brazil\", 6.375599861], [\"Slovenia\", 6.363399982000001], [\"El Salvador\", 6.34829998], [\"Kosovo\", 6.325200081], [\"Panama\", 6.304800033999999], [\"Slovakia\", 6.280600071], [\"Uzbekistan\", 6.257599831], [\"Chile\", 6.228499889], [\"Bahrain\", 6.227300167], [\"Lithuania\", 6.215499877999999], [\"Trinidad and Tobago\", 6.1918997760000005], [\"Poland\", 6.1862998010000005], [\"Colombia\", 6.163400172999999], [\"Cyprus\", 6.15899992], [\"Nicaragua\", 6.13710022], [\"Romania\", 6.123700142000001], [\"Kuwait\", 6.102099895], [\"Mauritius\", 6.101299762999999], [\"Kazakhstan\", 6.0578999520000005], [\"Estonia\", 6.0218000410000005], [\"Philippines\", 6.006000042], [\"Hungary\", 6.000400066], [\"Thailand\", 5.9987998010000005], [\"Argentina\", 5.974699974], [\"Honduras\", 5.953199862999999], [\"Latvia\", 5.9499998089999995], [\"Ecuador\", 5.925199986], [\"Portugal\", 5.9109001160000005], [\"Jamaica\", 5.889800072000001], [\"South Korea\", 5.872399807000001], [\"Japan\", 5.870800018], [\"Peru\", 5.796800137000001], [\"Serbia\", 5.77820015], [\"Bolivia\", 5.747499942999999], [\"Pakistan\", 5.69329977], [\"Paraguay\", 5.6921000479999995], [\"Dominican Republic\", 5.6891999239999995], [\"Bosnia and Herzegovina\", 5.674099922000001], [\"Moldova\", 5.607500076], [\"Tajikistan\", 5.555699825], [\"Montenegro\", 5.54610014], [\"Russia\", 5.546000004], [\"Kyrgyzstan\", 5.541500092000001], [\"Belarus\", 5.539899826], [\"North Cyprus\", 5.53550005], [\"Greece\", 5.514999866], [\"Hong Kong S.A.R. of China\", 5.510399818], [\"Croatia\", 5.504700184], [\"Libya\", 5.488800049], [\"Mongolia\", 5.4562001229999995], [\"Malaysia\", 5.384300232], [\"Vietnam\", 5.353499889], [\"Indonesia\", 5.285600185], [\"Ivory Coast\", 5.233300208999999], [\"Benin\", 5.21600008], [\"Maldives\", 5.197599888], [\"Congo (Brazzaville)\", 5.1943998339999995], [\"Azerbaijan\", 5.164800167], [\"Macedonia\", 5.1598000530000006], [\"Ghana\", 5.1479997630000005], [\"Nepal\", 5.137199879], [\"Turkey\", 5.131800175], [\"China\", 5.123899937], [\"Turkmenistan\", 5.119100093999999], [\"Bulgaria\", 5.101500034], [\"Morocco\", 5.094799995], [\"Cameroon\", 5.084899902], [\"Venezuela\", 5.053199768], [\"Algeria\", 5.005099773], [\"Senegal\", 4.980800152], [\"Guinea\", 4.949299812], [\"Niger\", 4.909599781], [\"Laos\", 4.888599873], [\"Albania\", 4.882699966000001], [\"Cambodia\", 4.8484001160000005], [\"Bangladesh\", 4.832799911], [\"Gabon\", 4.829299927], [\"South Africa\", 4.814099789], [\"Iraq\", 4.7848000530000006], [\"Lebanon\", 4.771500111], [\"Burkina Faso\", 4.768700123], [\"Gambia\", 4.750599861], [\"Mali\", 4.729300021999999], [\"Nigeria\", 4.724100113], [\"Armenia\", 4.676799774], [\"Georgia\", 4.672599792], [\"Iran\", 4.672399998], [\"Jordan\", 4.6333999630000005], [\"Mozambique\", 4.623600006], [\"Kenya\", 4.583000183], [\"Namibia\", 4.571100235], [\"Ukraine\", 4.56069994], [\"Liberia\", 4.557899952], [\"Palestinian Territories\", 4.552800179], [\"Uganda\", 4.43200016], [\"Chad\", 4.422699928], [\"Tunisia\", 4.392199993], [\"Mauritania\", 4.374599934], [\"Sri Lanka\", 4.327000141], [\"Congo (Kinshasa)\", 4.31099987], [\"Swaziland\", 4.3081002239999995], [\"Myanmar\", 4.308000088], [\"Comoros\", 4.288599968], [\"Togo\", 4.187200069], [\"Ethiopia\", 4.186200142], [\"Madagascar\", 4.165599823], [\"Egypt\", 4.151400089], [\"Sierra Leone\", 3.926399946], [\"Burundi\", 3.775300026], [\"Zambia\", 3.759399891], [\"Haiti\", 3.720799923], [\"Lesotho\", 3.6528000830000003], [\"India\", 3.573299885], [\"Malawi\", 3.538000107], [\"Yemen\", 3.5274000169999997], [\"Botswana\", 3.4788999560000002], [\"Tanzania\", 3.4762001039999997], [\"Central African Republic\", 3.475899935], [\"Rwanda\", 3.312299967], [\"Zimbabwe\", 3.2992000580000003], [\"South Sudan\", 2.8166000839999996], [\"Afghanistan\", 2.566900015]], \"geo\": \"geo\", \"hovertemplate\": \"Happiness Score=%{marker.color}<br>Country=%{customdata[0]}<extra></extra>\", \"legendgroup\": \"\", \"locationmode\": \"country names\", \"locations\": [\"Finland\", \"Denmark\", \"Switzerland\", \"Iceland\", \"Norway\", \"Netherlands\", \"Sweden\", \"New Zealand\", \"Austria\", \"Luxembourg\", \"Canada\", \"Australia\", \"United Kingdom\", \"Israel\", \"Costa Rica\", \"Ireland\", \"Germany\", \"United States\", \"Czech Republic\", \"Belgium\", \"United Arab Emirates\", \"Malta\", \"France\", \"Mexico\", \"Taiwan Province of China\", \"Uruguay\", \"Saudi Arabia\", \"Spain\", \"Guatemala\", \"Italy\", \"Singapore\", \"Brazil\", \"Slovenia\", \"El Salvador\", \"Kosovo\", \"Panama\", \"Slovakia\", \"Uzbekistan\", \"Chile\", \"Bahrain\", \"Lithuania\", \"Trinidad and Tobago\", \"Poland\", \"Colombia\", \"Cyprus\", \"Nicaragua\", \"Romania\", \"Kuwait\", \"Mauritius\", \"Kazakhstan\", \"Estonia\", \"Philippines\", \"Hungary\", \"Thailand\", \"Argentina\", \"Honduras\", \"Latvia\", \"Ecuador\", \"Portugal\", \"Jamaica\", \"South Korea\", \"Japan\", \"Peru\", \"Serbia\", \"Bolivia\", \"Pakistan\", \"Paraguay\", \"Dominican Republic\", \"Bosnia and Herzegovina\", \"Moldova\", \"Tajikistan\", \"Montenegro\", \"Russia\", \"Kyrgyzstan\", \"Belarus\", \"North Cyprus\", \"Greece\", \"Hong Kong S.A.R. of China\", \"Croatia\", \"Libya\", \"Mongolia\", \"Malaysia\", \"Vietnam\", \"Indonesia\", \"Ivory Coast\", \"Benin\", \"Maldives\", \"Congo (Brazzaville)\", \"Azerbaijan\", \"Macedonia\", \"Ghana\", \"Nepal\", \"Turkey\", \"China\", \"Turkmenistan\", \"Bulgaria\", \"Morocco\", \"Cameroon\", \"Venezuela\", \"Algeria\", \"Senegal\", \"Guinea\", \"Niger\", \"Laos\", \"Albania\", \"Cambodia\", \"Bangladesh\", \"Gabon\", \"South Africa\", \"Iraq\", \"Lebanon\", \"Burkina Faso\", \"Gambia\", \"Mali\", \"Nigeria\", \"Armenia\", \"Georgia\", \"Iran\", \"Jordan\", \"Mozambique\", \"Kenya\", \"Namibia\", \"Ukraine\", \"Liberia\", \"Palestinian Territories\", \"Uganda\", \"Chad\", \"Tunisia\", \"Mauritania\", \"Sri Lanka\", \"Congo (Kinshasa)\", \"Swaziland\", \"Myanmar\", \"Comoros\", \"Togo\", \"Ethiopia\", \"Madagascar\", \"Egypt\", \"Sierra Leone\", \"Burundi\", \"Zambia\", \"Haiti\", \"Lesotho\", \"India\", \"Malawi\", \"Yemen\", \"Botswana\", \"Tanzania\", \"Central African Republic\", \"Rwanda\", \"Zimbabwe\", \"South Sudan\", \"Afghanistan\"], \"marker\": {\"color\": [7.808700085, 7.645599842, 7.559899807000001, 7.504499912000001, 7.487999916000001, 7.448900223, 7.353499889, 7.2996001239999995, 7.294199944, 7.2375001910000005, 7.23210001, 7.222799778, 7.164500237, 7.128600121, 7.121399879, 7.093699932000001, 7.075799942000001, 6.939599991000001, 6.9109001160000005, 6.863500117999999, 6.790800095, 6.772799968999999, 6.663799762999999, 6.465000152999999, 6.45539999, 6.440100192999999, 6.406499863, 6.4008998870000005, 6.398900032, 6.38740015, 6.377099991000001, 6.375599861, 6.363399982000001, 6.34829998, 6.325200081, 6.304800033999999, 6.280600071, 6.257599831, 6.228499889, 6.227300167, 6.215499877999999, 6.1918997760000005, 6.1862998010000005, 6.163400172999999, 6.15899992, 6.13710022, 6.123700142000001, 6.102099895, 6.101299762999999, 6.0578999520000005, 6.0218000410000005, 6.006000042, 6.000400066, 5.9987998010000005, 5.974699974, 5.953199862999999, 5.9499998089999995, 5.925199986, 5.9109001160000005, 5.889800072000001, 5.872399807000001, 5.870800018, 5.796800137000001, 5.77820015, 5.747499942999999, 5.69329977, 5.6921000479999995, 5.6891999239999995, 5.674099922000001, 5.607500076, 5.555699825, 5.54610014, 5.546000004, 5.541500092000001, 5.539899826, 5.53550005, 5.514999866, 5.510399818, 5.504700184, 5.488800049, 5.4562001229999995, 5.384300232, 5.353499889, 5.285600185, 5.233300208999999, 5.21600008, 5.197599888, 5.1943998339999995, 5.164800167, 5.1598000530000006, 5.1479997630000005, 5.137199879, 5.131800175, 5.123899937, 5.119100093999999, 5.101500034, 5.094799995, 5.084899902, 5.053199768, 5.005099773, 4.980800152, 4.949299812, 4.909599781, 4.888599873, 4.882699966000001, 4.8484001160000005, 4.832799911, 4.829299927, 4.814099789, 4.7848000530000006, 4.771500111, 4.768700123, 4.750599861, 4.729300021999999, 4.724100113, 4.676799774, 4.672599792, 4.672399998, 4.6333999630000005, 4.623600006, 4.583000183, 4.571100235, 4.56069994, 4.557899952, 4.552800179, 4.43200016, 4.422699928, 4.392199993, 4.374599934, 4.327000141, 4.31099987, 4.3081002239999995, 4.308000088, 4.288599968, 4.187200069, 4.186200142, 4.165599823, 4.151400089, 3.926399946, 3.775300026, 3.759399891, 3.720799923, 3.6528000830000003, 3.573299885, 3.538000107, 3.5274000169999997, 3.4788999560000002, 3.4762001039999997, 3.475899935, 3.312299967, 3.2992000580000003, 2.8166000839999996, 2.566900015], \"coloraxis\": \"coloraxis\", \"size\": [7.808700085, 7.645599842, 7.559899807000001, 7.504499912000001, 7.487999916000001, 7.448900223, 7.353499889, 7.2996001239999995, 7.294199944, 7.2375001910000005, 7.23210001, 7.222799778, 7.164500237, 7.128600121, 7.121399879, 7.093699932000001, 7.075799942000001, 6.939599991000001, 6.9109001160000005, 6.863500117999999, 6.790800095, 6.772799968999999, 6.663799762999999, 6.465000152999999, 6.45539999, 6.440100192999999, 6.406499863, 6.4008998870000005, 6.398900032, 6.38740015, 6.377099991000001, 6.375599861, 6.363399982000001, 6.34829998, 6.325200081, 6.304800033999999, 6.280600071, 6.257599831, 6.228499889, 6.227300167, 6.215499877999999, 6.1918997760000005, 6.1862998010000005, 6.163400172999999, 6.15899992, 6.13710022, 6.123700142000001, 6.102099895, 6.101299762999999, 6.0578999520000005, 6.0218000410000005, 6.006000042, 6.000400066, 5.9987998010000005, 5.974699974, 5.953199862999999, 5.9499998089999995, 5.925199986, 5.9109001160000005, 5.889800072000001, 5.872399807000001, 5.870800018, 5.796800137000001, 5.77820015, 5.747499942999999, 5.69329977, 5.6921000479999995, 5.6891999239999995, 5.674099922000001, 5.607500076, 5.555699825, 5.54610014, 5.546000004, 5.541500092000001, 5.539899826, 5.53550005, 5.514999866, 5.510399818, 5.504700184, 5.488800049, 5.4562001229999995, 5.384300232, 5.353499889, 5.285600185, 5.233300208999999, 5.21600008, 5.197599888, 5.1943998339999995, 5.164800167, 5.1598000530000006, 5.1479997630000005, 5.137199879, 5.131800175, 5.123899937, 5.119100093999999, 5.101500034, 5.094799995, 5.084899902, 5.053199768, 5.005099773, 4.980800152, 4.949299812, 4.909599781, 4.888599873, 4.882699966000001, 4.8484001160000005, 4.832799911, 4.829299927, 4.814099789, 4.7848000530000006, 4.771500111, 4.768700123, 4.750599861, 4.729300021999999, 4.724100113, 4.676799774, 4.672599792, 4.672399998, 4.6333999630000005, 4.623600006, 4.583000183, 4.571100235, 4.56069994, 4.557899952, 4.552800179, 4.43200016, 4.422699928, 4.392199993, 4.374599934, 4.327000141, 4.31099987, 4.3081002239999995, 4.308000088, 4.288599968, 4.187200069, 4.186200142, 4.165599823, 4.151400089, 3.926399946, 3.775300026, 3.759399891, 3.720799923, 3.6528000830000003, 3.573299885, 3.538000107, 3.5274000169999997, 3.4788999560000002, 3.4762001039999997, 3.475899935, 3.312299967, 3.2992000580000003, 2.8166000839999996, 2.566900015], \"sizemode\": \"area\", \"sizeref\": 0.0195217502125}, \"name\": \"\", \"showlegend\": false, \"type\": \"scattergeo\"}],                        {\"coloraxis\": {\"colorbar\": {\"title\": {\"text\": \"Happiness Score\"}}, \"colorscale\": [[0.0, \"#0d0887\"], [0.1111111111111111, \"#46039f\"], [0.2222222222222222, \"#7201a8\"], [0.3333333333333333, \"#9c179e\"], [0.4444444444444444, \"#bd3786\"], [0.5555555555555556, \"#d8576b\"], [0.6666666666666666, \"#ed7953\"], [0.7777777777777778, \"#fb9f3a\"], [0.8888888888888888, \"#fdca26\"], [1.0, \"#f0f921\"]]}, \"font\": {\"color\": \"Black\", \"size\": 15}, \"geo\": {\"center\": {}, \"domain\": {\"x\": [0.0, 1.0], \"y\": [0.0, 1.0]}, \"projection\": {\"type\": \"equirectangular\"}, \"showcoastlines\": false, \"showframe\": false}, \"height\": 600, \"legend\": {\"itemsizing\": \"constant\", \"tracegroupgap\": 0}, \"margin\": {\"b\": 20, \"l\": 20, \"r\": 50, \"t\": 110}, \"template\": {\"data\": {\"bar\": [{\"error_x\": {\"color\": \"#2a3f5f\"}, \"error_y\": {\"color\": \"#2a3f5f\"}, \"marker\": {\"line\": {\"color\": \"#E5ECF6\", \"width\": 0.5}}, \"type\": \"bar\"}], \"barpolar\": [{\"marker\": {\"line\": {\"color\": \"#E5ECF6\", \"width\": 0.5}}, \"type\": \"barpolar\"}], \"carpet\": [{\"aaxis\": {\"endlinecolor\": \"#2a3f5f\", \"gridcolor\": \"white\", \"linecolor\": \"white\", \"minorgridcolor\": \"white\", \"startlinecolor\": \"#2a3f5f\"}, \"baxis\": {\"endlinecolor\": \"#2a3f5f\", \"gridcolor\": \"white\", \"linecolor\": \"white\", \"minorgridcolor\": \"white\", \"startlinecolor\": \"#2a3f5f\"}, \"type\": \"carpet\"}], \"choropleth\": [{\"colorbar\": {\"outlinewidth\": 0, \"ticks\": \"\"}, \"type\": \"choropleth\"}], \"contour\": [{\"colorbar\": {\"outlinewidth\": 0, \"ticks\": \"\"}, \"colorscale\": [[0.0, \"#0d0887\"], [0.1111111111111111, \"#46039f\"], [0.2222222222222222, \"#7201a8\"], [0.3333333333333333, \"#9c179e\"], [0.4444444444444444, \"#bd3786\"], [0.5555555555555556, \"#d8576b\"], [0.6666666666666666, \"#ed7953\"], [0.7777777777777778, \"#fb9f3a\"], [0.8888888888888888, \"#fdca26\"], [1.0, \"#f0f921\"]], \"type\": \"contour\"}], \"contourcarpet\": [{\"colorbar\": {\"outlinewidth\": 0, \"ticks\": \"\"}, \"type\": \"contourcarpet\"}], \"heatmap\": [{\"colorbar\": {\"outlinewidth\": 0, \"ticks\": \"\"}, \"colorscale\": [[0.0, \"#0d0887\"], [0.1111111111111111, \"#46039f\"], [0.2222222222222222, \"#7201a8\"], [0.3333333333333333, \"#9c179e\"], [0.4444444444444444, \"#bd3786\"], [0.5555555555555556, \"#d8576b\"], [0.6666666666666666, \"#ed7953\"], [0.7777777777777778, \"#fb9f3a\"], [0.8888888888888888, \"#fdca26\"], [1.0, \"#f0f921\"]], \"type\": \"heatmap\"}], \"heatmapgl\": [{\"colorbar\": {\"outlinewidth\": 0, \"ticks\": \"\"}, \"colorscale\": [[0.0, \"#0d0887\"], [0.1111111111111111, \"#46039f\"], [0.2222222222222222, \"#7201a8\"], [0.3333333333333333, \"#9c179e\"], [0.4444444444444444, \"#bd3786\"], [0.5555555555555556, \"#d8576b\"], [0.6666666666666666, \"#ed7953\"], [0.7777777777777778, \"#fb9f3a\"], [0.8888888888888888, \"#fdca26\"], [1.0, \"#f0f921\"]], \"type\": \"heatmapgl\"}], \"histogram\": [{\"marker\": {\"colorbar\": {\"outlinewidth\": 0, \"ticks\": \"\"}}, \"type\": \"histogram\"}], \"histogram2d\": [{\"colorbar\": {\"outlinewidth\": 0, \"ticks\": \"\"}, \"colorscale\": [[0.0, \"#0d0887\"], [0.1111111111111111, \"#46039f\"], [0.2222222222222222, \"#7201a8\"], [0.3333333333333333, \"#9c179e\"], [0.4444444444444444, \"#bd3786\"], [0.5555555555555556, \"#d8576b\"], [0.6666666666666666, \"#ed7953\"], [0.7777777777777778, \"#fb9f3a\"], [0.8888888888888888, \"#fdca26\"], [1.0, \"#f0f921\"]], \"type\": \"histogram2d\"}], \"histogram2dcontour\": [{\"colorbar\": {\"outlinewidth\": 0, \"ticks\": \"\"}, \"colorscale\": [[0.0, \"#0d0887\"], [0.1111111111111111, \"#46039f\"], [0.2222222222222222, \"#7201a8\"], [0.3333333333333333, \"#9c179e\"], [0.4444444444444444, \"#bd3786\"], [0.5555555555555556, \"#d8576b\"], [0.6666666666666666, \"#ed7953\"], [0.7777777777777778, \"#fb9f3a\"], [0.8888888888888888, \"#fdca26\"], [1.0, \"#f0f921\"]], \"type\": \"histogram2dcontour\"}], \"mesh3d\": [{\"colorbar\": {\"outlinewidth\": 0, \"ticks\": \"\"}, \"type\": \"mesh3d\"}], \"parcoords\": [{\"line\": {\"colorbar\": {\"outlinewidth\": 0, \"ticks\": \"\"}}, \"type\": \"parcoords\"}], \"pie\": [{\"automargin\": true, \"type\": \"pie\"}], \"scatter\": [{\"marker\": {\"colorbar\": {\"outlinewidth\": 0, \"ticks\": \"\"}}, \"type\": \"scatter\"}], \"scatter3d\": [{\"line\": {\"colorbar\": {\"outlinewidth\": 0, \"ticks\": \"\"}}, \"marker\": {\"colorbar\": {\"outlinewidth\": 0, \"ticks\": \"\"}}, \"type\": \"scatter3d\"}], \"scattercarpet\": [{\"marker\": {\"colorbar\": {\"outlinewidth\": 0, \"ticks\": \"\"}}, \"type\": \"scattercarpet\"}], \"scattergeo\": [{\"marker\": {\"colorbar\": {\"outlinewidth\": 0, \"ticks\": \"\"}}, \"type\": \"scattergeo\"}], \"scattergl\": [{\"marker\": {\"colorbar\": {\"outlinewidth\": 0, \"ticks\": \"\"}}, \"type\": \"scattergl\"}], \"scattermapbox\": [{\"marker\": {\"colorbar\": {\"outlinewidth\": 0, \"ticks\": \"\"}}, \"type\": \"scattermapbox\"}], \"scatterpolar\": [{\"marker\": {\"colorbar\": {\"outlinewidth\": 0, \"ticks\": \"\"}}, \"type\": \"scatterpolar\"}], \"scatterpolargl\": [{\"marker\": {\"colorbar\": {\"outlinewidth\": 0, \"ticks\": \"\"}}, \"type\": \"scatterpolargl\"}], \"scatterternary\": [{\"marker\": {\"colorbar\": {\"outlinewidth\": 0, \"ticks\": \"\"}}, \"type\": \"scatterternary\"}], \"surface\": [{\"colorbar\": {\"outlinewidth\": 0, \"ticks\": \"\"}, \"colorscale\": [[0.0, \"#0d0887\"], [0.1111111111111111, \"#46039f\"], [0.2222222222222222, \"#7201a8\"], [0.3333333333333333, \"#9c179e\"], [0.4444444444444444, \"#bd3786\"], [0.5555555555555556, \"#d8576b\"], [0.6666666666666666, \"#ed7953\"], [0.7777777777777778, \"#fb9f3a\"], [0.8888888888888888, \"#fdca26\"], [1.0, \"#f0f921\"]], \"type\": \"surface\"}], \"table\": [{\"cells\": {\"fill\": {\"color\": \"#EBF0F8\"}, \"line\": {\"color\": \"white\"}}, \"header\": {\"fill\": {\"color\": \"#C8D4E3\"}, \"line\": {\"color\": \"white\"}}, \"type\": \"table\"}]}, \"layout\": {\"annotationdefaults\": {\"arrowcolor\": \"#2a3f5f\", \"arrowhead\": 0, \"arrowwidth\": 1}, \"coloraxis\": {\"colorbar\": {\"outlinewidth\": 0, \"ticks\": \"\"}}, \"colorscale\": {\"diverging\": [[0, \"#8e0152\"], [0.1, \"#c51b7d\"], [0.2, \"#de77ae\"], [0.3, \"#f1b6da\"], [0.4, \"#fde0ef\"], [0.5, \"#f7f7f7\"], [0.6, \"#e6f5d0\"], [0.7, \"#b8e186\"], [0.8, \"#7fbc41\"], [0.9, \"#4d9221\"], [1, \"#276419\"]], \"sequential\": [[0.0, \"#0d0887\"], [0.1111111111111111, \"#46039f\"], [0.2222222222222222, \"#7201a8\"], [0.3333333333333333, \"#9c179e\"], [0.4444444444444444, \"#bd3786\"], [0.5555555555555556, \"#d8576b\"], [0.6666666666666666, \"#ed7953\"], [0.7777777777777778, \"#fb9f3a\"], [0.8888888888888888, \"#fdca26\"], [1.0, \"#f0f921\"]], \"sequentialminus\": [[0.0, \"#0d0887\"], [0.1111111111111111, \"#46039f\"], [0.2222222222222222, \"#7201a8\"], [0.3333333333333333, \"#9c179e\"], [0.4444444444444444, \"#bd3786\"], [0.5555555555555556, \"#d8576b\"], [0.6666666666666666, \"#ed7953\"], [0.7777777777777778, \"#fb9f3a\"], [0.8888888888888888, \"#fdca26\"], [1.0, \"#f0f921\"]]}, \"colorway\": [\"#636efa\", \"#EF553B\", \"#00cc96\", \"#ab63fa\", \"#FFA15A\", \"#19d3f3\", \"#FF6692\", \"#B6E880\", \"#FF97FF\", \"#FECB52\"], \"font\": {\"color\": \"#2a3f5f\"}, \"geo\": {\"bgcolor\": \"white\", \"lakecolor\": \"white\", \"landcolor\": \"#E5ECF6\", \"showlakes\": true, \"showland\": true, \"subunitcolor\": \"white\"}, \"hoverlabel\": {\"align\": \"left\"}, \"hovermode\": \"closest\", \"mapbox\": {\"style\": \"light\"}, \"paper_bgcolor\": \"white\", \"plot_bgcolor\": \"#E5ECF6\", \"polar\": {\"angularaxis\": {\"gridcolor\": \"white\", \"linecolor\": \"white\", \"ticks\": \"\"}, \"bgcolor\": \"#E5ECF6\", \"radialaxis\": {\"gridcolor\": \"white\", \"linecolor\": \"white\", \"ticks\": \"\"}}, \"scene\": {\"xaxis\": {\"backgroundcolor\": \"#E5ECF6\", \"gridcolor\": \"white\", \"gridwidth\": 2, \"linecolor\": \"white\", \"showbackground\": true, \"ticks\": \"\", \"zerolinecolor\": \"white\"}, \"yaxis\": {\"backgroundcolor\": \"#E5ECF6\", \"gridcolor\": \"white\", \"gridwidth\": 2, \"linecolor\": \"white\", \"showbackground\": true, \"ticks\": \"\", \"zerolinecolor\": \"white\"}, \"zaxis\": {\"backgroundcolor\": \"#E5ECF6\", \"gridcolor\": \"white\", \"gridwidth\": 2, \"linecolor\": \"white\", \"showbackground\": true, \"ticks\": \"\", \"zerolinecolor\": \"white\"}}, \"shapedefaults\": {\"line\": {\"color\": \"#2a3f5f\"}}, \"ternary\": {\"aaxis\": {\"gridcolor\": \"white\", \"linecolor\": \"white\", \"ticks\": \"\"}, \"baxis\": {\"gridcolor\": \"white\", \"linecolor\": \"white\", \"ticks\": \"\"}, \"bgcolor\": \"#E5ECF6\", \"caxis\": {\"gridcolor\": \"white\", \"linecolor\": \"white\", \"ticks\": \"\"}}, \"title\": {\"x\": 0.05}, \"xaxis\": {\"automargin\": true, \"gridcolor\": \"white\", \"linecolor\": \"white\", \"ticks\": \"\", \"title\": {\"standoff\": 15}, \"zerolinecolor\": \"white\", \"zerolinewidth\": 2}, \"yaxis\": {\"automargin\": true, \"gridcolor\": \"white\", \"linecolor\": \"white\", \"ticks\": \"\", \"title\": {\"standoff\": 15}, \"zerolinecolor\": \"white\", \"zerolinewidth\": 2}}}, \"title\": {\"text\": \"World Happiness Report 2020\", \"x\": 0.5, \"xanchor\": \"center\", \"y\": 0.9, \"yanchor\": \"top\"}, \"width\": 950},                        {\"responsive\": true}                    ).then(function(){\n",
       "                            \n",
       "var gd = document.getElementById('400d34cf-1c04-40a1-89ec-ab77e900f900');\n",
       "var x = new MutationObserver(function (mutations, observer) {{\n",
       "        var display = window.getComputedStyle(gd).display;\n",
       "        if (!display || display === 'none') {{\n",
       "            console.log([gd, 'removed!']);\n",
       "            Plotly.purge(gd);\n",
       "            observer.disconnect();\n",
       "        }}\n",
       "}});\n",
       "\n",
       "// Listen for the removal of the full notebook cells\n",
       "var notebookContainer = gd.closest('#notebook-container');\n",
       "if (notebookContainer) {{\n",
       "    x.observe(notebookContainer, {childList: true});\n",
       "}}\n",
       "\n",
       "// Listen for the clearing of the current output cell\n",
       "var outputEl = gd.closest('.output');\n",
       "if (outputEl) {{\n",
       "    x.observe(outputEl, {childList: true});\n",
       "}}\n",
       "\n",
       "                        })                };                });            </script>        </div>"
      ]
     },
     "metadata": {},
     "output_type": "display_data"
    }
   ],
   "source": [
    "# plot a map to show the 172 countries' happiness score\n",
    "fig = pc.scatter_geo(data2020,\n",
    "    locations = data2020['Country'],\n",
    "    locationmode = \"country names\",\n",
    "    hover_data = ['Country','Happiness Score'],\n",
    "    size='Happiness Score',\n",
    "    color='Happiness Score',width=950,height=600)\n",
    "# set up the map layout\n",
    "fig.update_layout(title = dict(text=\"World Happiness Report 2020\",y=0.9,x=0.5,xanchor='center',yanchor='top'),geo=dict(\n",
    "        showframe=False,\n",
    "        showcoastlines=False,\n",
    "        projection_type='equirectangular'),margin=dict(l=20, r=50, t=110, b=20),font=dict(size=15,color='Black'))\n",
    "\n",
    "\n",
    "fig.show()"
   ]
  },
  {
   "cell_type": "code",
   "execution_count": null,
   "metadata": {},
   "outputs": [],
   "source": [
    "# Conclusion:\n",
    "# The majority (43%) of the countries fall into 5-5.99 score group.\n",
    "# Overall trend from 2015 – 2020, the score was going up.\n",
    "# Denmark, Norway, Swizerland, Iceland made it to the top 5 list every year from 2015 – 2020.\n",
    "# Economy (GDP) is highly related to Health (Life Expectancy).\n",
    "# Overall score is highly related to GDP, Family, Health, has small relation to Government Corruption and Generosity.\n",
    "# All 10 regions have different overall scores\n"
   ]
  }
 ],
 "metadata": {
  "kernelspec": {
   "display_name": "Python [conda env:PthonData] *",
   "language": "python",
   "name": "conda-env-PthonData-py"
  },
  "language_info": {
   "codemirror_mode": {
    "name": "ipython",
    "version": 3
   },
   "file_extension": ".py",
   "mimetype": "text/x-python",
   "name": "python",
   "nbconvert_exporter": "python",
   "pygments_lexer": "ipython3",
   "version": "3.7.1"
  }
 },
 "nbformat": 4,
 "nbformat_minor": 4
}
