{
 "cells": [
  {
   "cell_type": "code",
   "execution_count": 175,
   "metadata": {},
   "outputs": [
    {
     "ename": "ModuleNotFoundError",
     "evalue": "No module named 'plotly'",
     "output_type": "error",
     "traceback": [
      "\u001b[1;31m---------------------------------------------------------------------------\u001b[0m",
      "\u001b[1;31mModuleNotFoundError\u001b[0m                       Traceback (most recent call last)",
      "\u001b[1;32m<ipython-input-175-081ba08081d1>\u001b[0m in \u001b[0;36m<module>\u001b[1;34m\u001b[0m\n\u001b[0;32m      4\u001b[0m \u001b[1;32mimport\u001b[0m \u001b[0mmatplotlib\u001b[0m\u001b[1;33m.\u001b[0m\u001b[0mpyplot\u001b[0m \u001b[1;32mas\u001b[0m \u001b[0mplt\u001b[0m\u001b[1;33m\u001b[0m\u001b[1;33m\u001b[0m\u001b[0m\n\u001b[0;32m      5\u001b[0m \u001b[1;32mimport\u001b[0m \u001b[0mscipy\u001b[0m\u001b[1;33m.\u001b[0m\u001b[0mstats\u001b[0m \u001b[1;32mas\u001b[0m \u001b[0mst\u001b[0m\u001b[1;33m\u001b[0m\u001b[1;33m\u001b[0m\u001b[0m\n\u001b[1;32m----> 6\u001b[1;33m \u001b[1;32mimport\u001b[0m \u001b[0mplotly\u001b[0m\u001b[1;33m\u001b[0m\u001b[1;33m\u001b[0m\u001b[0m\n\u001b[0m\u001b[0;32m      7\u001b[0m \u001b[1;32mimport\u001b[0m \u001b[0mplotly\u001b[0m\u001b[1;33m.\u001b[0m\u001b[0mexpress\u001b[0m \u001b[1;32mas\u001b[0m \u001b[0mpc\u001b[0m\u001b[1;33m\u001b[0m\u001b[1;33m\u001b[0m\u001b[0m\n\u001b[0;32m      8\u001b[0m \u001b[1;32mfrom\u001b[0m \u001b[0mscipy\u001b[0m\u001b[1;33m.\u001b[0m\u001b[0mstats\u001b[0m \u001b[1;32mimport\u001b[0m \u001b[0mlinregress\u001b[0m\u001b[1;33m\u001b[0m\u001b[1;33m\u001b[0m\u001b[0m\n",
      "\u001b[1;31mModuleNotFoundError\u001b[0m: No module named 'plotly'"
     ]
    }
   ],
   "source": [
    "# Dependencies and Setup\n",
    "import pandas as pd\n",
    "import numpy as np\n",
    "import matplotlib.pyplot as plt\n",
    "import scipy.stats as st\n",
    "import plotly\n",
    "import plotly.express as pc\n",
    "from scipy.stats import linregress\n",
    "from sklearn import datasets\n",
    "\n",
    "#import data files\n",
    "data15_path = \"Data/2015.csv\"\n",
    "data2015 = pd.read_csv(data15_path)\n",
    "data2015['Year'] = 2015\n",
    "\n",
    "data16_path = \"Data/2016.csv\"\n",
    "data2016 = pd.read_csv(data16_path)\n",
    "data2016['Year'] = 2016\n",
    "\n",
    "data17_path = \"Data/2017.csv\"\n",
    "data2017 = pd.read_csv(data17_path)\n",
    "data2017['Year'] = 2017\n",
    "\n",
    "data18_path = \"Data/2018.csv\"\n",
    "data2018 = pd.read_csv(data18_path)\n",
    "data2018['Year'] = 2018\n",
    "\n",
    "data19_path = \"Data/2019.csv\"\n",
    "data2019 = pd.read_csv(data19_path)\n",
    "data2019['Year'] = 2019\n",
    "\n",
    "data20_path = \"Data/2020.csv\"\n",
    "data2020 = pd.read_csv(data20_path)\n",
    "data2020['Year'] = 2020\n"
   ]
  },
  {
   "cell_type": "code",
   "execution_count": 173,
   "metadata": {},
   "outputs": [
    {
     "data": {
      "text/html": [
       "<div>\n",
       "<style scoped>\n",
       "    .dataframe tbody tr th:only-of-type {\n",
       "        vertical-align: middle;\n",
       "    }\n",
       "\n",
       "    .dataframe tbody tr th {\n",
       "        vertical-align: top;\n",
       "    }\n",
       "\n",
       "    .dataframe thead th {\n",
       "        text-align: right;\n",
       "    }\n",
       "</style>\n",
       "<table border=\"1\" class=\"dataframe\">\n",
       "  <thead>\n",
       "    <tr style=\"text-align: right;\">\n",
       "      <th></th>\n",
       "      <th>Country</th>\n",
       "      <th>Regional indicator</th>\n",
       "      <th>Happiness Rank</th>\n",
       "      <th>Happiness Score</th>\n",
       "      <th>Standard error of ladder score</th>\n",
       "      <th>upperwhisker</th>\n",
       "      <th>lowerwhisker</th>\n",
       "      <th>Economy (GDP per Capita)</th>\n",
       "      <th>Family</th>\n",
       "      <th>Health (Life Expectancy)</th>\n",
       "      <th>...</th>\n",
       "      <th>Trust (Government Corruption)</th>\n",
       "      <th>Ladder score in Dystopia</th>\n",
       "      <th>Explained by: Log GDP per capita</th>\n",
       "      <th>Explained by: Social support</th>\n",
       "      <th>Explained by: Healthy life expectancy</th>\n",
       "      <th>Explained by: Freedom to make life choices</th>\n",
       "      <th>Explained by: Generosity</th>\n",
       "      <th>Explained by: Perceptions of corruption</th>\n",
       "      <th>Dystopia + residual</th>\n",
       "      <th>Year</th>\n",
       "    </tr>\n",
       "  </thead>\n",
       "  <tbody>\n",
       "    <tr>\n",
       "      <th>0</th>\n",
       "      <td>Finland</td>\n",
       "      <td>Western Europe</td>\n",
       "      <td>1</td>\n",
       "      <td>7.8087</td>\n",
       "      <td>0.031156</td>\n",
       "      <td>7.869766</td>\n",
       "      <td>7.747634</td>\n",
       "      <td>1.026912</td>\n",
       "      <td>0.954330</td>\n",
       "      <td>0.719008</td>\n",
       "      <td>...</td>\n",
       "      <td>0.195445</td>\n",
       "      <td>1.972317</td>\n",
       "      <td>1.285190</td>\n",
       "      <td>1.499526</td>\n",
       "      <td>0.961271</td>\n",
       "      <td>0.662317</td>\n",
       "      <td>0.159670</td>\n",
       "      <td>0.477857</td>\n",
       "      <td>2.762835</td>\n",
       "      <td>2020</td>\n",
       "    </tr>\n",
       "    <tr>\n",
       "      <th>1</th>\n",
       "      <td>Denmark</td>\n",
       "      <td>Western Europe</td>\n",
       "      <td>2</td>\n",
       "      <td>7.6456</td>\n",
       "      <td>0.033492</td>\n",
       "      <td>7.711245</td>\n",
       "      <td>7.579955</td>\n",
       "      <td>1.032377</td>\n",
       "      <td>0.955991</td>\n",
       "      <td>0.724025</td>\n",
       "      <td>...</td>\n",
       "      <td>0.168489</td>\n",
       "      <td>1.972317</td>\n",
       "      <td>1.326949</td>\n",
       "      <td>1.503449</td>\n",
       "      <td>0.979333</td>\n",
       "      <td>0.665040</td>\n",
       "      <td>0.242793</td>\n",
       "      <td>0.495260</td>\n",
       "      <td>2.432741</td>\n",
       "      <td>2020</td>\n",
       "    </tr>\n",
       "    <tr>\n",
       "      <th>2</th>\n",
       "      <td>Switzerland</td>\n",
       "      <td>Western Europe</td>\n",
       "      <td>3</td>\n",
       "      <td>7.5599</td>\n",
       "      <td>0.035014</td>\n",
       "      <td>7.628528</td>\n",
       "      <td>7.491272</td>\n",
       "      <td>1.040600</td>\n",
       "      <td>0.942847</td>\n",
       "      <td>0.741024</td>\n",
       "      <td>...</td>\n",
       "      <td>0.303728</td>\n",
       "      <td>1.972317</td>\n",
       "      <td>1.390774</td>\n",
       "      <td>1.472403</td>\n",
       "      <td>1.040533</td>\n",
       "      <td>0.628954</td>\n",
       "      <td>0.269056</td>\n",
       "      <td>0.407946</td>\n",
       "      <td>2.350267</td>\n",
       "      <td>2020</td>\n",
       "    </tr>\n",
       "    <tr>\n",
       "      <th>3</th>\n",
       "      <td>Iceland</td>\n",
       "      <td>Western Europe</td>\n",
       "      <td>4</td>\n",
       "      <td>7.5045</td>\n",
       "      <td>0.059616</td>\n",
       "      <td>7.621347</td>\n",
       "      <td>7.387653</td>\n",
       "      <td>1.032319</td>\n",
       "      <td>0.974670</td>\n",
       "      <td>0.730000</td>\n",
       "      <td>...</td>\n",
       "      <td>0.711710</td>\n",
       "      <td>1.972317</td>\n",
       "      <td>1.326502</td>\n",
       "      <td>1.547567</td>\n",
       "      <td>1.000843</td>\n",
       "      <td>0.661981</td>\n",
       "      <td>0.362330</td>\n",
       "      <td>0.144541</td>\n",
       "      <td>2.460688</td>\n",
       "      <td>2020</td>\n",
       "    </tr>\n",
       "    <tr>\n",
       "      <th>4</th>\n",
       "      <td>Norway</td>\n",
       "      <td>Western Europe</td>\n",
       "      <td>5</td>\n",
       "      <td>7.4880</td>\n",
       "      <td>0.034837</td>\n",
       "      <td>7.556281</td>\n",
       "      <td>7.419719</td>\n",
       "      <td>1.044846</td>\n",
       "      <td>0.952487</td>\n",
       "      <td>0.732008</td>\n",
       "      <td>...</td>\n",
       "      <td>0.263218</td>\n",
       "      <td>1.972317</td>\n",
       "      <td>1.424207</td>\n",
       "      <td>1.495173</td>\n",
       "      <td>1.008072</td>\n",
       "      <td>0.670201</td>\n",
       "      <td>0.287985</td>\n",
       "      <td>0.434101</td>\n",
       "      <td>2.168266</td>\n",
       "      <td>2020</td>\n",
       "    </tr>\n",
       "    <tr>\n",
       "      <th>...</th>\n",
       "      <td>...</td>\n",
       "      <td>...</td>\n",
       "      <td>...</td>\n",
       "      <td>...</td>\n",
       "      <td>...</td>\n",
       "      <td>...</td>\n",
       "      <td>...</td>\n",
       "      <td>...</td>\n",
       "      <td>...</td>\n",
       "      <td>...</td>\n",
       "      <td>...</td>\n",
       "      <td>...</td>\n",
       "      <td>...</td>\n",
       "      <td>...</td>\n",
       "      <td>...</td>\n",
       "      <td>...</td>\n",
       "      <td>...</td>\n",
       "      <td>...</td>\n",
       "      <td>...</td>\n",
       "      <td>...</td>\n",
       "      <td>...</td>\n",
       "    </tr>\n",
       "    <tr>\n",
       "      <th>148</th>\n",
       "      <td>Central African Republic</td>\n",
       "      <td>Sub-Saharan Africa</td>\n",
       "      <td>149</td>\n",
       "      <td>3.4759</td>\n",
       "      <td>0.115183</td>\n",
       "      <td>3.701658</td>\n",
       "      <td>3.250141</td>\n",
       "      <td>0.821196</td>\n",
       "      <td>0.319460</td>\n",
       "      <td>0.452000</td>\n",
       "      <td>...</td>\n",
       "      <td>0.891807</td>\n",
       "      <td>1.972317</td>\n",
       "      <td>0.041072</td>\n",
       "      <td>0.000000</td>\n",
       "      <td>0.000000</td>\n",
       "      <td>0.292814</td>\n",
       "      <td>0.253513</td>\n",
       "      <td>0.028265</td>\n",
       "      <td>2.860198</td>\n",
       "      <td>2020</td>\n",
       "    </tr>\n",
       "    <tr>\n",
       "      <th>149</th>\n",
       "      <td>Rwanda</td>\n",
       "      <td>Sub-Saharan Africa</td>\n",
       "      <td>150</td>\n",
       "      <td>3.3123</td>\n",
       "      <td>0.052425</td>\n",
       "      <td>3.415053</td>\n",
       "      <td>3.209547</td>\n",
       "      <td>0.880820</td>\n",
       "      <td>0.540835</td>\n",
       "      <td>0.610988</td>\n",
       "      <td>...</td>\n",
       "      <td>0.183541</td>\n",
       "      <td>1.972317</td>\n",
       "      <td>0.343243</td>\n",
       "      <td>0.522876</td>\n",
       "      <td>0.572383</td>\n",
       "      <td>0.604088</td>\n",
       "      <td>0.235705</td>\n",
       "      <td>0.485542</td>\n",
       "      <td>0.548445</td>\n",
       "      <td>2020</td>\n",
       "    </tr>\n",
       "    <tr>\n",
       "      <th>150</th>\n",
       "      <td>Zimbabwe</td>\n",
       "      <td>Sub-Saharan Africa</td>\n",
       "      <td>151</td>\n",
       "      <td>3.2992</td>\n",
       "      <td>0.058674</td>\n",
       "      <td>3.414202</td>\n",
       "      <td>3.184198</td>\n",
       "      <td>0.895738</td>\n",
       "      <td>0.763093</td>\n",
       "      <td>0.556173</td>\n",
       "      <td>...</td>\n",
       "      <td>0.810237</td>\n",
       "      <td>1.972317</td>\n",
       "      <td>0.425564</td>\n",
       "      <td>1.047835</td>\n",
       "      <td>0.375038</td>\n",
       "      <td>0.377405</td>\n",
       "      <td>0.151349</td>\n",
       "      <td>0.080929</td>\n",
       "      <td>0.841031</td>\n",
       "      <td>2020</td>\n",
       "    </tr>\n",
       "    <tr>\n",
       "      <th>151</th>\n",
       "      <td>South Sudan</td>\n",
       "      <td>Sub-Saharan Africa</td>\n",
       "      <td>152</td>\n",
       "      <td>2.8166</td>\n",
       "      <td>0.107610</td>\n",
       "      <td>3.027516</td>\n",
       "      <td>2.605684</td>\n",
       "      <td>0.870717</td>\n",
       "      <td>0.553707</td>\n",
       "      <td>0.510000</td>\n",
       "      <td>...</td>\n",
       "      <td>0.763417</td>\n",
       "      <td>1.972317</td>\n",
       "      <td>0.289083</td>\n",
       "      <td>0.553279</td>\n",
       "      <td>0.208809</td>\n",
       "      <td>0.065609</td>\n",
       "      <td>0.209935</td>\n",
       "      <td>0.111157</td>\n",
       "      <td>1.378751</td>\n",
       "      <td>2020</td>\n",
       "    </tr>\n",
       "    <tr>\n",
       "      <th>152</th>\n",
       "      <td>Afghanistan</td>\n",
       "      <td>South Asia</td>\n",
       "      <td>153</td>\n",
       "      <td>2.5669</td>\n",
       "      <td>0.031311</td>\n",
       "      <td>2.628270</td>\n",
       "      <td>2.505530</td>\n",
       "      <td>0.872905</td>\n",
       "      <td>0.470367</td>\n",
       "      <td>0.525900</td>\n",
       "      <td>...</td>\n",
       "      <td>0.933687</td>\n",
       "      <td>1.972317</td>\n",
       "      <td>0.300706</td>\n",
       "      <td>0.356434</td>\n",
       "      <td>0.266052</td>\n",
       "      <td>0.000000</td>\n",
       "      <td>0.135235</td>\n",
       "      <td>0.001226</td>\n",
       "      <td>1.507236</td>\n",
       "      <td>2020</td>\n",
       "    </tr>\n",
       "  </tbody>\n",
       "</table>\n",
       "<p>153 rows × 22 columns</p>\n",
       "</div>"
      ],
      "text/plain": [
       "                      Country  Regional indicator  Happiness Rank  \\\n",
       "0                     Finland      Western Europe               1   \n",
       "1                     Denmark      Western Europe               2   \n",
       "2                 Switzerland      Western Europe               3   \n",
       "3                     Iceland      Western Europe               4   \n",
       "4                      Norway      Western Europe               5   \n",
       "..                        ...                 ...             ...   \n",
       "148  Central African Republic  Sub-Saharan Africa             149   \n",
       "149                    Rwanda  Sub-Saharan Africa             150   \n",
       "150                  Zimbabwe  Sub-Saharan Africa             151   \n",
       "151               South Sudan  Sub-Saharan Africa             152   \n",
       "152               Afghanistan          South Asia             153   \n",
       "\n",
       "     Happiness Score  Standard error of ladder score  upperwhisker  \\\n",
       "0             7.8087                        0.031156      7.869766   \n",
       "1             7.6456                        0.033492      7.711245   \n",
       "2             7.5599                        0.035014      7.628528   \n",
       "3             7.5045                        0.059616      7.621347   \n",
       "4             7.4880                        0.034837      7.556281   \n",
       "..               ...                             ...           ...   \n",
       "148           3.4759                        0.115183      3.701658   \n",
       "149           3.3123                        0.052425      3.415053   \n",
       "150           3.2992                        0.058674      3.414202   \n",
       "151           2.8166                        0.107610      3.027516   \n",
       "152           2.5669                        0.031311      2.628270   \n",
       "\n",
       "     lowerwhisker  Economy (GDP per Capita)    Family  \\\n",
       "0        7.747634                  1.026912  0.954330   \n",
       "1        7.579955                  1.032377  0.955991   \n",
       "2        7.491272                  1.040600  0.942847   \n",
       "3        7.387653                  1.032319  0.974670   \n",
       "4        7.419719                  1.044846  0.952487   \n",
       "..            ...                       ...       ...   \n",
       "148      3.250141                  0.821196  0.319460   \n",
       "149      3.209547                  0.880820  0.540835   \n",
       "150      3.184198                  0.895738  0.763093   \n",
       "151      2.605684                  0.870717  0.553707   \n",
       "152      2.505530                  0.872905  0.470367   \n",
       "\n",
       "     Health (Life Expectancy)  ...  Trust (Government Corruption)  \\\n",
       "0                    0.719008  ...                       0.195445   \n",
       "1                    0.724025  ...                       0.168489   \n",
       "2                    0.741024  ...                       0.303728   \n",
       "3                    0.730000  ...                       0.711710   \n",
       "4                    0.732008  ...                       0.263218   \n",
       "..                        ...  ...                            ...   \n",
       "148                  0.452000  ...                       0.891807   \n",
       "149                  0.610988  ...                       0.183541   \n",
       "150                  0.556173  ...                       0.810237   \n",
       "151                  0.510000  ...                       0.763417   \n",
       "152                  0.525900  ...                       0.933687   \n",
       "\n",
       "     Ladder score in Dystopia  Explained by: Log GDP per capita  \\\n",
       "0                    1.972317                          1.285190   \n",
       "1                    1.972317                          1.326949   \n",
       "2                    1.972317                          1.390774   \n",
       "3                    1.972317                          1.326502   \n",
       "4                    1.972317                          1.424207   \n",
       "..                        ...                               ...   \n",
       "148                  1.972317                          0.041072   \n",
       "149                  1.972317                          0.343243   \n",
       "150                  1.972317                          0.425564   \n",
       "151                  1.972317                          0.289083   \n",
       "152                  1.972317                          0.300706   \n",
       "\n",
       "     Explained by: Social support  Explained by: Healthy life expectancy  \\\n",
       "0                        1.499526                               0.961271   \n",
       "1                        1.503449                               0.979333   \n",
       "2                        1.472403                               1.040533   \n",
       "3                        1.547567                               1.000843   \n",
       "4                        1.495173                               1.008072   \n",
       "..                            ...                                    ...   \n",
       "148                      0.000000                               0.000000   \n",
       "149                      0.522876                               0.572383   \n",
       "150                      1.047835                               0.375038   \n",
       "151                      0.553279                               0.208809   \n",
       "152                      0.356434                               0.266052   \n",
       "\n",
       "     Explained by: Freedom to make life choices  Explained by: Generosity  \\\n",
       "0                                      0.662317                  0.159670   \n",
       "1                                      0.665040                  0.242793   \n",
       "2                                      0.628954                  0.269056   \n",
       "3                                      0.661981                  0.362330   \n",
       "4                                      0.670201                  0.287985   \n",
       "..                                          ...                       ...   \n",
       "148                                    0.292814                  0.253513   \n",
       "149                                    0.604088                  0.235705   \n",
       "150                                    0.377405                  0.151349   \n",
       "151                                    0.065609                  0.209935   \n",
       "152                                    0.000000                  0.135235   \n",
       "\n",
       "     Explained by: Perceptions of corruption  Dystopia + residual  Year  \n",
       "0                                   0.477857             2.762835  2020  \n",
       "1                                   0.495260             2.432741  2020  \n",
       "2                                   0.407946             2.350267  2020  \n",
       "3                                   0.144541             2.460688  2020  \n",
       "4                                   0.434101             2.168266  2020  \n",
       "..                                       ...                  ...   ...  \n",
       "148                                 0.028265             2.860198  2020  \n",
       "149                                 0.485542             0.548445  2020  \n",
       "150                                 0.080929             0.841031  2020  \n",
       "151                                 0.111157             1.378751  2020  \n",
       "152                                 0.001226             1.507236  2020  \n",
       "\n",
       "[153 rows x 22 columns]"
      ]
     },
     "execution_count": 173,
     "metadata": {},
     "output_type": "execute_result"
    }
   ],
   "source": [
    "#match all the files header name\n",
    "data2017 = data2017.rename(columns = {'Happiness.Rank':'Happiness Rank', 'Happiness.Score':'Happiness Score',\n",
    "                                     'Economy..GDP.per.Capita.' : 'Economy (GDP per Capita)', 'Health..Life.Expectancy.':'Health (Life Expectancy)',\n",
    "                                     'Trust..Government.Corruption.':'Trust (Government Corruption)', 'Dystopia.Residual':'Dystopia Residual'})\n",
    "data2018 = data2018.rename(columns = {'Overall rank':'Happiness Rank', 'Country or region':'Country', 'Score':'Happiness Score',\n",
    "                                     'GDP per capita' : 'Economy (GDP per Capita)', 'Social support':'Family', 'Healthy life expectancy':'Health (Life Expectancy)',\n",
    "                                     'Freedom to make life choices':'Freedom', 'Perceptions of corruption':'Trust (Government Corruption)'})\n",
    "data2019 = data2019.rename(columns = {'Overall rank':'Happiness Rank', 'Country or region':'Country', 'Score':'Happiness Score',\n",
    "                                     'GDP per capita' : 'Economy (GDP per Capita)', 'Social support':'Family', 'Healthy life expectancy':'Health (Life Expectancy)',\n",
    "                                     'Freedom to make life choices':'Freedom', 'Perceptions of corruption':'Trust (Government Corruption)'})\n",
    "data2020 = data2020.rename(columns = {'Country name':'Country', 'Ladder score':'Happiness Score',\n",
    "                                     'Logged GDP per capita' : 'Economy (GDP per Capita)', 'Social support':'Family', 'Healthy life expectancy':'Health (Life Expectancy)',\n",
    "                                     'Freedom to make life choices':'Freedom', 'Perceptions of corruption':'Trust (Government Corruption)'})\n",
    "data2020"
   ]
  },
  {
   "cell_type": "code",
   "execution_count": 174,
   "metadata": {},
   "outputs": [
    {
     "data": {
      "text/html": [
       "<div>\n",
       "<style scoped>\n",
       "    .dataframe tbody tr th:only-of-type {\n",
       "        vertical-align: middle;\n",
       "    }\n",
       "\n",
       "    .dataframe tbody tr th {\n",
       "        vertical-align: top;\n",
       "    }\n",
       "\n",
       "    .dataframe thead th {\n",
       "        text-align: right;\n",
       "    }\n",
       "</style>\n",
       "<table border=\"1\" class=\"dataframe\">\n",
       "  <thead>\n",
       "    <tr style=\"text-align: right;\">\n",
       "      <th></th>\n",
       "      <th>Country</th>\n",
       "      <th>Happiness Rank</th>\n",
       "      <th>Happiness Score</th>\n",
       "      <th>Economy (GDP per Capita)</th>\n",
       "      <th>Family</th>\n",
       "      <th>Health (Life Expectancy)</th>\n",
       "      <th>Freedom</th>\n",
       "      <th>Trust (Government Corruption)</th>\n",
       "      <th>Generosity</th>\n",
       "      <th>Year</th>\n",
       "    </tr>\n",
       "  </thead>\n",
       "  <tbody>\n",
       "    <tr>\n",
       "      <th>0</th>\n",
       "      <td>Switzerland</td>\n",
       "      <td>1</td>\n",
       "      <td>7.5870</td>\n",
       "      <td>1.396510</td>\n",
       "      <td>1.349510</td>\n",
       "      <td>0.941430</td>\n",
       "      <td>0.665570</td>\n",
       "      <td>0.419780</td>\n",
       "      <td>0.296780</td>\n",
       "      <td>2015</td>\n",
       "    </tr>\n",
       "    <tr>\n",
       "      <th>1</th>\n",
       "      <td>Iceland</td>\n",
       "      <td>2</td>\n",
       "      <td>7.5610</td>\n",
       "      <td>1.302320</td>\n",
       "      <td>1.402230</td>\n",
       "      <td>0.947840</td>\n",
       "      <td>0.628770</td>\n",
       "      <td>0.141450</td>\n",
       "      <td>0.436300</td>\n",
       "      <td>2015</td>\n",
       "    </tr>\n",
       "    <tr>\n",
       "      <th>2</th>\n",
       "      <td>Denmark</td>\n",
       "      <td>3</td>\n",
       "      <td>7.5270</td>\n",
       "      <td>1.325480</td>\n",
       "      <td>1.360580</td>\n",
       "      <td>0.874640</td>\n",
       "      <td>0.649380</td>\n",
       "      <td>0.483570</td>\n",
       "      <td>0.341390</td>\n",
       "      <td>2015</td>\n",
       "    </tr>\n",
       "    <tr>\n",
       "      <th>3</th>\n",
       "      <td>Norway</td>\n",
       "      <td>4</td>\n",
       "      <td>7.5220</td>\n",
       "      <td>1.459000</td>\n",
       "      <td>1.330950</td>\n",
       "      <td>0.885210</td>\n",
       "      <td>0.669730</td>\n",
       "      <td>0.365030</td>\n",
       "      <td>0.346990</td>\n",
       "      <td>2015</td>\n",
       "    </tr>\n",
       "    <tr>\n",
       "      <th>4</th>\n",
       "      <td>Canada</td>\n",
       "      <td>5</td>\n",
       "      <td>7.4270</td>\n",
       "      <td>1.326290</td>\n",
       "      <td>1.322610</td>\n",
       "      <td>0.905630</td>\n",
       "      <td>0.632970</td>\n",
       "      <td>0.329570</td>\n",
       "      <td>0.458110</td>\n",
       "      <td>2015</td>\n",
       "    </tr>\n",
       "    <tr>\n",
       "      <th>...</th>\n",
       "      <td>...</td>\n",
       "      <td>...</td>\n",
       "      <td>...</td>\n",
       "      <td>...</td>\n",
       "      <td>...</td>\n",
       "      <td>...</td>\n",
       "      <td>...</td>\n",
       "      <td>...</td>\n",
       "      <td>...</td>\n",
       "      <td>...</td>\n",
       "    </tr>\n",
       "    <tr>\n",
       "      <th>930</th>\n",
       "      <td>Central African Republic</td>\n",
       "      <td>149</td>\n",
       "      <td>3.4759</td>\n",
       "      <td>0.821196</td>\n",
       "      <td>0.319460</td>\n",
       "      <td>0.452000</td>\n",
       "      <td>0.640881</td>\n",
       "      <td>0.891807</td>\n",
       "      <td>0.082410</td>\n",
       "      <td>2020</td>\n",
       "    </tr>\n",
       "    <tr>\n",
       "      <th>931</th>\n",
       "      <td>Rwanda</td>\n",
       "      <td>150</td>\n",
       "      <td>3.3123</td>\n",
       "      <td>0.880820</td>\n",
       "      <td>0.540835</td>\n",
       "      <td>0.610988</td>\n",
       "      <td>0.900589</td>\n",
       "      <td>0.183541</td>\n",
       "      <td>0.055484</td>\n",
       "      <td>2020</td>\n",
       "    </tr>\n",
       "    <tr>\n",
       "      <th>932</th>\n",
       "      <td>Zimbabwe</td>\n",
       "      <td>151</td>\n",
       "      <td>3.2992</td>\n",
       "      <td>0.895738</td>\n",
       "      <td>0.763093</td>\n",
       "      <td>0.556173</td>\n",
       "      <td>0.711458</td>\n",
       "      <td>0.810237</td>\n",
       "      <td>-0.072064</td>\n",
       "      <td>2020</td>\n",
       "    </tr>\n",
       "    <tr>\n",
       "      <th>933</th>\n",
       "      <td>South Sudan</td>\n",
       "      <td>152</td>\n",
       "      <td>2.8166</td>\n",
       "      <td>0.870717</td>\n",
       "      <td>0.553707</td>\n",
       "      <td>0.510000</td>\n",
       "      <td>0.451314</td>\n",
       "      <td>0.763417</td>\n",
       "      <td>0.016519</td>\n",
       "      <td>2020</td>\n",
       "    </tr>\n",
       "    <tr>\n",
       "      <th>934</th>\n",
       "      <td>Afghanistan</td>\n",
       "      <td>153</td>\n",
       "      <td>2.5669</td>\n",
       "      <td>0.872905</td>\n",
       "      <td>0.470367</td>\n",
       "      <td>0.525900</td>\n",
       "      <td>0.396573</td>\n",
       "      <td>0.933687</td>\n",
       "      <td>-0.096429</td>\n",
       "      <td>2020</td>\n",
       "    </tr>\n",
       "  </tbody>\n",
       "</table>\n",
       "<p>935 rows × 10 columns</p>\n",
       "</div>"
      ],
      "text/plain": [
       "                      Country Happiness Rank  Happiness Score  \\\n",
       "0                 Switzerland              1           7.5870   \n",
       "1                     Iceland              2           7.5610   \n",
       "2                     Denmark              3           7.5270   \n",
       "3                      Norway              4           7.5220   \n",
       "4                      Canada              5           7.4270   \n",
       "..                        ...            ...              ...   \n",
       "930  Central African Republic            149           3.4759   \n",
       "931                    Rwanda            150           3.3123   \n",
       "932                  Zimbabwe            151           3.2992   \n",
       "933               South Sudan            152           2.8166   \n",
       "934               Afghanistan            153           2.5669   \n",
       "\n",
       "     Economy (GDP per Capita)    Family  Health (Life Expectancy)   Freedom  \\\n",
       "0                    1.396510  1.349510                  0.941430  0.665570   \n",
       "1                    1.302320  1.402230                  0.947840  0.628770   \n",
       "2                    1.325480  1.360580                  0.874640  0.649380   \n",
       "3                    1.459000  1.330950                  0.885210  0.669730   \n",
       "4                    1.326290  1.322610                  0.905630  0.632970   \n",
       "..                        ...       ...                       ...       ...   \n",
       "930                  0.821196  0.319460                  0.452000  0.640881   \n",
       "931                  0.880820  0.540835                  0.610988  0.900589   \n",
       "932                  0.895738  0.763093                  0.556173  0.711458   \n",
       "933                  0.870717  0.553707                  0.510000  0.451314   \n",
       "934                  0.872905  0.470367                  0.525900  0.396573   \n",
       "\n",
       "     Trust (Government Corruption)  Generosity  Year  \n",
       "0                         0.419780    0.296780  2015  \n",
       "1                         0.141450    0.436300  2015  \n",
       "2                         0.483570    0.341390  2015  \n",
       "3                         0.365030    0.346990  2015  \n",
       "4                         0.329570    0.458110  2015  \n",
       "..                             ...         ...   ...  \n",
       "930                       0.891807    0.082410  2020  \n",
       "931                       0.183541    0.055484  2020  \n",
       "932                       0.810237   -0.072064  2020  \n",
       "933                       0.763417    0.016519  2020  \n",
       "934                       0.933687   -0.096429  2020  \n",
       "\n",
       "[935 rows x 10 columns]"
      ]
     },
     "execution_count": 174,
     "metadata": {},
     "output_type": "execute_result"
    }
   ],
   "source": [
    "#store all the data into a new data frame\n",
    "combined_data = pd.DataFrame(columns = ['Country', 'Happiness Rank', 'Happiness Score', 'Economy (GDP per Capita)',\n",
    "                                   'Family', 'Health (Life Expectancy)', 'Freedom','Trust (Government Corruption)',\n",
    "                                   'Generosity', 'Year'])\n",
    "n = [data2015, data2016, data2017, data2018, data2019, data2020]\n",
    "\n",
    "for i in n:\n",
    "    combined_data = combined_data.append(i[['Country', 'Happiness Rank', 'Happiness Score', 'Economy (GDP per Capita)',\n",
    "                                   'Family', 'Health (Life Expectancy)', 'Freedom','Trust (Government Corruption)',\n",
    "                                   'Generosity', 'Year']], ignore_index = True)\n",
    "combined_data\n"
   ]
  },
  {
   "cell_type": "code",
   "execution_count": 56,
   "metadata": {},
   "outputs": [],
   "source": [
    "Score2015=data2015[['Country', 'Happiness Score']]\n",
    "Score2016=data2016[['Country', 'Happiness Score']]\n",
    "Score2017=data2017[['Country', 'Happiness Score']]\n",
    "Score2018=data2018[['Country', 'Happiness Score']]\n",
    "Score2019=data2019[['Country', 'Happiness Score']]\n",
    "Score2020=data2020[['Country', 'Happiness Score']]\n",
    "\n",
    "\n",
    "Score2015 = Score2015.rename(columns={'Happiness Score': 'Happiness2015'})\n",
    "Score2016 = Score2016.rename(columns={'Happiness Score': 'Happiness2016'})\n",
    "Score2017 = Score2017.rename(columns={'Happiness Score': 'Happiness2017'})\n",
    "Score2018 = Score2018.rename(columns={'Happiness Score': 'Happiness2018'})\n",
    "Score2019 = Score2019.rename(columns={'Happiness Score': 'Happiness2019'})\n",
    "Score2020 = Score2020.rename(columns={'Happiness Score': 'Happiness2020'})\n"
   ]
  },
  {
   "cell_type": "code",
   "execution_count": 57,
   "metadata": {},
   "outputs": [
    {
     "data": {
      "text/html": [
       "<div>\n",
       "<style scoped>\n",
       "    .dataframe tbody tr th:only-of-type {\n",
       "        vertical-align: middle;\n",
       "    }\n",
       "\n",
       "    .dataframe tbody tr th {\n",
       "        vertical-align: top;\n",
       "    }\n",
       "\n",
       "    .dataframe thead th {\n",
       "        text-align: right;\n",
       "    }\n",
       "</style>\n",
       "<table border=\"1\" class=\"dataframe\">\n",
       "  <thead>\n",
       "    <tr style=\"text-align: right;\">\n",
       "      <th></th>\n",
       "      <th>Country</th>\n",
       "      <th>Happiness2015</th>\n",
       "      <th>Happiness2016</th>\n",
       "      <th>Happiness2017</th>\n",
       "      <th>Happiness2018</th>\n",
       "      <th>Happiness2019</th>\n",
       "      <th>Happiness2020</th>\n",
       "    </tr>\n",
       "  </thead>\n",
       "  <tbody>\n",
       "    <tr>\n",
       "      <th>0</th>\n",
       "      <td>Switzerland</td>\n",
       "      <td>7.587</td>\n",
       "      <td>7.509</td>\n",
       "      <td>7.494</td>\n",
       "      <td>7.487</td>\n",
       "      <td>7.480</td>\n",
       "      <td>7.5599</td>\n",
       "    </tr>\n",
       "    <tr>\n",
       "      <th>1</th>\n",
       "      <td>Iceland</td>\n",
       "      <td>7.561</td>\n",
       "      <td>7.501</td>\n",
       "      <td>7.504</td>\n",
       "      <td>7.495</td>\n",
       "      <td>7.494</td>\n",
       "      <td>7.5045</td>\n",
       "    </tr>\n",
       "    <tr>\n",
       "      <th>2</th>\n",
       "      <td>Denmark</td>\n",
       "      <td>7.527</td>\n",
       "      <td>7.526</td>\n",
       "      <td>7.522</td>\n",
       "      <td>7.555</td>\n",
       "      <td>7.600</td>\n",
       "      <td>7.6456</td>\n",
       "    </tr>\n",
       "    <tr>\n",
       "      <th>3</th>\n",
       "      <td>Norway</td>\n",
       "      <td>7.522</td>\n",
       "      <td>7.498</td>\n",
       "      <td>7.537</td>\n",
       "      <td>7.594</td>\n",
       "      <td>7.554</td>\n",
       "      <td>7.4880</td>\n",
       "    </tr>\n",
       "    <tr>\n",
       "      <th>4</th>\n",
       "      <td>Canada</td>\n",
       "      <td>7.427</td>\n",
       "      <td>7.404</td>\n",
       "      <td>7.316</td>\n",
       "      <td>7.328</td>\n",
       "      <td>7.278</td>\n",
       "      <td>7.2321</td>\n",
       "    </tr>\n",
       "  </tbody>\n",
       "</table>\n",
       "</div>"
      ],
      "text/plain": [
       "       Country  Happiness2015  Happiness2016  Happiness2017  Happiness2018  \\\n",
       "0  Switzerland          7.587          7.509          7.494          7.487   \n",
       "1      Iceland          7.561          7.501          7.504          7.495   \n",
       "2      Denmark          7.527          7.526          7.522          7.555   \n",
       "3       Norway          7.522          7.498          7.537          7.594   \n",
       "4       Canada          7.427          7.404          7.316          7.328   \n",
       "\n",
       "   Happiness2019  Happiness2020  \n",
       "0          7.480         7.5599  \n",
       "1          7.494         7.5045  \n",
       "2          7.600         7.6456  \n",
       "3          7.554         7.4880  \n",
       "4          7.278         7.2321  "
      ]
     },
     "execution_count": 57,
     "metadata": {},
     "output_type": "execute_result"
    }
   ],
   "source": [
    "\n",
    "mergedtable = pd.merge(Score2015, Score2016, on=['Country'], how='inner', sort=False)\n",
    "mergedtable.head()\n",
    "\n",
    "mergedtable1 = pd.merge(Score2017, Score2018, on=['Country'], how='inner', sort=False)\n",
    "mergedtable1.head()\n",
    "\n",
    "mergedtable2 = pd.merge(Score2019, Score2020, on=['Country'], how='inner', sort=False)\n",
    "mergedtable2.head()\n",
    "\n",
    "mergedtable3 = pd.merge(mergedtable, mergedtable1, on=['Country'], how='inner', sort=False)\n",
    "mergedtable3.head()\n",
    "\n",
    "mergedtable4 = pd.merge(mergedtable3, mergedtable2, on=['Country'], how='inner', sort=False)\n",
    "mergedtable4.head()\n"
   ]
  },
  {
   "cell_type": "code",
   "execution_count": 11,
   "metadata": {},
   "outputs": [
    {
     "data": {
      "text/html": [
       "<div>\n",
       "<style scoped>\n",
       "    .dataframe tbody tr th:only-of-type {\n",
       "        vertical-align: middle;\n",
       "    }\n",
       "\n",
       "    .dataframe tbody tr th {\n",
       "        vertical-align: top;\n",
       "    }\n",
       "\n",
       "    .dataframe thead th {\n",
       "        text-align: right;\n",
       "    }\n",
       "</style>\n",
       "<table border=\"1\" class=\"dataframe\">\n",
       "  <thead>\n",
       "    <tr style=\"text-align: right;\">\n",
       "      <th></th>\n",
       "      <th>Average Happiness Score</th>\n",
       "      <th>Average Economy (GDP per Capita)</th>\n",
       "      <th>Average Family</th>\n",
       "      <th>Average Health (Life Expectancy)</th>\n",
       "      <th>Average Freedom</th>\n",
       "      <th>Average Trust (Government Corruption)</th>\n",
       "      <th>Average Generosity</th>\n",
       "    </tr>\n",
       "    <tr>\n",
       "      <th>Country</th>\n",
       "      <th></th>\n",
       "      <th></th>\n",
       "      <th></th>\n",
       "      <th></th>\n",
       "      <th></th>\n",
       "      <th></th>\n",
       "      <th></th>\n",
       "    </tr>\n",
       "  </thead>\n",
       "  <tbody>\n",
       "    <tr>\n",
       "      <th>Finland</th>\n",
       "      <td>7.58</td>\n",
       "      <td>2.90</td>\n",
       "      <td>1.35</td>\n",
       "      <td>12.71</td>\n",
       "      <td>0.68</td>\n",
       "      <td>0.36</td>\n",
       "      <td>0.17</td>\n",
       "    </tr>\n",
       "    <tr>\n",
       "      <th>Denmark</th>\n",
       "      <td>7.56</td>\n",
       "      <td>2.96</td>\n",
       "      <td>1.37</td>\n",
       "      <td>12.79</td>\n",
       "      <td>0.68</td>\n",
       "      <td>0.39</td>\n",
       "      <td>0.28</td>\n",
       "    </tr>\n",
       "    <tr>\n",
       "      <th>Norway</th>\n",
       "      <td>7.53</td>\n",
       "      <td>3.11</td>\n",
       "      <td>1.35</td>\n",
       "      <td>12.93</td>\n",
       "      <td>0.69</td>\n",
       "      <td>0.33</td>\n",
       "      <td>0.30</td>\n",
       "    </tr>\n",
       "    <tr>\n",
       "      <th>Switzerland</th>\n",
       "      <td>7.52</td>\n",
       "      <td>3.06</td>\n",
       "      <td>1.34</td>\n",
       "      <td>13.12</td>\n",
       "      <td>0.67</td>\n",
       "      <td>0.37</td>\n",
       "      <td>0.25</td>\n",
       "    </tr>\n",
       "    <tr>\n",
       "      <th>Iceland</th>\n",
       "      <td>7.51</td>\n",
       "      <td>2.95</td>\n",
       "      <td>1.41</td>\n",
       "      <td>12.93</td>\n",
       "      <td>0.67</td>\n",
       "      <td>0.24</td>\n",
       "      <td>0.39</td>\n",
       "    </tr>\n",
       "  </tbody>\n",
       "</table>\n",
       "</div>"
      ],
      "text/plain": [
       "             Average Happiness Score  Average Economy (GDP per Capita)  \\\n",
       "Country                                                                  \n",
       "Finland                         7.58                              2.90   \n",
       "Denmark                         7.56                              2.96   \n",
       "Norway                          7.53                              3.11   \n",
       "Switzerland                     7.52                              3.06   \n",
       "Iceland                         7.51                              2.95   \n",
       "\n",
       "             Average Family  Average Health (Life Expectancy)  \\\n",
       "Country                                                         \n",
       "Finland                1.35                             12.71   \n",
       "Denmark                1.37                             12.79   \n",
       "Norway                 1.35                             12.93   \n",
       "Switzerland            1.34                             13.12   \n",
       "Iceland                1.41                             12.93   \n",
       "\n",
       "             Average Freedom  Average Trust (Government Corruption)  \\\n",
       "Country                                                               \n",
       "Finland                 0.68                                   0.36   \n",
       "Denmark                 0.68                                   0.39   \n",
       "Norway                  0.69                                   0.33   \n",
       "Switzerland             0.67                                   0.37   \n",
       "Iceland                 0.67                                   0.24   \n",
       "\n",
       "             Average Generosity  \n",
       "Country                          \n",
       "Finland                    0.17  \n",
       "Denmark                    0.28  \n",
       "Norway                     0.30  \n",
       "Switzerland                0.25  \n",
       "Iceland                    0.39  "
      ]
     },
     "execution_count": 11,
     "metadata": {},
     "output_type": "execute_result"
    }
   ],
   "source": [
    "#calculate average number for all columns and grouped by country\n",
    "\n",
    "Average_score = round(combined_data.groupby([\"Country\"]).mean()[\"Happiness Score\"],2)\n",
    "Average_GDP = round(combined_data.groupby([\"Country\"]).mean()[\"Economy (GDP per Capita)\"],2)\n",
    "Average_fam = round(combined_data.groupby([\"Country\"]).mean()[\"Family\"],2)\n",
    "Average_health = round(combined_data.groupby([\"Country\"]).mean()[\"Health (Life Expectancy)\"],2)\n",
    "Average_free = round(combined_data.groupby([\"Country\"]).mean()[\"Freedom\"],2)\n",
    "Average_trust = round(combined_data.groupby([\"Country\"]).mean()[\"Trust (Government Corruption)\"],2)\n",
    "Average_gene = round(combined_data.groupby([\"Country\"]).mean()[\"Generosity\"],2)\n",
    "\n",
    "#create a data frame for the summary table\n",
    "\n",
    "summary_table = pd.DataFrame({\"Average Happiness Score\":Average_score, \"Average Economy (GDP per Capita)\":Average_GDP, \n",
    "                             \"Average Family\":Average_fam, \"Average Health (Life Expectancy)\":Average_health, \n",
    "                             \"Average Freedom\":Average_free, \"Average Trust (Government Corruption)\":Average_trust, \n",
    "                             \"Average Generosity\":Average_gene})\n",
    "#sort summary table by average happiness score\n",
    "sorted_summary_df = summary_table.sort_values(by=['Average Happiness Score'], ascending=False)\n",
    "sorted_summary_df.head()\n"
   ]
  },
  {
   "cell_type": "code",
   "execution_count": 12,
   "metadata": {},
   "outputs": [
    {
     "data": {
      "text/html": [
       "<div>\n",
       "<style scoped>\n",
       "    .dataframe tbody tr th:only-of-type {\n",
       "        vertical-align: middle;\n",
       "    }\n",
       "\n",
       "    .dataframe tbody tr th {\n",
       "        vertical-align: top;\n",
       "    }\n",
       "\n",
       "    .dataframe thead th {\n",
       "        text-align: right;\n",
       "    }\n",
       "</style>\n",
       "<table border=\"1\" class=\"dataframe\">\n",
       "  <thead>\n",
       "    <tr style=\"text-align: right;\">\n",
       "      <th></th>\n",
       "      <th>Total Countries</th>\n",
       "    </tr>\n",
       "  </thead>\n",
       "  <tbody>\n",
       "    <tr>\n",
       "      <th>0</th>\n",
       "      <td>172</td>\n",
       "    </tr>\n",
       "  </tbody>\n",
       "</table>\n",
       "</div>"
      ],
      "text/plain": [
       "   Total Countries\n",
       "0              172"
      ]
     },
     "execution_count": 12,
     "metadata": {},
     "output_type": "execute_result"
    }
   ],
   "source": [
    "#Count and Display the total number of countries\n",
    "total_countries = len(combined_data['Country'].value_counts())\n",
    "\n",
    "countrycount = pd.DataFrame({\"Total Countries\":[total_countries]})\n",
    "countrycount"
   ]
  },
  {
   "cell_type": "code",
   "execution_count": 13,
   "metadata": {},
   "outputs": [
    {
     "data": {
      "text/html": [
       "<div>\n",
       "<style scoped>\n",
       "    .dataframe tbody tr th:only-of-type {\n",
       "        vertical-align: middle;\n",
       "    }\n",
       "\n",
       "    .dataframe tbody tr th {\n",
       "        vertical-align: top;\n",
       "    }\n",
       "\n",
       "    .dataframe thead th {\n",
       "        text-align: right;\n",
       "    }\n",
       "</style>\n",
       "<table border=\"1\" class=\"dataframe\">\n",
       "  <thead>\n",
       "    <tr style=\"text-align: right;\">\n",
       "      <th></th>\n",
       "      <th>Total Country Count</th>\n",
       "      <th>Percentage</th>\n",
       "    </tr>\n",
       "  </thead>\n",
       "  <tbody>\n",
       "    <tr>\n",
       "      <th>&lt;2.99</th>\n",
       "      <td>4</td>\n",
       "      <td>2.33%</td>\n",
       "    </tr>\n",
       "    <tr>\n",
       "      <th>3.00-3.99</th>\n",
       "      <td>28</td>\n",
       "      <td>16.28%</td>\n",
       "    </tr>\n",
       "    <tr>\n",
       "      <th>4.00-4.99</th>\n",
       "      <td>65</td>\n",
       "      <td>37.79%</td>\n",
       "    </tr>\n",
       "    <tr>\n",
       "      <th>5.00-5.99</th>\n",
       "      <td>74</td>\n",
       "      <td>43.02%</td>\n",
       "    </tr>\n",
       "    <tr>\n",
       "      <th>6.00-6.99</th>\n",
       "      <td>58</td>\n",
       "      <td>33.72%</td>\n",
       "    </tr>\n",
       "    <tr>\n",
       "      <th>7.00+</th>\n",
       "      <td>24</td>\n",
       "      <td>13.95%</td>\n",
       "    </tr>\n",
       "  </tbody>\n",
       "</table>\n",
       "</div>"
      ],
      "text/plain": [
       "           Total Country Count Percentage\n",
       "<2.99                        4      2.33%\n",
       "3.00-3.99                   28     16.28%\n",
       "4.00-4.99                   65     37.79%\n",
       "5.00-5.99                   74     43.02%\n",
       "6.00-6.99                   58     33.72%\n",
       "7.00+                       24     13.95%"
      ]
     },
     "execution_count": 13,
     "metadata": {},
     "output_type": "execute_result"
    }
   ],
   "source": [
    "#Establish bins for scores\n",
    "bins= [0,2.90,3.90,4.90,5.90,6.90,99.99]\n",
    "groups = [\"<2.99\",\"3.00-3.99\",\"4.00-4.99\",\"5.00-5.99\",\"6.00-6.99\",\"7.00+\"]\n",
    "\n",
    "#Categorize the existing countries using the score bins.\n",
    "combined_data[\"Score Group\"] = pd.cut(combined_data[\"Happiness Score\"], bins, labels=groups)\n",
    "\n",
    "#Calculate the total counts and percentage by score groups\n",
    "score_grouped = combined_data.groupby(\"Score Group\")\n",
    "total_count_by_score = score_grouped[\"Country\"].nunique()\n",
    "percentage_by_country = (total_count_by_score/total_countries)\n",
    "\n",
    "#Create a summary data frame to hold the results\n",
    "summary_by_score = pd.DataFrame({\"Total Country Count\":total_count_by_score, \"Percentage\":percentage_by_country})\n",
    "summary_by_score[\"Percentage\"] = summary_by_score[\"Percentage\"].map(\"{:,.2%}\".format)\n",
    "summary_by_score.index = ([\"<2.99\",\"3.00-3.99\",\"4.00-4.99\",\"5.00-5.99\",\"6.00-6.99\",\"7.00+\"])\n",
    "summary_by_score"
   ]
  },
  {
   "cell_type": "code",
   "execution_count": 14,
   "metadata": {},
   "outputs": [
    {
     "data": {
      "text/html": [
       "<div>\n",
       "<style scoped>\n",
       "    .dataframe tbody tr th:only-of-type {\n",
       "        vertical-align: middle;\n",
       "    }\n",
       "\n",
       "    .dataframe tbody tr th {\n",
       "        vertical-align: top;\n",
       "    }\n",
       "\n",
       "    .dataframe thead th {\n",
       "        text-align: right;\n",
       "    }\n",
       "</style>\n",
       "<table border=\"1\" class=\"dataframe\">\n",
       "  <thead>\n",
       "    <tr style=\"text-align: right;\">\n",
       "      <th></th>\n",
       "      <th>Happiness Score Mean</th>\n",
       "      <th>Happiness Score Median</th>\n",
       "      <th>Happiness Score Variance</th>\n",
       "      <th>Happiness Score Std.Dev.</th>\n",
       "      <th>Happiness Score SEM</th>\n",
       "    </tr>\n",
       "    <tr>\n",
       "      <th>Country</th>\n",
       "      <th></th>\n",
       "      <th></th>\n",
       "      <th></th>\n",
       "      <th></th>\n",
       "      <th></th>\n",
       "    </tr>\n",
       "  </thead>\n",
       "  <tbody>\n",
       "    <tr>\n",
       "      <th>Afghanistan</th>\n",
       "      <td>3.355150</td>\n",
       "      <td>3.4675</td>\n",
       "      <td>0.192416</td>\n",
       "      <td>0.438653</td>\n",
       "      <td>0.179079</td>\n",
       "    </tr>\n",
       "    <tr>\n",
       "      <th>Albania</th>\n",
       "      <td>4.740950</td>\n",
       "      <td>4.6870</td>\n",
       "      <td>0.021783</td>\n",
       "      <td>0.147592</td>\n",
       "      <td>0.060254</td>\n",
       "    </tr>\n",
       "    <tr>\n",
       "      <th>Algeria</th>\n",
       "      <td>5.557183</td>\n",
       "      <td>5.4500</td>\n",
       "      <td>0.246257</td>\n",
       "      <td>0.496243</td>\n",
       "      <td>0.202590</td>\n",
       "    </tr>\n",
       "    <tr>\n",
       "      <th>Angola</th>\n",
       "      <td>3.872250</td>\n",
       "      <td>3.8305</td>\n",
       "      <td>0.012605</td>\n",
       "      <td>0.112272</td>\n",
       "      <td>0.056136</td>\n",
       "    </tr>\n",
       "    <tr>\n",
       "      <th>Argentina</th>\n",
       "      <td>6.378617</td>\n",
       "      <td>6.4810</td>\n",
       "      <td>0.081851</td>\n",
       "      <td>0.286096</td>\n",
       "      <td>0.116798</td>\n",
       "    </tr>\n",
       "    <tr>\n",
       "      <th>...</th>\n",
       "      <td>...</td>\n",
       "      <td>...</td>\n",
       "      <td>...</td>\n",
       "      <td>...</td>\n",
       "      <td>...</td>\n",
       "    </tr>\n",
       "    <tr>\n",
       "      <th>Venezuela</th>\n",
       "      <td>5.451700</td>\n",
       "      <td>5.1516</td>\n",
       "      <td>0.683155</td>\n",
       "      <td>0.826532</td>\n",
       "      <td>0.337430</td>\n",
       "    </tr>\n",
       "    <tr>\n",
       "      <th>Vietnam</th>\n",
       "      <td>5.187750</td>\n",
       "      <td>5.1390</td>\n",
       "      <td>0.018699</td>\n",
       "      <td>0.136743</td>\n",
       "      <td>0.055825</td>\n",
       "    </tr>\n",
       "    <tr>\n",
       "      <th>Yemen</th>\n",
       "      <td>3.609400</td>\n",
       "      <td>3.5602</td>\n",
       "      <td>0.071224</td>\n",
       "      <td>0.266878</td>\n",
       "      <td>0.108953</td>\n",
       "    </tr>\n",
       "    <tr>\n",
       "      <th>Zambia</th>\n",
       "      <td>4.446900</td>\n",
       "      <td>4.4455</td>\n",
       "      <td>0.236802</td>\n",
       "      <td>0.486623</td>\n",
       "      <td>0.198663</td>\n",
       "    </tr>\n",
       "    <tr>\n",
       "      <th>Zimbabwe</th>\n",
       "      <td>3.888700</td>\n",
       "      <td>3.7835</td>\n",
       "      <td>0.210040</td>\n",
       "      <td>0.458302</td>\n",
       "      <td>0.187101</td>\n",
       "    </tr>\n",
       "  </tbody>\n",
       "</table>\n",
       "<p>172 rows × 5 columns</p>\n",
       "</div>"
      ],
      "text/plain": [
       "             Happiness Score Mean  Happiness Score Median  \\\n",
       "Country                                                     \n",
       "Afghanistan              3.355150                  3.4675   \n",
       "Albania                  4.740950                  4.6870   \n",
       "Algeria                  5.557183                  5.4500   \n",
       "Angola                   3.872250                  3.8305   \n",
       "Argentina                6.378617                  6.4810   \n",
       "...                           ...                     ...   \n",
       "Venezuela                5.451700                  5.1516   \n",
       "Vietnam                  5.187750                  5.1390   \n",
       "Yemen                    3.609400                  3.5602   \n",
       "Zambia                   4.446900                  4.4455   \n",
       "Zimbabwe                 3.888700                  3.7835   \n",
       "\n",
       "             Happiness Score Variance  Happiness Score Std.Dev.  \\\n",
       "Country                                                           \n",
       "Afghanistan                  0.192416                  0.438653   \n",
       "Albania                      0.021783                  0.147592   \n",
       "Algeria                      0.246257                  0.496243   \n",
       "Angola                       0.012605                  0.112272   \n",
       "Argentina                    0.081851                  0.286096   \n",
       "...                               ...                       ...   \n",
       "Venezuela                    0.683155                  0.826532   \n",
       "Vietnam                      0.018699                  0.136743   \n",
       "Yemen                        0.071224                  0.266878   \n",
       "Zambia                       0.236802                  0.486623   \n",
       "Zimbabwe                     0.210040                  0.458302   \n",
       "\n",
       "             Happiness Score SEM  \n",
       "Country                           \n",
       "Afghanistan             0.179079  \n",
       "Albania                 0.060254  \n",
       "Algeria                 0.202590  \n",
       "Angola                  0.056136  \n",
       "Argentina               0.116798  \n",
       "...                          ...  \n",
       "Venezuela               0.337430  \n",
       "Vietnam                 0.055825  \n",
       "Yemen                   0.108953  \n",
       "Zambia                  0.198663  \n",
       "Zimbabwe                0.187101  \n",
       "\n",
       "[172 rows x 5 columns]"
      ]
     },
     "execution_count": 14,
     "metadata": {},
     "output_type": "execute_result"
    }
   ],
   "source": [
    "# Use groupby and summary statistical methods to calculate the following properties of country: \n",
    "# mean, median, variance, standard deviation, and SEM of the happiness score. \n",
    "score_mean = combined_data.groupby([\"Country\"])['Happiness Score'].mean()\n",
    "score_median = combined_data.groupby([\"Country\"])['Happiness Score'].median()\n",
    "score_variance = combined_data.groupby([\"Country\"])['Happiness Score'].var()\n",
    "score_stdv = combined_data.groupby([\"Country\"])['Happiness Score'].std()\n",
    "score_sem = combined_data.groupby([\"Country\"])['Happiness Score'].sem()\n",
    "\n",
    "# Assemble the resulting series into a single summary dataframe.\n",
    "summary_df = pd.DataFrame({\"Happiness Score Mean\":score_mean, \n",
    "                           \"Happiness Score Median\":score_median, \n",
    "                           \"Happiness Score Variance\":score_variance, \n",
    "                           \"Happiness Score Std.Dev.\":score_stdv, \n",
    "                           \"Happiness Score SEM\":score_sem})\n",
    "summary_df\n"
   ]
  },
  {
   "cell_type": "code",
   "execution_count": 4,
   "metadata": {},
   "outputs": [
    {
     "name": "stdout",
     "output_type": "stream",
     "text": [
      "Collecting seaborn\n",
      "  Downloading seaborn-0.11.0-py3-none-any.whl (283 kB)\n",
      "Requirement already satisfied: matplotlib>=2.2 in c:\\users\\linam\\anaconda3\\envs\\pthondata\\lib\\site-packages (from seaborn) (3.3.2)\n",
      "Requirement already satisfied: scipy>=1.0 in c:\\users\\linam\\anaconda3\\envs\\pthondata\\lib\\site-packages (from seaborn) (1.5.2)\n",
      "Requirement already satisfied: numpy>=1.15 in c:\\users\\linam\\anaconda3\\envs\\pthondata\\lib\\site-packages (from seaborn) (1.19.2)\n",
      "Requirement already satisfied: pandas>=0.23 in c:\\users\\linam\\anaconda3\\envs\\pthondata\\lib\\site-packages (from seaborn) (1.1.2)\n",
      "Requirement already satisfied: cycler>=0.10 in c:\\users\\linam\\anaconda3\\envs\\pthondata\\lib\\site-packages (from matplotlib>=2.2->seaborn) (0.10.0)\n",
      "Requirement already satisfied: pyparsing!=2.0.4,!=2.1.2,!=2.1.6,>=2.0.3 in c:\\users\\linam\\anaconda3\\envs\\pthondata\\lib\\site-packages (from matplotlib>=2.2->seaborn) (2.4.7)\n",
      "Requirement already satisfied: pillow>=6.2.0 in c:\\users\\linam\\anaconda3\\envs\\pthondata\\lib\\site-packages (from matplotlib>=2.2->seaborn) (7.2.0)\n",
      "Requirement already satisfied: kiwisolver>=1.0.1 in c:\\users\\linam\\anaconda3\\envs\\pthondata\\lib\\site-packages (from matplotlib>=2.2->seaborn) (1.2.0)\n",
      "Requirement already satisfied: certifi>=2020.06.20 in c:\\users\\linam\\anaconda3\\envs\\pthondata\\lib\\site-packages (from matplotlib>=2.2->seaborn) (2020.6.20)\n",
      "Requirement already satisfied: python-dateutil>=2.1 in c:\\users\\linam\\anaconda3\\envs\\pthondata\\lib\\site-packages (from matplotlib>=2.2->seaborn) (2.8.1)\n",
      "Requirement already satisfied: pytz>=2017.2 in c:\\users\\linam\\anaconda3\\envs\\pthondata\\lib\\site-packages (from pandas>=0.23->seaborn) (2020.1)\n",
      "Requirement already satisfied: six in c:\\users\\linam\\anaconda3\\envs\\pthondata\\lib\\site-packages (from cycler>=0.10->matplotlib>=2.2->seaborn) (1.15.0)\n",
      "Installing collected packages: seaborn\n",
      "Successfully installed seaborn-0.11.0\n"
     ]
    }
   ],
   "source": [
    "!pip install seaborn\n",
    "\n"
   ]
  },
  {
   "cell_type": "code",
   "execution_count": 15,
   "metadata": {},
   "outputs": [],
   "source": [
    "import seaborn as sns\n"
   ]
  },
  {
   "cell_type": "code",
   "execution_count": 126,
   "metadata": {},
   "outputs": [
    {
     "data": {
      "image/png": "[encoded data removed]",
      "text/plain": [
       "<Figure size 432x432 with 2 Axes>"
      ]
     },
     "metadata": {
      "needs_background": "light"
     },
     "output_type": "display_data"
    }
   ],
   "source": [
    "corrMatrix = summary_table.corr()\n",
    "fig, ax = plt.subplots(figsize=(6,6))\n",
    "sns.heatmap(corrMatrix.round(2), annot=True)\n",
    "plt.title(\"Correlation Map\")\n",
    "plt.show()"
   ]
  },
  {
   "cell_type": "code",
   "execution_count": 149,
   "metadata": {},
   "outputs": [
    {
     "name": "stdout",
     "output_type": "stream",
     "text": [
      "The correlation between both factors is 0.35\n"
     ]
    },
    {
     "data": {
      "image/png": "[encoded data removed]",
      "text/plain": [
       "<Figure size 432x288 with 1 Axes>"
      ]
     },
     "metadata": {
      "needs_background": "light"
     },
     "output_type": "display_data"
    }
   ],
   "source": [
    "plt.scatter(summary_table.iloc[:,0],summary_table.iloc[:,1])\n",
    "plt.xlabel('Happiness Score')\n",
    "plt.ylabel('GDP per capita')\n",
    "Happiness_Score = summary_table.iloc[:,0]\n",
    "GDP_per_capita = summary_table.iloc[:,1]\n",
    "correlation = st.pearsonr(Happiness_Score,GDP_per_capita)\n",
    "print(f\"The correlation between both factors is {round(correlation[0],2)}\")\n",
    "plt.show()\n"
   ]
  },
  {
   "cell_type": "code",
   "execution_count": 150,
   "metadata": {},
   "outputs": [
    {
     "name": "stdout",
     "output_type": "stream",
     "text": [
      "The correlation between both factors is 0.76\n"
     ]
    },
    {
     "data": {
      "image/png": "[encoded data removed]",
      "text/plain": [
       "<Figure size 432x288 with 1 Axes>"
      ]
     },
     "metadata": {
      "needs_background": "light"
     },
     "output_type": "display_data"
    }
   ],
   "source": [
    "plt.scatter(summary_table.iloc[:,0],summary_table.iloc[:,2])\n",
    "plt.xlabel('Happiness Score')\n",
    "plt.ylabel('Family')\n",
    "Happiness_Score = summary_table.iloc[:,0]\n",
    "Family = summary_table.iloc[:,2]\n",
    "correlation = st.pearsonr(Happiness_Score,Family)\n",
    "print(f\"The correlation between both factors is {round(correlation[0],2)}\")\n",
    "\n",
    "plt.show()"
   ]
  },
  {
   "cell_type": "code",
   "execution_count": 151,
   "metadata": {},
   "outputs": [
    {
     "name": "stdout",
     "output_type": "stream",
     "text": [
      "The correlation between both factors is 0.11\n"
     ]
    },
    {
     "data": {
      "image/png": "[encoded data removed]",
      "text/plain": [
       "<Figure size 432x288 with 1 Axes>"
      ]
     },
     "metadata": {
      "needs_background": "light"
     },
     "output_type": "display_data"
    }
   ],
   "source": [
    "plt.scatter(summary_table.iloc[:,0],summary_table.iloc[:,3])\n",
    "plt.xlabel('Happiness Score')\n",
    "plt.ylabel('Health (Life Expectancy)')\n",
    "Happiness_Score = summary_table.iloc[:,0]\n",
    "Health = summary_table.iloc[:,3]\n",
    "correlation = st.pearsonr(Happiness_Score,Health)\n",
    "print(f\"The correlation between both factors is {round(correlation[0],2)}\")\n",
    "\n",
    "plt.show()"
   ]
  },
  {
   "cell_type": "code",
   "execution_count": 152,
   "metadata": {},
   "outputs": [
    {
     "name": "stdout",
     "output_type": "stream",
     "text": [
      "The correlation between both factors is 0.57\n"
     ]
    },
    {
     "data": {
      "image/png": "[encoded data removed]",
      "text/plain": [
       "<Figure size 432x288 with 1 Axes>"
      ]
     },
     "metadata": {
      "needs_background": "light"
     },
     "output_type": "display_data"
    }
   ],
   "source": [
    "plt.scatter(summary_table.iloc[:,0],summary_table.iloc[:,4])\n",
    "plt.xlabel('Happiness Score')\n",
    "plt.ylabel('Freedom')\n",
    "Happiness_Score = summary_table.iloc[:,0]\n",
    "Freedom = summary_table.iloc[:,4]\n",
    "correlation = st.pearsonr(Happiness_Score,Freedom)\n",
    "print(f\"The correlation between both factors is {round(correlation[0],2)}\")\n",
    "\n",
    "plt.show()"
   ]
  },
  {
   "cell_type": "code",
   "execution_count": 153,
   "metadata": {},
   "outputs": [
    {
     "name": "stdout",
     "output_type": "stream",
     "text": [
      "The correlation between both factors is 0.23\n"
     ]
    },
    {
     "data": {
      "image/png": "[encoded data removed]",
      "text/plain": [
       "<Figure size 432x288 with 1 Axes>"
      ]
     },
     "metadata": {
      "needs_background": "light"
     },
     "output_type": "display_data"
    }
   ],
   "source": [
    "plt.scatter(summary_table.iloc[:,0],summary_table.iloc[:,5])\n",
    "plt.xlabel('Happiness Score')\n",
    "plt.ylabel('Trust (Government Corruption)')\n",
    "Happiness_Score = summary_table.iloc[:,0]\n",
    "Trust = summary_table.iloc[:,5]\n",
    "correlation = st.pearsonr(Happiness_Score,Trust)\n",
    "print(f\"The correlation between both factors is {round(correlation[0],2)}\")\n",
    "\n",
    "plt.show()"
   ]
  },
  {
   "cell_type": "code",
   "execution_count": 154,
   "metadata": {},
   "outputs": [
    {
     "name": "stdout",
     "output_type": "stream",
     "text": [
      "The correlation between both factors is 0.12\n"
     ]
    },
    {
     "data": {
      "image/png": "[encoded data removed]",
      "text/plain": [
       "<Figure size 432x288 with 1 Axes>"
      ]
     },
     "metadata": {
      "needs_background": "light"
     },
     "output_type": "display_data"
    }
   ],
   "source": [
    "plt.scatter(summary_table.iloc[:,0],summary_table.iloc[:,6])\n",
    "plt.xlabel('Happiness Score')\n",
    "plt.ylabel('Generosity')\n",
    "Happiness_Score = summary_table.iloc[:,0]\n",
    "Generosity = summary_table.iloc[:,6]\n",
    "correlation = st.pearsonr(Happiness_Score,Generosity)\n",
    "print(f\"The correlation between both factors is {round(correlation[0],2)}\")\n",
    "plt.show()"
   ]
  },
  {
   "cell_type": "code",
   "execution_count": 105,
   "metadata": {},
   "outputs": [
    {
     "data": {
      "image/png": "[encoded data removed]",
      "text/plain": [
       "<Figure size 360x216 with 1 Axes>"
      ]
     },
     "metadata": {
      "needs_background": "light"
     },
     "output_type": "display_data"
    },
    {
     "data": {
      "image/png": "[encoded data removed]",
      "text/plain": [
       "<Figure size 360x216 with 1 Axes>"
      ]
     },
     "metadata": {
      "needs_background": "light"
     },
     "output_type": "display_data"
    },
    {
     "data": {
      "image/png": "[encoded data removed]",
      "text/plain": [
       "<Figure size 360x216 with 1 Axes>"
      ]
     },
     "metadata": {
      "needs_background": "light"
     },
     "output_type": "display_data"
    },
    {
     "data": {
      "image/png": "[encoded data removed]",
      "text/plain": [
       "<Figure size 360x216 with 1 Axes>"
      ]
     },
     "metadata": {
      "needs_background": "light"
     },
     "output_type": "display_data"
    },
    {
     "data": {
      "image/png": "[encoded data removed]",
      "text/plain": [
       "<Figure size 360x216 with 1 Axes>"
      ]
     },
     "metadata": {
      "needs_background": "light"
     },
     "output_type": "display_data"
    },
    {
     "data": {
      "image/png": "[encoded data removed]",
      "text/plain": [
       "<Figure size 360x216 with 1 Axes>"
      ]
     },
     "metadata": {
      "needs_background": "light"
     },
     "output_type": "display_data"
    }
   ],
   "source": [
    "values = data2020.iloc[0:5,3]\n",
    "fig2, ax2 = plt.subplots(figsize=(5,3))\n",
    "plt.xlabel(\"Country Name\")\n",
    "plt.ylabel(\"Happiness Score\")\n",
    "plt.plot(data2020.iloc[0:5,0], values, color = 'r')\n",
    "plt.xticks(data2020.iloc[0:5,0], rotation='vertical')\n",
    "plt.title(\"2020 Top 5 Countries\")\n",
    "plt.ylim(7.3,7.85)\n",
    "\n",
    "values = data2019.iloc[0:5,2]\n",
    "fig2, ax2 = plt.subplots(figsize=(5,3))\n",
    "plt.xlabel(\"Country Name\")\n",
    "plt.ylabel(\"Happiness Score\")\n",
    "plt.plot(data2019.iloc[0:5,0], values, color = 'y')\n",
    "plt.xticks(data2019.iloc[0:5,0], rotation='vertical')\n",
    "plt.title(\"2019 Top 5 Countries\")\n",
    "plt.ylim(7.3,7.85)\n",
    "\n",
    "values = data2018.iloc[0:5,2]\n",
    "fig2, ax2 = plt.subplots(figsize=(5,3))\n",
    "plt.xlabel(\"Country Name\")\n",
    "plt.ylabel(\"Happiness Score\")\n",
    "plt.plot(data2018.iloc[0:5,0], values, color = 'b')\n",
    "plt.xticks(data2018.iloc[0:5,0], rotation='vertical')\n",
    "plt.title(\"2018 Top 5 Countries\")\n",
    "plt.ylim(7.3,7.85)\n",
    "\n",
    "values = data2017.iloc[0:5,2]\n",
    "fig2, ax2 = plt.subplots(figsize=(5,3))\n",
    "plt.xlabel(\"Country Name\")\n",
    "plt.ylabel(\"Happiness Score\")\n",
    "plt.plot(data2017.iloc[0:5,0], values, color = 'g')\n",
    "plt.xticks(data2017.iloc[0:5,0], rotation='vertical')\n",
    "plt.title(\"2017 Top 5 Countries\")\n",
    "plt.ylim(7.3,7.85)\n",
    "\n",
    "values = data2016.iloc[0:5,3]\n",
    "fig2, ax2 = plt.subplots(figsize=(5,3))\n",
    "plt.xlabel(\"Country Name\")\n",
    "plt.ylabel(\"Happiness Score\")\n",
    "plt.plot(data2016.iloc[0:5,0], values, color = 'orange')\n",
    "plt.xticks(data2016.iloc[0:5,0], rotation='vertical')\n",
    "plt.title(\"2016 Top 5 Countries\")\n",
    "plt.ylim(7.3,7.85)\n",
    "\n",
    "values = data2015.iloc[0:5,3]\n",
    "fig2, ax2 = plt.subplots(figsize=(5,3))\n",
    "plt.xlabel(\"Country Name\")\n",
    "plt.ylabel(\"Happiness Score\")\n",
    "plt.plot(data2015.iloc[0:5,0], values, color = 'gray')\n",
    "plt.xticks(data2015.iloc[0:5,0], rotation='vertical')\n",
    "plt.title(\"2015 Top 5 Countries\")\n",
    "plt.ylim(7.3,7.85)\n",
    "\n",
    "plt.show()"
   ]
  },
  {
   "cell_type": "code",
   "execution_count": 114,
   "metadata": {},
   "outputs": [
    {
     "data": {
      "text/plain": [
       "<Figure size 432x288 with 0 Axes>"
      ]
     },
     "metadata": {},
     "output_type": "display_data"
    },
    {
     "data": {
      "image/png": "[encoded data removed]",
      "text/plain": [
       "<Figure size 360x216 with 1 Axes>"
      ]
     },
     "metadata": {
      "needs_background": "light"
     },
     "output_type": "display_data"
    },
    {
     "data": {
      "text/plain": [
       "<Figure size 432x288 with 0 Axes>"
      ]
     },
     "metadata": {},
     "output_type": "display_data"
    },
    {
     "data": {
      "image/png": "[encoded data removed]",
      "text/plain": [
       "<Figure size 360x216 with 1 Axes>"
      ]
     },
     "metadata": {
      "needs_background": "light"
     },
     "output_type": "display_data"
    },
    {
     "data": {
      "text/plain": [
       "<Figure size 432x288 with 0 Axes>"
      ]
     },
     "metadata": {},
     "output_type": "display_data"
    },
    {
     "data": {
      "image/png": "[encoded data removed]",
      "text/plain": [
       "<Figure size 360x216 with 1 Axes>"
      ]
     },
     "metadata": {
      "needs_background": "light"
     },
     "output_type": "display_data"
    },
    {
     "data": {
      "text/plain": [
       "<Figure size 432x288 with 0 Axes>"
      ]
     },
     "metadata": {},
     "output_type": "display_data"
    },
    {
     "data": {
      "image/png": "[encoded data removed]",
      "text/plain": [
       "<Figure size 360x216 with 1 Axes>"
      ]
     },
     "metadata": {
      "needs_background": "light"
     },
     "output_type": "display_data"
    },
    {
     "data": {
      "text/plain": [
       "<Figure size 432x288 with 0 Axes>"
      ]
     },
     "metadata": {},
     "output_type": "display_data"
    },
    {
     "data": {
      "image/png": "[encoded data removed]",
      "text/plain": [
       "<Figure size 360x216 with 1 Axes>"
      ]
     },
     "metadata": {
      "needs_background": "light"
     },
     "output_type": "display_data"
    },
    {
     "data": {
      "text/plain": [
       "<Figure size 432x288 with 0 Axes>"
      ]
     },
     "metadata": {},
     "output_type": "display_data"
    },
    {
     "data": {
      "image/png": "[encoded data removed]",
      "text/plain": [
       "<Figure size 360x216 with 1 Axes>"
      ]
     },
     "metadata": {
      "needs_background": "light"
     },
     "output_type": "display_data"
    }
   ],
   "source": [
    "y_axis = [\"2015\", \"2016\", \"2017\", \"2018\", \"2019\", \"2020\"]\n",
    "x_axis = [round(data2015[\"Economy (GDP per Capita)\"].mean(),2), round(data2016[\"Economy (GDP per Capita)\"].mean(),2), round(data2017[\"Economy (GDP per Capita)\"].mean(),2),round(data2018[\"Economy (GDP per Capita)\"].mean(),2), \n",
    "          round(data2019[\"Economy (GDP per Capita)\"].mean(),2), round(data2020[\"Economy (GDP per Capita)\"].mean(),2)]\n",
    "fig = plt.figure()\n",
    "fig, ax = plt.subplots(figsize=(5,3))\n",
    "plt.barh(y_axis, x_axis, align='center', color = 'b', alpha = 0.7)\n",
    "plt.xlabel(\"Economy (GDP per Capita)\")\n",
    "plt.ylabel(\"Years\")\n",
    "plt.title(\"Average GDP by Years\")\n",
    "\n",
    "y_axis = [\"2015\", \"2016\", \"2017\", \"2018\", \"2019\", \"2020\"]\n",
    "x_axis = [round(data2015[\"Family\"].mean(),2), round(data2016[\"Family\"].mean(),2), round(data2017[\"Family\"].mean(),2),round(data2018[\"Family\"].mean(),2), \n",
    "          round(data2019[\"Family\"].mean(),2), round(data2020[\"Family\"].mean(),2)]\n",
    "fig = plt.figure()\n",
    "fig, ax = plt.subplots(figsize=(5,3))\n",
    "plt.barh(y_axis, x_axis, align='center', color = 'y', alpha = 0.7)\n",
    "plt.xlabel(\"Family Score\")\n",
    "plt.ylabel(\"Years\")\n",
    "plt.title(\"Average Family by Years\")\n",
    "\n",
    "y_axis = [\"2015\", \"2016\", \"2017\", \"2018\", \"2019\", \"2020\"]\n",
    "x_axis = [round(data2015[\"Health (Life Expectancy)\"].mean(),2), round(data2016[\"Health (Life Expectancy)\"].mean(),2), round(data2017[\"Health (Life Expectancy)\"].mean(),2),round(data2018[\"Health (Life Expectancy)\"].mean(),2), \n",
    "          round(data2019[\"Health (Life Expectancy)\"].mean(),2), round(data2020[\"Health (Life Expectancy)\"].mean(),2)]\n",
    "fig = plt.figure()\n",
    "fig, ax = plt.subplots(figsize=(5,3))\n",
    "plt.barh(y_axis, x_axis, align='center', color = 'g', alpha = 0.7)\n",
    "plt.xlabel(\"Health (Life Expectancy)\")\n",
    "plt.ylabel(\"Years\")\n",
    "plt.title(\"Average Health by Years\")\n",
    "\n",
    "\n",
    "x_axis = [\"2015\", \"2016\", \"2017\", \"2018\", \"2019\", \"2020\"]\n",
    "y_axis = [round(data2015[\"Freedom\"].mean(),2), round(data2016[\"Freedom\"].mean(),2), round(data2017[\"Freedom\"].mean(),2),round(data2018[\"Freedom\"].mean(),2), \n",
    "          round(data2019[\"Freedom\"].mean(),2), round(data2020[\"Freedom\"].mean(),2)]\n",
    "fig = plt.figure()\n",
    "fig, ax = plt.subplots(figsize=(5,3))\n",
    "plt.barh(x_axis, y_axis, align='center', color = 'r', alpha = 0.7)\n",
    "plt.xlabel(\"Freedom Score\")\n",
    "plt.ylabel(\"Years\")\n",
    "plt.title(\"Average Freedom Score by Years\")\n",
    "\n",
    "x_axis = [\"2015\", \"2016\", \"2017\", \"2018\", \"2019\", \"2020\"]\n",
    "y_axis = [round(data2015[\"Trust (Government Corruption)\"].mean(),2), round(data2016[\"Trust (Government Corruption)\"].mean(),2), round(data2017[\"Trust (Government Corruption)\"].mean(),2),round(data2018[\"Trust (Government Corruption)\"].mean(),2), \n",
    "          round(data2019[\"Trust (Government Corruption)\"].mean(),2), round(data2020[\"Trust (Government Corruption)\"].mean(),2)]\n",
    "fig = plt.figure()\n",
    "fig, ax = plt.subplots(figsize=(5,3))\n",
    "plt.barh(x_axis, y_axis, align='center', color = 'orange', alpha = 0.7)\n",
    "plt.xlabel(\"Government Score\")\n",
    "plt.ylabel(\"Years\")\n",
    "plt.title(\"Average Trust Score by Years\")\n",
    "\n",
    "x_axis = [\"2015\", \"2016\", \"2017\", \"2018\", \"2019\", \"2020\"]\n",
    "y_axis = [round(data2015[\"Generosity\"].mean(),2), round(data2016[\"Generosity\"].mean(),2), round(data2017[\"Generosity\"].mean(),2),round(data2018[\"Generosity\"].mean(),2), \n",
    "          round(data2019[\"Generosity\"].mean(),2), round(data2020[\"Generosity\"].mean(),2)]\n",
    "fig = plt.figure()\n",
    "fig, ax = plt.subplots(figsize=(5,3))\n",
    "plt.barh(x_axis, y_axis, align='center', color = 'gray', alpha = 0.7)\n",
    "plt.xlabel(\"Generosity\")\n",
    "plt.ylabel(\"Years\")\n",
    "plt.title(\"Average Generosity Score by Years\")\n",
    "\n",
    "plt.show()"
   ]
  },
  {
   "cell_type": "code",
   "execution_count": 118,
   "metadata": {},
   "outputs": [
    {
     "data": {
      "text/html": [
       "<div>\n",
       "<style scoped>\n",
       "    .dataframe tbody tr th:only-of-type {\n",
       "        vertical-align: middle;\n",
       "    }\n",
       "\n",
       "    .dataframe tbody tr th {\n",
       "        vertical-align: top;\n",
       "    }\n",
       "\n",
       "    .dataframe thead th {\n",
       "        text-align: right;\n",
       "    }\n",
       "</style>\n",
       "<table border=\"1\" class=\"dataframe\">\n",
       "  <thead>\n",
       "    <tr style=\"text-align: right;\">\n",
       "      <th></th>\n",
       "      <th>Region</th>\n",
       "      <th>Count</th>\n",
       "    </tr>\n",
       "  </thead>\n",
       "  <tbody>\n",
       "    <tr>\n",
       "      <th>0</th>\n",
       "      <td>Australia and New Zealand</td>\n",
       "      <td>2</td>\n",
       "    </tr>\n",
       "    <tr>\n",
       "      <th>1</th>\n",
       "      <td>Central and Eastern Europe</td>\n",
       "      <td>29</td>\n",
       "    </tr>\n",
       "    <tr>\n",
       "      <th>2</th>\n",
       "      <td>Eastern Asia</td>\n",
       "      <td>6</td>\n",
       "    </tr>\n",
       "    <tr>\n",
       "      <th>3</th>\n",
       "      <td>Latin America and Caribbean</td>\n",
       "      <td>22</td>\n",
       "    </tr>\n",
       "    <tr>\n",
       "      <th>4</th>\n",
       "      <td>Middle East and Northern Africa</td>\n",
       "      <td>20</td>\n",
       "    </tr>\n",
       "    <tr>\n",
       "      <th>5</th>\n",
       "      <td>North America</td>\n",
       "      <td>2</td>\n",
       "    </tr>\n",
       "    <tr>\n",
       "      <th>6</th>\n",
       "      <td>Southeastern Asia</td>\n",
       "      <td>9</td>\n",
       "    </tr>\n",
       "    <tr>\n",
       "      <th>7</th>\n",
       "      <td>Southern Asia</td>\n",
       "      <td>7</td>\n",
       "    </tr>\n",
       "    <tr>\n",
       "      <th>8</th>\n",
       "      <td>Sub-Saharan Africa</td>\n",
       "      <td>40</td>\n",
       "    </tr>\n",
       "    <tr>\n",
       "      <th>9</th>\n",
       "      <td>Western Europe</td>\n",
       "      <td>21</td>\n",
       "    </tr>\n",
       "  </tbody>\n",
       "</table>\n",
       "</div>"
      ],
      "text/plain": [
       "                            Region  Count\n",
       "0        Australia and New Zealand      2\n",
       "1       Central and Eastern Europe     29\n",
       "2                     Eastern Asia      6\n",
       "3      Latin America and Caribbean     22\n",
       "4  Middle East and Northern Africa     20\n",
       "5                    North America      2\n",
       "6                Southeastern Asia      9\n",
       "7                    Southern Asia      7\n",
       "8               Sub-Saharan Africa     40\n",
       "9                   Western Europe     21"
      ]
     },
     "execution_count": 118,
     "metadata": {},
     "output_type": "execute_result"
    }
   ],
   "source": [
    "region_counts = pd.DataFrame(data2015.groupby([\"Region\"]).count()).reset_index()\n",
    "#filter the data frame\n",
    "region_counts = region_counts[[\"Region\",\"Country\"]]\n",
    "region_counts = region_counts.rename(columns={\"Country\":\"Count\"})\n",
    "region_counts"
   ]
  },
  {
   "cell_type": "code",
   "execution_count": 123,
   "metadata": {},
   "outputs": [
    {
     "data": {
      "text/plain": [
       "(-1.1000000086217028,\n",
       " 1.1000000012258402,\n",
       " -1.1103791116775072,\n",
       " 1.106936850205068)"
      ]
     },
     "execution_count": 123,
     "metadata": {},
     "output_type": "execute_result"
    },
    {
     "data": {
      "image/png": "[encoded data removed]",
      "text/plain": [
       "<Figure size 432x288 with 1 Axes>"
      ]
     },
     "metadata": {},
     "output_type": "display_data"
    }
   ],
   "source": [
    "# Generate a pie plot showing the distribution of female versus male mice using pyplot\n",
    "gender_count = (data2015.groupby([\"Region\"])[\"Country\"].count()).tolist()\n",
    "labels = [\"Australia and New Zealand\",\"Central and Eastern Europe\", \"Eastern Asia\", \"Latin America and Caribbean\", \n",
    "         \"Middle East and Northern Africa\", \"North America\", \"Southeastern Asia\", \"Southern Asia\", \"Sub-Saharan Africa\", \"Western Europe\"]\n",
    "color = [\"blue\",\"orange\",\"yellow\",\"red\",\"purple\",\"pink\",\"green\",\"gray\",\"black\",\"teal\"]\n",
    "explode = (0,0,0,0,0,0,0,0,0,0)\n",
    "plt.pie(gender_count, explode=explode, labels=labels, colors=color, autopct='%1.1f%%', shadow=False, startangle=180)\n",
    "plt.axis(\"equal\")"
   ]
  },
  {
   "cell_type": "code",
   "execution_count": 162,
   "metadata": {},
   "outputs": [
    {
     "name": "stdout",
     "output_type": "stream",
     "text": [
      "The r-squared is: 0.5718486435451401\n"
     ]
    },
    {
     "data": {
      "image/png": "[encoded data removed]",
      "text/plain": [
       "<Figure size 432x288 with 1 Axes>"
      ]
     },
     "metadata": {
      "needs_background": "light"
     },
     "output_type": "display_data"
    }
   ],
   "source": [
    "#Create x and y values\n",
    "x_value = summary_table[\"Average Happiness Score\"]\n",
    "y_value = summary_table[\"Average Family\"]\n",
    "\n",
    "#creating the linear regression\n",
    "(slope, intercept, rvalue, pvalue, stderr) = linregress(x_value, y_value)\n",
    "\n",
    "#set up regression formula\n",
    "regress_values = x_value * slope + intercept\n",
    "\n",
    "#Set up line equation\n",
    "line_eq = \"y =\" + str(round(slope,2)) + \"x + \" + str(round(intercept,2))\n",
    "\n",
    "plt.scatter(x_value, y_value)\n",
    "plt.plot(x_value, regress_values, \"r-\")\n",
    "plt.annotate(line_eq,(6,10),fontsize=15,color=\"red\")\n",
    "\n",
    "plt.xlabel(\"Average Happiness Score\")\n",
    "plt.ylabel(\"Average Family\")\n",
    "plt.title(\"Happiness Score vs. Family\")\n",
    "print(f\"The r-squared is: {rvalue**2}\")\n",
    "plt.show()"
   ]
  },
  {
   "cell_type": "code",
   "execution_count": 156,
   "metadata": {},
   "outputs": [
    {
     "name": "stdout",
     "output_type": "stream",
     "text": [
      "The r-squared is: 0.8772405070114015\n"
     ]
    },
    {
     "data": {
      "image/png": "[encoded data removed]",
      "text/plain": [
       "<Figure size 432x288 with 1 Axes>"
      ]
     },
     "metadata": {
      "needs_background": "light"
     },
     "output_type": "display_data"
    }
   ],
   "source": [
    "#Create x and y values\n",
    "x_value = summary_table[\"Average Health (Life Expectancy)\"]\n",
    "y_value = summary_table[\"Average Economy (GDP per Capita)\"]\n",
    "\n",
    "#creating the linear regression\n",
    "(slope, intercept, rvalue, pvalue, stderr) = linregress(x_value, y_value)\n",
    "\n",
    "#set up regression formula\n",
    "regress_values = x_value * slope + intercept\n",
    "\n",
    "#Set up line equation\n",
    "line_eq = \"y =\" + str(round(slope,2)) + \"x + \" + str(round(intercept,2))\n",
    "\n",
    "plt.scatter(x_value, y_value)\n",
    "plt.plot(x_value, regress_values, \"r-\")\n",
    "plt.annotate(line_eq,(6,10),fontsize=15,color=\"red\")\n",
    "\n",
    "plt.xlabel(\"Average Health (Life Expectancy)\")\n",
    "plt.ylabel(\"Average Economy (GDP per Capita)\")\n",
    "plt.title(\"Health vs. GDP\")\n",
    "print(f\"The r-squared is: {rvalue**2}\")\n",
    "plt.show()"
   ]
  },
  {
   "cell_type": "code",
   "execution_count": 171,
   "metadata": {},
   "outputs": [
    {
     "ename": "NameError",
     "evalue": "name 'pc' is not defined",
     "output_type": "error",
     "traceback": [
      "\u001b[1;31m---------------------------------------------------------------------------\u001b[0m",
      "\u001b[1;31mNameError\u001b[0m                                 Traceback (most recent call last)",
      "\u001b[1;32m<ipython-input-171-2c40ff596b01>\u001b[0m in \u001b[0;36m<module>\u001b[1;34m\u001b[0m\n\u001b[1;32m----> 1\u001b[1;33m fig = pc.scatter_geo(combined_data,\n\u001b[0m\u001b[0;32m      2\u001b[0m     \u001b[0mlocations\u001b[0m \u001b[1;33m=\u001b[0m \u001b[0mcombined_data\u001b[0m\u001b[1;33m[\u001b[0m\u001b[1;34m'Country'\u001b[0m\u001b[1;33m]\u001b[0m\u001b[1;33m,\u001b[0m\u001b[1;33m\u001b[0m\u001b[1;33m\u001b[0m\u001b[0m\n\u001b[0;32m      3\u001b[0m     \u001b[0mlocationmode\u001b[0m \u001b[1;33m=\u001b[0m \u001b[1;34m\"country names\"\u001b[0m\u001b[1;33m,\u001b[0m\u001b[1;33m\u001b[0m\u001b[1;33m\u001b[0m\u001b[0m\n\u001b[0;32m      4\u001b[0m     \u001b[0mhover_data\u001b[0m \u001b[1;33m=\u001b[0m \u001b[1;33m[\u001b[0m\u001b[1;34m'Country'\u001b[0m\u001b[1;33m,\u001b[0m\u001b[1;34m'Happiness Score'\u001b[0m\u001b[1;33m,\u001b[0m\u001b[1;34m'Year'\u001b[0m\u001b[1;33m]\u001b[0m\u001b[1;33m,\u001b[0m\u001b[1;33m\u001b[0m\u001b[1;33m\u001b[0m\u001b[0m\n\u001b[0;32m      5\u001b[0m     \u001b[0msize\u001b[0m\u001b[1;33m=\u001b[0m\u001b[1;34m'Happiness Score'\u001b[0m\u001b[1;33m,\u001b[0m\u001b[1;33m\u001b[0m\u001b[1;33m\u001b[0m\u001b[0m\n",
      "\u001b[1;31mNameError\u001b[0m: name 'pc' is not defined"
     ]
    }
   ],
   "source": [
    "fig = pc.scatter_geo(combined_data,\n",
    "    locations = combined_data['Country'],\n",
    "    locationmode = \"country names\",\n",
    "    hover_data = ['Country','Happiness Score','Year'],\n",
    "    size='Happiness Score',\n",
    "    color='Happiness Score',animation_frame='Year',width=1200,height=800)\n",
    "\n",
    "fig.update_layout(title = dict(text=\"World Happiness Report(2015-2020)\",y=0.9,x=0.5,xanchor='center',yanchor='top'),geo=dict(\n",
    "        showframe=False,\n",
    "        showcoastlines=False,\n",
    "        projection_type='equirectangular'),margin=dict(l=20, r=50, t=110, b=20),font=dict(size=15,color='Blue'))\n",
    "\n",
    "\n",
    "fig.show()"
   ]
  },
  {
   "cell_type": "code",
   "execution_count": null,
   "metadata": {},
   "outputs": [],
   "source": []
  }
 ],
 "metadata": {
  "kernelspec": {
   "display_name": "Python [conda env:PthonData] *",
   "language": "python",
   "name": "conda-env-PthonData-py"
  },
  "language_info": {
   "codemirror_mode": {
    "name": "ipython",
    "version": 3
   },
   "file_extension": ".py",
   "mimetype": "text/x-python",
   "name": "python",
   "nbconvert_exporter": "python",
   "pygments_lexer": "ipython3",
   "version": "3.7.1"
  }
 },
 "nbformat": 4,
 "nbformat_minor": 4
}
